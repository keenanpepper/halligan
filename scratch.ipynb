{
 "cells": [
  {
   "cell_type": "code",
   "execution_count": 1,
   "metadata": {},
   "outputs": [],
   "source": [
    "import numpy as np\n",
    "import torch\n",
    "from ax.service.ax_client import AxClient, ObjectiveProperties\n",
    "from ax.modelbridge.modelbridge_utils import extract_search_space_digest\n",
    "from ax.models.torch_base import TorchOptConfig"
   ]
  },
  {
   "cell_type": "code",
   "execution_count": 2,
   "metadata": {},
   "outputs": [
    {
     "name": "stderr",
     "output_type": "stream",
     "text": [
      "[INFO 02-12 17:38:50] ax.service.ax_client: Starting optimization with verbose logging. To disable logging, set the `verbose_logging` argument to `False`. Note that float values in the logs are rounded to 6 decimal points.\n",
      "[INFO 02-12 17:38:50] ax.service.utils.instantiation: Created search space: SearchSpace(parameters=[RangeParameter(name='param0', parameter_type=FLOAT, range=[-1.0, 1.0]), RangeParameter(name='param1', parameter_type=FLOAT, range=[-1.0, 1.0]), RangeParameter(name='param2', parameter_type=FLOAT, range=[-1.0, 1.0]), RangeParameter(name='param3', parameter_type=FLOAT, range=[-1.0, 1.0]), RangeParameter(name='param4', parameter_type=FLOAT, range=[-1.0, 1.0]), RangeParameter(name='param5', parameter_type=FLOAT, range=[-1.0, 1.0]), RangeParameter(name='param6', parameter_type=FLOAT, range=[-1.0, 1.0]), RangeParameter(name='param7', parameter_type=FLOAT, range=[-1.0, 1.0]), RangeParameter(name='param8', parameter_type=FLOAT, range=[-1.0, 1.0]), RangeParameter(name='param9', parameter_type=FLOAT, range=[-1.0, 1.0])], parameter_constraints=[]).\n",
      "[INFO 02-12 17:38:50] ax.modelbridge.dispatch_utils: Using Models.BOTORCH_MODULAR since there is at least one ordered parameter and there are no unordered categorical parameters.\n",
      "[INFO 02-12 17:38:50] ax.modelbridge.dispatch_utils: Calculating the number of remaining initialization trials based on num_initialization_trials=None max_initialization_trials=None num_tunable_parameters=10 num_trials=None use_batch_trials=False\n",
      "[INFO 02-12 17:38:50] ax.modelbridge.dispatch_utils: calculated num_initialization_trials=20\n",
      "[INFO 02-12 17:38:50] ax.modelbridge.dispatch_utils: num_completed_initialization_trials=0 num_remaining_initialization_trials=20\n",
      "[INFO 02-12 17:38:50] ax.modelbridge.dispatch_utils: `verbose`, `disable_progbar`, and `jit_compile` are not yet supported when using `choose_generation_strategy` with ModularBoTorchModel, dropping these arguments.\n",
      "[INFO 02-12 17:38:50] ax.modelbridge.dispatch_utils: Using Bayesian Optimization generation strategy: GenerationStrategy(name='Sobol+BoTorch', steps=[Sobol for 20 trials, BoTorch for subsequent trials]). Iterations after 20 will take longer to generate due to model-fitting.\n"
     ]
    }
   ],
   "source": [
    "# Setup Ax client\n",
    "ax_client = AxClient()\n",
    "ax_client.create_experiment(\n",
    "    name=\"test1\",\n",
    "    parameters=[\n",
    "        {\n",
    "            \"name\": \"param\" + str(feature_idx),\n",
    "            \"type\": \"range\",\n",
    "            \"bounds\": [-1.0, 1.0],\n",
    "            \"value_type\": \"float\",\n",
    "        }\n",
    "        for feature_idx in range(10)\n",
    "    ],\n",
    "    objectives={\n",
    "        \"score\": ObjectiveProperties(minimize=False),\n",
    "    }\n",
    ")"
   ]
  },
  {
   "cell_type": "code",
   "execution_count": 3,
   "metadata": {},
   "outputs": [],
   "source": [
    "# Initialize fixed random Gaussian centers and covariances\n",
    "_centers = [\n",
    "    np.random.randn(10) * 0.5,  # Center 1\n",
    "    np.random.randn(10) * 0.5,  # Center 2\n",
    "    np.random.randn(10) * 0.5   # Center 3\n",
    "]\n",
    "\n",
    "# Create fixed random positive definite covariance matrices\n",
    "_covs = []\n",
    "for _ in range(3):\n",
    "    A = np.random.randn(10, 10)\n",
    "    cov = A.T @ A + np.eye(10)  # Ensure positive definite\n",
    "    _covs.append(cov * 0.3)  # Scale down to avoid too sharp peaks\n",
    "\n",
    "def score(parameterization):\n",
    "    # Convert parameterization to numpy array\n",
    "    x = np.array([parameterization[f\"param{i}\"] for i in range(10)])\n",
    "    \n",
    "    # Sum up the Gaussians using fixed centers and covariances\n",
    "    result = 0\n",
    "    for center, cov in zip(_centers, _covs):\n",
    "        diff = x - center\n",
    "        result += np.exp(-0.5 * diff @ np.linalg.solve(cov, diff))\n",
    "    \n",
    "    return {\"score\": float(result)}\n"
   ]
  },
  {
   "cell_type": "code",
   "execution_count": 4,
   "metadata": {},
   "outputs": [
    {
     "name": "stderr",
     "output_type": "stream",
     "text": [
      "/Users/keenanpepper/ax-feature-importance/.venv/lib/python3.12/site-packages/ax/modelbridge/cross_validation.py:463: UserWarning: Encountered exception in computing model fit quality: RandomModelBridge does not support prediction.\n",
      "  warn(\"Encountered exception in computing model fit quality: \" + str(e))\n",
      "[INFO 02-12 17:38:50] ax.service.ax_client: Generated new trial 0 with parameters {'param0': 0.694142, 'param1': -0.969714, 'param2': 0.140363, 'param3': -0.401517, 'param4': 0.678007, 'param5': -0.768378, 'param6': -0.589432, 'param7': -0.939017, 'param8': -0.676749, 'param9': -0.468304} using model Sobol.\n"
     ]
    },
    {
     "name": "stderr",
     "output_type": "stream",
     "text": [
      "[INFO 02-12 17:38:50] ax.service.ax_client: Completed trial 0 with data: {'score': (0.319113, None)}.\n",
      "/Users/keenanpepper/ax-feature-importance/.venv/lib/python3.12/site-packages/ax/modelbridge/cross_validation.py:463: UserWarning: Encountered exception in computing model fit quality: RandomModelBridge does not support prediction.\n",
      "  warn(\"Encountered exception in computing model fit quality: \" + str(e))\n",
      "[INFO 02-12 17:38:50] ax.service.ax_client: Generated new trial 1 with parameters {'param0': -0.246052, 'param1': 0.880806, 'param2': -0.087701, 'param3': 0.812069, 'param4': -0.575936, 'param5': 0.392971, 'param6': 0.412205, 'param7': 0.627377, 'param8': 0.14629, 'param9': 0.168723} using model Sobol.\n",
      "[INFO 02-12 17:38:50] ax.service.ax_client: Completed trial 1 with data: {'score': (1.000659, None)}.\n",
      "/Users/keenanpepper/ax-feature-importance/.venv/lib/python3.12/site-packages/ax/modelbridge/cross_validation.py:463: UserWarning: Encountered exception in computing model fit quality: RandomModelBridge does not support prediction.\n",
      "  warn(\"Encountered exception in computing model fit quality: \" + str(e))\n",
      "[INFO 02-12 17:38:50] ax.service.ax_client: Generated new trial 2 with parameters {'param0': -0.531912, 'param1': -0.492565, 'param2': 0.514838, 'param3': -0.808491, 'param4': -0.124197, 'param5': 0.816378, 'param6': -0.43619, 'param7': 0.211447, 'param8': 0.875672, 'param9': 0.954852} using model Sobol.\n",
      "[INFO 02-12 17:38:50] ax.service.ax_client: Completed trial 2 with data: {'score': (0.355251, None)}.\n",
      "/Users/keenanpepper/ax-feature-importance/.venv/lib/python3.12/site-packages/ax/modelbridge/cross_validation.py:463: UserWarning: Encountered exception in computing model fit quality: RandomModelBridge does not support prediction.\n",
      "  warn(\"Encountered exception in computing model fit quality: \" + str(e))\n",
      "[INFO 02-12 17:38:50] ax.service.ax_client: Generated new trial 3 with parameters {'param0': 0.028891, 'param1': 0.403742, 'param2': -0.712177, 'param3': 0.405567, 'param4': 0.129547, 'param5': -0.440734, 'param6': 0.565573, 'param7': -0.40176, 'param8': -0.40772, 'param9': -0.658731} using model Sobol.\n",
      "[INFO 02-12 17:38:50] ax.service.ax_client: Completed trial 3 with data: {'score': (1.031746, None)}.\n",
      "/Users/keenanpepper/ax-feature-importance/.venv/lib/python3.12/site-packages/ax/modelbridge/cross_validation.py:463: UserWarning: Encountered exception in computing model fit quality: RandomModelBridge does not support prediction.\n",
      "  warn(\"Encountered exception in computing model fit quality: \" + str(e))\n",
      "[INFO 02-12 17:38:50] ax.service.ax_client: Generated new trial 4 with parameters {'param0': 0.496673, 'param1': -0.002508, 'param2': -0.27213, 'param3': 0.063532, 'param4': 0.373106, 'param5': -0.561355, 'param6': -0.033477, 'param7': 0.381023, 'param8': 0.610467, 'param9': 0.486852} using model Sobol.\n",
      "[INFO 02-12 17:38:50] ax.service.ax_client: Completed trial 4 with data: {'score': (0.8132, None)}.\n",
      "/Users/keenanpepper/ax-feature-importance/.venv/lib/python3.12/site-packages/ax/modelbridge/cross_validation.py:463: UserWarning: Encountered exception in computing model fit quality: RandomModelBridge does not support prediction.\n",
      "  warn(\"Encountered exception in computing model fit quality: \" + str(e))\n",
      "[INFO 02-12 17:38:50] ax.service.ax_client: Generated new trial 5 with parameters {'param0': -0.939147, 'param1': 0.101185, 'param2': 0.43834, 'param3': -0.724271, 'param4': -0.380413, 'param5': 0.185931, 'param6': 0.968547, 'param7': -0.193152, 'param8': -0.078305, 'param9': -0.126739} using model Sobol.\n",
      "[INFO 02-12 17:38:50] ax.service.ax_client: Completed trial 5 with data: {'score': (1.075593, None)}.\n",
      "/Users/keenanpepper/ax-feature-importance/.venv/lib/python3.12/site-packages/ax/modelbridge/cross_validation.py:463: UserWarning: Encountered exception in computing model fit quality: RandomModelBridge does not support prediction.\n",
      "  warn(\"Encountered exception in computing model fit quality: \" + str(e))\n",
      "[INFO 02-12 17:38:50] ax.service.ax_client: Generated new trial 6 with parameters {'param0': -0.276334, 'param1': -0.525444, 'param2': -0.896621, 'param3': 0.720508, 'param4': -0.929099, 'param5': 0.609356, 'param6': -0.944807, 'param7': -0.655406, 'param8': -0.817702, 'param9': -0.996852} using model Sobol.\n",
      "[INFO 02-12 17:38:50] ax.service.ax_client: Completed trial 6 with data: {'score': (0.212932, None)}.\n",
      "/Users/keenanpepper/ax-feature-importance/.venv/lib/python3.12/site-packages/ax/modelbridge/cross_validation.py:463: UserWarning: Encountered exception in computing model fit quality: RandomModelBridge does not support prediction.\n",
      "  warn(\"Encountered exception in computing model fit quality: \" + str(e))\n",
      "[INFO 02-12 17:38:50] ax.service.ax_client: Generated new trial 7 with parameters {'param0': 0.788877, 'param1': 0.624036, 'param2': 0.81283, 'param3': -0.06777, 'param4': 0.825077, 'param5': -0.233695, 'param6': 0.057581, 'param7': 0.965582, 'param8': 0.348032, 'param9': 0.640167} using model Sobol.\n",
      "[INFO 02-12 17:38:50] ax.service.ax_client: Completed trial 7 with data: {'score': (0.632448, None)}.\n",
      "/Users/keenanpepper/ax-feature-importance/.venv/lib/python3.12/site-packages/ax/modelbridge/cross_validation.py:463: UserWarning: Encountered exception in computing model fit quality: RandomModelBridge does not support prediction.\n",
      "  warn(\"Encountered exception in computing model fit quality: \" + str(e))\n",
      "[INFO 02-12 17:38:50] ax.service.ax_client: Generated new trial 8 with parameters {'param0': 0.983632, 'param1': -0.331487, 'param2': -0.871833, 'param3': -0.591315, 'param4': -0.694604, 'param5': -0.33288, 'param6': -0.177151, 'param7': 0.326427, 'param8': 0.664172, 'param9': -0.597787} using model Sobol.\n",
      "[INFO 02-12 17:38:50] ax.service.ax_client: Completed trial 8 with data: {'score': (0.116697, None)}.\n",
      "/Users/keenanpepper/ax-feature-importance/.venv/lib/python3.12/site-packages/ax/modelbridge/cross_validation.py:463: UserWarning: Encountered exception in computing model fit quality: RandomModelBridge does not support prediction.\n",
      "  warn(\"Encountered exception in computing model fit quality: \" + str(e))\n",
      "[INFO 02-12 17:38:50] ax.service.ax_client: Generated new trial 9 with parameters {'param0': -0.455098, 'param1': 0.303209, 'param2': 0.916705, 'param3': 0.243317, 'param4': 0.559338, 'param5': 0.957432, 'param6': 0.821213, 'param7': -0.013312, 'param8': -0.133964, 'param9': 0.772876} using model Sobol.\n",
      "[INFO 02-12 17:38:50] ax.service.ax_client: Completed trial 9 with data: {'score': (1.002862, None)}.\n",
      "/Users/keenanpepper/ax-feature-importance/.venv/lib/python3.12/site-packages/ax/modelbridge/cross_validation.py:463: UserWarning: Encountered exception in computing model fit quality: RandomModelBridge does not support prediction.\n",
      "  warn(\"Encountered exception in computing model fit quality: \" + str(e))\n",
      "[INFO 02-12 17:38:50] ax.service.ax_client: Generated new trial 10 with parameters {'param0': -0.759146, 'param1': -0.824153, 'param2': -0.49638, 'param3': -0.247329, 'param4': 0.013841, 'param5': 0.255826, 'param6': -0.82847, 'param7': -0.585247, 'param8': -0.902654, 'param9': 0.103934} using model Sobol.\n",
      "[INFO 02-12 17:38:50] ax.service.ax_client: Completed trial 10 with data: {'score': (0.107818, None)}.\n",
      "/Users/keenanpepper/ax-feature-importance/.venv/lib/python3.12/site-packages/ax/modelbridge/cross_validation.py:463: UserWarning: Encountered exception in computing model fit quality: RandomModelBridge does not support prediction.\n",
      "  warn(\"Encountered exception in computing model fit quality: \" + str(e))\n",
      "[INFO 02-12 17:38:50] ax.service.ax_client: Generated new trial 11 with parameters {'param0': 0.301169, 'param1': 0.795791, 'param2': 0.291253, 'param3': 0.587807, 'param4': -0.239903, 'param5': -0.880127, 'param6': 0.169767, 'param7': 0.770178, 'param8': 0.434938, 'param9': -0.274548} using model Sobol.\n",
      "[INFO 02-12 17:38:50] ax.service.ax_client: Completed trial 11 with data: {'score': (0.736697, None)}.\n",
      "/Users/keenanpepper/ax-feature-importance/.venv/lib/python3.12/site-packages/ax/modelbridge/cross_validation.py:463: UserWarning: Encountered exception in computing model fit quality: RandomModelBridge does not support prediction.\n",
      "  warn(\"Encountered exception in computing model fit quality: \" + str(e))\n",
      "[INFO 02-12 17:38:50] ax.service.ax_client: Generated new trial 12 with parameters {'param0': 0.208404, 'param1': -0.672959, 'param2': 0.724441, 'param3': 0.882478, 'param4': -0.264705, 'param5': -0.118027, 'param6': -0.699909, 'param7': -0.759665, 'param8': -0.607419, 'param9': 0.571412} using model Sobol.\n",
      "[INFO 02-12 17:38:50] ax.service.ax_client: Completed trial 12 with data: {'score': (0.340316, None)}.\n",
      "/Users/keenanpepper/ax-feature-importance/.venv/lib/python3.12/site-packages/ax/modelbridge/cross_validation.py:463: UserWarning: Encountered exception in computing model fit quality: RandomModelBridge does not support prediction.\n",
      "  warn(\"Encountered exception in computing model fit quality: \" + str(e))\n",
      "[INFO 02-12 17:38:50] ax.service.ax_client: Generated new trial 13 with parameters {'param0': -0.726928, 'param1': 0.707097, 'param2': -0.550441, 'param3': -0.284186, 'param4': 0.488815, 'param5': 0.742597, 'param6': 0.298065, 'param7': 0.572292, 'param8': 0.075005, 'param9': -0.807062} using model Sobol.\n",
      "[INFO 02-12 17:38:50] ax.service.ax_client: Completed trial 13 with data: {'score': (0.452378, None)}.\n",
      "/Users/keenanpepper/ax-feature-importance/.venv/lib/python3.12/site-packages/ax/modelbridge/cross_validation.py:463: UserWarning: Encountered exception in computing model fit quality: RandomModelBridge does not support prediction.\n",
      "  warn(\"Encountered exception in computing model fit quality: \" + str(e))\n",
      "[INFO 02-12 17:38:50] ax.service.ax_client: Generated new trial 14 with parameters {'param0': -0.049833, 'param1': -0.165542, 'param2': 0.098974, 'param3': 0.288491, 'param4': 0.943744, 'param5': 0.040975, 'param6': -0.290564, 'param7': 0.016532, 'param8': 0.837596, 'param9': -0.069763} using model Sobol.\n",
      "[INFO 02-12 17:38:50] ax.service.ax_client: Completed trial 14 with data: {'score': (0.374244, None)}.\n",
      "/Users/keenanpepper/ax-feature-importance/.venv/lib/python3.12/site-packages/ax/modelbridge/cross_validation.py:463: UserWarning: Encountered exception in computing model fit quality: RandomModelBridge does not support prediction.\n",
      "  warn(\"Encountered exception in computing model fit quality: \" + str(e))\n",
      "[INFO 02-12 17:38:50] ax.service.ax_client: Generated new trial 15 with parameters {'param0': 0.513914, 'param1': 0.199763, 'param2': -0.174974, 'param3': -0.878675, 'param4': -0.810432, 'param5': -0.665292, 'param6': 0.707049, 'param7': -0.331112, 'param8': -0.367689, 'param9': 0.300908} using model Sobol.\n",
      "[INFO 02-12 17:38:50] ax.service.ax_client: Completed trial 15 with data: {'score': (1.011995, None)}.\n",
      "/Users/keenanpepper/ax-feature-importance/.venv/lib/python3.12/site-packages/ax/modelbridge/cross_validation.py:463: UserWarning: Encountered exception in computing model fit quality: RandomModelBridge does not support prediction.\n",
      "  warn(\"Encountered exception in computing model fit quality: \" + str(e))\n",
      "[INFO 02-12 17:38:50] ax.service.ax_client: Generated new trial 16 with parameters {'param0': 0.623837, 'param1': -0.207457, 'param2': 0.946184, 'param3': 0.640608, 'param4': 0.207499, 'param5': 0.680169, 'param6': 0.480965, 'param7': 0.106914, 'param8': -0.193764, 'param9': -0.23176} using model Sobol.\n",
      "[INFO 02-12 17:38:50] ax.service.ax_client: Completed trial 16 with data: {'score': (0.361487, None)}.\n",
      "/Users/keenanpepper/ax-feature-importance/.venv/lib/python3.12/site-packages/ax/modelbridge/cross_validation.py:463: UserWarning: Encountered exception in computing model fit quality: RandomModelBridge does not support prediction.\n",
      "  warn(\"Encountered exception in computing model fit quality: \" + str(e))\n",
      "[INFO 02-12 17:38:50] ax.service.ax_client: Generated new trial 17 with parameters {'param0': -0.066373, 'param1': 0.173229, 'param2': -0.779852, 'param3': -0.042306, 'param4': -0.046875, 'param5': -0.055455, 'param6': -0.516659, 'param7': -0.295508, 'param8': 0.725935, 'param9': 0.404407} using model Sobol.\n",
      "[INFO 02-12 17:38:50] ax.service.ax_client: Completed trial 17 with data: {'score': (0.346967, None)}.\n",
      "/Users/keenanpepper/ax-feature-importance/.venv/lib/python3.12/site-packages/ax/modelbridge/cross_validation.py:463: UserWarning: Encountered exception in computing model fit quality: RandomModelBridge does not support prediction.\n",
      "  warn(\"Encountered exception in computing model fit quality: \" + str(e))\n",
      "[INFO 02-12 17:38:50] ax.service.ax_client: Generated new trial 18 with parameters {'param0': -0.649107, 'param1': -0.700135, 'param2': 0.320733, 'param3': 0.046118, 'param4': -0.528384, 'param5': -0.727873, 'param6': 0.509516, 'param7': -0.863719, 'param8': 0.48648, 'param9': 0.721793} using model Sobol.\n",
      "[INFO 02-12 17:38:50] ax.service.ax_client: Completed trial 18 with data: {'score': (0.715004, None)}.\n",
      "/Users/keenanpepper/ax-feature-importance/.venv/lib/python3.12/site-packages/ax/modelbridge/cross_validation.py:463: UserWarning: Encountered exception in computing model fit quality: RandomModelBridge does not support prediction.\n",
      "  warn(\"Encountered exception in computing model fit quality: \" + str(e))\n",
      "[INFO 02-12 17:38:50] ax.service.ax_client: Generated new trial 19 with parameters {'param0': 0.161711, 'param1': 0.666005, 'param2': -0.4044, 'param3': -0.636292, 'param4': 0.725181, 'param5': 0.103394, 'param6': -0.488478, 'param7': 0.554266, 'param8': -0.956142, 'param9': -0.890942} using model Sobol.\n",
      "[INFO 02-12 17:38:50] ax.service.ax_client: Completed trial 19 with data: {'score': (0.139692, None)}.\n"
     ]
    },
    {
     "name": "stdout",
     "output_type": "stream",
     "text": [
      "{'score': 0.31911297624510215}\n",
      "{'score': 1.0006592117841806}\n",
      "{'score': 0.35525111085921207}\n",
      "{'score': 1.031745509264005}\n",
      "{'score': 0.813199754365072}\n",
      "{'score': 1.0755933235071609}\n",
      "{'score': 0.212931963769264}\n",
      "{'score': 0.6324479651601468}\n",
      "{'score': 0.11669713990765421}\n",
      "{'score': 1.0028623331329856}\n",
      "{'score': 0.10781785003608799}\n",
      "{'score': 0.7366973478876977}\n",
      "{'score': 0.3403163937636773}\n",
      "{'score': 0.4523781429077542}\n",
      "{'score': 0.3742443292656392}\n",
      "{'score': 1.0119946230844628}\n",
      "{'score': 0.3614870232762978}\n",
      "{'score': 0.3469671976148677}\n",
      "{'score': 0.7150039922418664}\n",
      "{'score': 0.13969172558630413}\n"
     ]
    },
    {
     "name": "stderr",
     "output_type": "stream",
     "text": [
      "[INFO 02-12 17:38:51] ax.service.ax_client: Generated new trial 20 with parameters {'param0': -0.252779, 'param1': 0.836473, 'param2': -0.656343, 'param3': 0.305122, 'param4': -0.310077, 'param5': -0.087799, 'param6': 0.924093, 'param7': 0.029587, 'param8': -0.421283, 'param9': 0.137748} using model BoTorch.\n",
      "[INFO 02-12 17:38:51] ax.service.ax_client: Completed trial 20 with data: {'score': (1.354156, None)}.\n"
     ]
    },
    {
     "name": "stdout",
     "output_type": "stream",
     "text": [
      "{'score': 1.3541560620433608}\n"
     ]
    },
    {
     "name": "stderr",
     "output_type": "stream",
     "text": [
      "[INFO 02-12 17:38:52] ax.service.ax_client: Generated new trial 21 with parameters {'param0': -0.218114, 'param1': -0.016425, 'param2': -1.0, 'param3': 1.0, 'param4': 0.142654, 'param5': -0.135386, 'param6': 1.0, 'param7': 1.0, 'param8': -1.0, 'param9': 0.247464} using model BoTorch.\n",
      "[INFO 02-12 17:38:52] ax.service.ax_client: Completed trial 21 with data: {'score': (0.503152, None)}.\n"
     ]
    },
    {
     "name": "stdout",
     "output_type": "stream",
     "text": [
      "{'score': 0.5031516374380018}\n"
     ]
    },
    {
     "name": "stderr",
     "output_type": "stream",
     "text": [
      "[INFO 02-12 17:38:52] ax.service.ax_client: Generated new trial 22 with parameters {'param0': -0.878777, 'param1': 0.974277, 'param2': -0.365957, 'param3': 0.79937, 'param4': -0.301839, 'param5': -0.53148, 'param6': 0.773051, 'param7': -0.020406, 'param8': 0.394004, 'param9': 0.452808} using model BoTorch.\n",
      "[INFO 02-12 17:38:52] ax.service.ax_client: Completed trial 22 with data: {'score': (0.730714, None)}.\n"
     ]
    },
    {
     "name": "stdout",
     "output_type": "stream",
     "text": [
      "{'score': 0.7307137673110333}\n"
     ]
    },
    {
     "name": "stderr",
     "output_type": "stream",
     "text": [
      "[INFO 02-12 17:38:53] ax.service.ax_client: Generated new trial 23 with parameters {'param0': -0.190552, 'param1': 0.875339, 'param2': -0.146812, 'param3': -0.437239, 'param4': -0.834025, 'param5': 0.03037, 'param6': 0.902929, 'param7': -0.218772, 'param8': -0.255725, 'param9': 0.139714} using model BoTorch.\n",
      "[INFO 02-12 17:38:53] ax.service.ax_client: Completed trial 23 with data: {'score': (1.502615, None)}.\n"
     ]
    },
    {
     "name": "stdout",
     "output_type": "stream",
     "text": [
      "{'score': 1.5026149121307366}\n"
     ]
    },
    {
     "name": "stderr",
     "output_type": "stream",
     "text": [
      "[INFO 02-12 17:38:54] ax.service.ax_client: Generated new trial 24 with parameters {'param0': -0.234529, 'param1': 1.0, 'param2': -0.416002, 'param3': -0.857975, 'param4': -1.0, 'param5': -0.42182, 'param6': 1.0, 'param7': -0.483259, 'param8': -0.193936, 'param9': 0.297915} using model BoTorch.\n",
      "[INFO 02-12 17:38:54] ax.service.ax_client: Completed trial 24 with data: {'score': (1.061103, None)}.\n"
     ]
    },
    {
     "name": "stdout",
     "output_type": "stream",
     "text": [
      "{'score': 1.0611031842908734}\n"
     ]
    },
    {
     "name": "stderr",
     "output_type": "stream",
     "text": [
      "[INFO 02-12 17:38:54] ax.service.ax_client: Generated new trial 25 with parameters {'param0': -0.144598, 'param1': 1.0, 'param2': 0.053765, 'param3': 0.163114, 'param4': -0.884223, 'param5': 0.255513, 'param6': 0.833127, 'param7': -0.268398, 'param8': -0.26558, 'param9': 0.431096} using model BoTorch.\n",
      "[INFO 02-12 17:38:55] ax.service.ax_client: Completed trial 25 with data: {'score': (1.21278, None)}.\n"
     ]
    },
    {
     "name": "stdout",
     "output_type": "stream",
     "text": [
      "{'score': 1.212780456521248}\n"
     ]
    },
    {
     "name": "stderr",
     "output_type": "stream",
     "text": [
      "[INFO 02-12 17:38:55] ax.service.ax_client: Generated new trial 26 with parameters {'param0': -0.178301, 'param1': 0.824829, 'param2': -0.340188, 'param3': -0.249582, 'param4': -0.468081, 'param5': -0.014299, 'param6': 0.833199, 'param7': 0.029758, 'param8': -0.262035, 'param9': -0.040565} using model BoTorch.\n",
      "[INFO 02-12 17:38:55] ax.service.ax_client: Completed trial 26 with data: {'score': (1.58318, None)}.\n"
     ]
    },
    {
     "name": "stdout",
     "output_type": "stream",
     "text": [
      "{'score': 1.5831801411309139}\n"
     ]
    },
    {
     "name": "stderr",
     "output_type": "stream",
     "text": [
      "[INFO 02-12 17:38:56] ax.service.ax_client: Generated new trial 27 with parameters {'param0': -0.147161, 'param1': 0.786837, 'param2': -0.683024, 'param3': -0.208618, 'param4': -0.610348, 'param5': 0.183374, 'param6': 0.938884, 'param7': 0.055862, 'param8': 0.785567, 'param9': -0.075763} using model BoTorch.\n",
      "[INFO 02-12 17:38:56] ax.service.ax_client: Completed trial 27 with data: {'score': (0.780259, None)}.\n"
     ]
    },
    {
     "name": "stdout",
     "output_type": "stream",
     "text": [
      "{'score': 0.7802590826932843}\n"
     ]
    },
    {
     "name": "stderr",
     "output_type": "stream",
     "text": [
      "[INFO 02-12 17:38:56] ax.service.ax_client: Generated new trial 28 with parameters {'param0': -0.066396, 'param1': 0.847257, 'param2': 0.358691, 'param3': -0.834606, 'param4': -0.77341, 'param5': 0.181041, 'param6': 0.875055, 'param7': -0.183889, 'param8': -0.380822, 'param9': -0.201306} using model BoTorch.\n",
      "[INFO 02-12 17:38:56] ax.service.ax_client: Completed trial 28 with data: {'score': (1.396339, None)}.\n"
     ]
    },
    {
     "name": "stdout",
     "output_type": "stream",
     "text": [
      "{'score': 1.396339341942845}\n"
     ]
    },
    {
     "name": "stderr",
     "output_type": "stream",
     "text": [
      "[INFO 02-12 17:38:57] ax.service.ax_client: Generated new trial 29 with parameters {'param0': -0.981575, 'param1': 0.803714, 'param2': -0.499175, 'param3': -0.268364, 'param4': -1.0, 'param5': 0.201389, 'param6': 0.777526, 'param7': -0.12836, 'param8': -0.415411, 'param9': -0.075499} using model BoTorch.\n",
      "[INFO 02-12 17:38:57] ax.service.ax_client: Completed trial 29 with data: {'score': (1.031724, None)}.\n"
     ]
    },
    {
     "name": "stdout",
     "output_type": "stream",
     "text": [
      "{'score': 1.03172356551609}\n"
     ]
    },
    {
     "name": "stderr",
     "output_type": "stream",
     "text": [
      "[INFO 02-12 17:38:58] ax.service.ax_client: Generated new trial 30 with parameters {'param0': -0.220938, 'param1': 0.047503, 'param2': 0.329518, 'param3': -0.277805, 'param4': -0.114411, 'param5': -0.191524, 'param6': 0.889711, 'param7': 0.365698, 'param8': -0.288363, 'param9': -0.026563} using model BoTorch.\n",
      "[INFO 02-12 17:38:58] ax.service.ax_client: Completed trial 30 with data: {'score': (1.593371, None)}.\n"
     ]
    },
    {
     "name": "stdout",
     "output_type": "stream",
     "text": [
      "{'score': 1.5933705829769358}\n"
     ]
    },
    {
     "name": "stderr",
     "output_type": "stream",
     "text": [
      "[INFO 02-12 17:38:59] ax.service.ax_client: Generated new trial 31 with parameters {'param0': -0.19182, 'param1': -0.84581, 'param2': -0.51407, 'param3': -0.350456, 'param4': 0.290214, 'param5': 0.230708, 'param6': 0.921326, 'param7': -0.060463, 'param8': -0.335014, 'param9': -0.045614} using model BoTorch.\n",
      "[INFO 02-12 17:38:59] ax.service.ax_client: Completed trial 31 with data: {'score': (0.856497, None)}.\n"
     ]
    },
    {
     "name": "stdout",
     "output_type": "stream",
     "text": [
      "{'score': 0.8564971143527526}\n"
     ]
    },
    {
     "name": "stderr",
     "output_type": "stream",
     "text": [
      "[INFO 02-12 17:39:00] ax.service.ax_client: Generated new trial 32 with parameters {'param0': -0.207022, 'param1': 0.503881, 'param2': 0.399321, 'param3': -0.244563, 'param4': -0.376333, 'param5': -0.319133, 'param6': 0.877698, 'param7': 0.394591, 'param8': -0.282189, 'param9': -0.031014} using model BoTorch.\n",
      "[INFO 02-12 17:39:00] ax.service.ax_client: Completed trial 32 with data: {'score': (1.660144, None)}.\n"
     ]
    },
    {
     "name": "stdout",
     "output_type": "stream",
     "text": [
      "{'score': 1.6601443467954868}\n"
     ]
    },
    {
     "name": "stderr",
     "output_type": "stream",
     "text": [
      "[INFO 02-12 17:39:00] ax.service.ax_client: Generated new trial 33 with parameters {'param0': -0.177891, 'param1': 0.429218, 'param2': -0.108536, 'param3': -0.317222, 'param4': -1.0, 'param5': 0.065632, 'param6': 0.87206, 'param7': 1.0, 'param8': -0.282254, 'param9': -0.004856} using model BoTorch.\n",
      "[INFO 02-12 17:39:00] ax.service.ax_client: Completed trial 33 with data: {'score': (1.095799, None)}.\n"
     ]
    },
    {
     "name": "stdout",
     "output_type": "stream",
     "text": [
      "{'score': 1.095798821090135}\n"
     ]
    },
    {
     "name": "stderr",
     "output_type": "stream",
     "text": [
      "[INFO 02-12 17:39:01] ax.service.ax_client: Generated new trial 34 with parameters {'param0': -0.206072, 'param1': 0.456606, 'param2': 0.673261, 'param3': -0.343061, 'param4': -0.361311, 'param5': -0.29708, 'param6': 0.868157, 'param7': 0.190194, 'param8': -0.177373, 'param9': 0.21028} using model BoTorch.\n",
      "[INFO 02-12 17:39:01] ax.service.ax_client: Completed trial 34 with data: {'score': (1.595396, None)}.\n"
     ]
    },
    {
     "name": "stdout",
     "output_type": "stream",
     "text": [
      "{'score': 1.5953962916767117}\n"
     ]
    },
    {
     "name": "stderr",
     "output_type": "stream",
     "text": [
      "[INFO 02-12 17:39:01] ax.service.ax_client: Generated new trial 35 with parameters {'param0': -0.213965, 'param1': 0.559077, 'param2': 0.129985, 'param3': -0.307591, 'param4': -0.19966, 'param5': -0.587125, 'param6': 1.0, 'param7': 0.193518, 'param8': -0.325999, 'param9': 0.037741} using model BoTorch.\n",
      "[INFO 02-12 17:39:01] ax.service.ax_client: Completed trial 35 with data: {'score': (1.600761, None)}.\n"
     ]
    },
    {
     "name": "stdout",
     "output_type": "stream",
     "text": [
      "{'score': 1.6007606804385714}\n"
     ]
    },
    {
     "name": "stderr",
     "output_type": "stream",
     "text": [
      "[INFO 02-12 17:39:02] ax.service.ax_client: Generated new trial 36 with parameters {'param0': -0.203802, 'param1': 0.622249, 'param2': 0.168699, 'param3': -0.492743, 'param4': 0.47324, 'param5': -0.17616, 'param6': 0.852172, 'param7': 0.242683, 'param8': -0.242403, 'param9': 0.10393} using model BoTorch.\n",
      "[INFO 02-12 17:39:02] ax.service.ax_client: Completed trial 36 with data: {'score': (1.319023, None)}.\n"
     ]
    },
    {
     "name": "stdout",
     "output_type": "stream",
     "text": [
      "{'score': 1.3190231884966235}\n"
     ]
    },
    {
     "name": "stderr",
     "output_type": "stream",
     "text": [
      "[INFO 02-12 17:39:02] ax.service.ax_client: Generated new trial 37 with parameters {'param0': -0.252467, 'param1': 0.633751, 'param2': 0.281428, 'param3': -0.182232, 'param4': -0.388735, 'param5': -0.195032, 'param6': 0.882128, 'param7': 0.074521, 'param8': -0.382442, 'param9': -0.142001} using model BoTorch.\n",
      "[INFO 02-12 17:39:02] ax.service.ax_client: Completed trial 37 with data: {'score': (1.835192, None)}.\n"
     ]
    },
    {
     "name": "stdout",
     "output_type": "stream",
     "text": [
      "{'score': 1.8351924285113481}\n"
     ]
    },
    {
     "name": "stderr",
     "output_type": "stream",
     "text": [
      "[INFO 02-12 17:39:03] ax.service.ax_client: Generated new trial 38 with parameters {'param0': -0.307883, 'param1': 0.914407, 'param2': 0.397519, 'param3': -0.073509, 'param4': -0.417297, 'param5': -0.20083, 'param6': 0.987574, 'param7': -0.141212, 'param8': -0.632384, 'param9': -0.315351} using model BoTorch.\n",
      "[INFO 02-12 17:39:03] ax.service.ax_client: Completed trial 38 with data: {'score': (1.491454, None)}.\n"
     ]
    },
    {
     "name": "stdout",
     "output_type": "stream",
     "text": [
      "{'score': 1.4914536563912986}\n"
     ]
    },
    {
     "name": "stderr",
     "output_type": "stream",
     "text": [
      "[INFO 02-12 17:39:04] ax.service.ax_client: Generated new trial 39 with parameters {'param0': -0.29639, 'param1': 0.322599, 'param2': 0.639285, 'param3': -0.087958, 'param4': -0.838674, 'param5': -0.540668, 'param6': 0.794322, 'param7': -0.054031, 'param8': -0.338905, 'param9': -0.18288} using model BoTorch.\n",
      "[INFO 02-12 17:39:04] ax.service.ax_client: Completed trial 39 with data: {'score': (1.43618, None)}.\n"
     ]
    },
    {
     "name": "stdout",
     "output_type": "stream",
     "text": [
      "{'score': 1.436180039100866}\n"
     ]
    },
    {
     "name": "stderr",
     "output_type": "stream",
     "text": [
      "[INFO 02-12 17:39:04] ax.service.ax_client: Generated new trial 40 with parameters {'param0': -0.264839, 'param1': 0.508375, 'param2': 0.209337, 'param3': -0.280041, 'param4': -0.35778, 'param5': -0.158558, 'param6': 0.680814, 'param7': 0.140952, 'param8': -0.43547, 'param9': 0.393642} using model BoTorch.\n",
      "[INFO 02-12 17:39:04] ax.service.ax_client: Completed trial 40 with data: {'score': (1.818256, None)}.\n"
     ]
    },
    {
     "name": "stdout",
     "output_type": "stream",
     "text": [
      "{'score': 1.8182561563459922}\n"
     ]
    },
    {
     "name": "stderr",
     "output_type": "stream",
     "text": [
      "[INFO 02-12 17:39:05] ax.service.ax_client: Generated new trial 41 with parameters {'param0': -0.26885, 'param1': 0.367012, 'param2': 0.120109, 'param3': -0.277652, 'param4': -0.416831, 'param5': -0.00973, 'param6': 0.818777, 'param7': 0.108488, 'param8': -0.557153, 'param9': 1.0} using model BoTorch.\n",
      "[INFO 02-12 17:39:05] ax.service.ax_client: Completed trial 41 with data: {'score': (1.536289, None)}.\n"
     ]
    },
    {
     "name": "stdout",
     "output_type": "stream",
     "text": [
      "{'score': 1.5362889230517547}\n"
     ]
    },
    {
     "name": "stderr",
     "output_type": "stream",
     "text": [
      "[INFO 02-12 17:39:05] ax.service.ax_client: Generated new trial 42 with parameters {'param0': -0.270013, 'param1': 0.564173, 'param2': 0.202663, 'param3': -0.326195, 'param4': -0.324824, 'param5': -0.509051, 'param6': 0.543773, 'param7': 0.053294, 'param8': -0.521657, 'param9': 0.101239} using model BoTorch.\n",
      "[INFO 02-12 17:39:05] ax.service.ax_client: Completed trial 42 with data: {'score': (1.621345, None)}.\n"
     ]
    },
    {
     "name": "stdout",
     "output_type": "stream",
     "text": [
      "{'score': 1.6213445490668206}\n"
     ]
    },
    {
     "name": "stderr",
     "output_type": "stream",
     "text": [
      "[INFO 02-12 17:39:06] ax.service.ax_client: Generated new trial 43 with parameters {'param0': -0.243516, 'param1': 0.464801, 'param2': 0.191616, 'param3': -0.16578, 'param4': -0.355482, 'param5': -0.078643, 'param6': 0.751185, 'param7': 0.120298, 'param8': -0.350029, 'param9': 0.116982} using model BoTorch.\n",
      "[INFO 02-12 17:39:06] ax.service.ax_client: Completed trial 43 with data: {'score': (1.934767, None)}.\n"
     ]
    },
    {
     "name": "stdout",
     "output_type": "stream",
     "text": [
      "{'score': 1.9347667767188579}\n"
     ]
    },
    {
     "name": "stderr",
     "output_type": "stream",
     "text": [
      "[INFO 02-12 17:39:06] ax.service.ax_client: Generated new trial 44 with parameters {'param0': -0.24755, 'param1': 0.328761, 'param2': 0.070004, 'param3': 0.099197, 'param4': -0.415406, 'param5': 0.020642, 'param6': 0.944217, 'param7': -0.078627, 'param8': -0.410288, 'param9': 0.028276} using model BoTorch.\n",
      "[INFO 02-12 17:39:06] ax.service.ax_client: Completed trial 44 with data: {'score': (1.847289, None)}.\n"
     ]
    },
    {
     "name": "stdout",
     "output_type": "stream",
     "text": [
      "{'score': 1.847288515497056}\n"
     ]
    },
    {
     "name": "stderr",
     "output_type": "stream",
     "text": [
      "[INFO 02-12 17:39:07] ax.service.ax_client: Generated new trial 45 with parameters {'param0': -0.226926, 'param1': 0.382159, 'param2': 0.14623, 'param3': -0.043105, 'param4': -0.360057, 'param5': -0.001623, 'param6': 0.771299, 'param7': 0.077889, 'param8': -0.350017, 'param9': 0.111337} using model BoTorch.\n",
      "[INFO 02-12 17:39:07] ax.service.ax_client: Completed trial 45 with data: {'score': (1.93303, None)}.\n"
     ]
    },
    {
     "name": "stdout",
     "output_type": "stream",
     "text": [
      "{'score': 1.9330297593978476}\n"
     ]
    },
    {
     "name": "stderr",
     "output_type": "stream",
     "text": [
      "[INFO 02-12 17:39:07] ax.service.ax_client: Generated new trial 46 with parameters {'param0': -0.082523, 'param1': 0.406641, 'param2': 0.173314, 'param3': -0.085907, 'param4': -0.356255, 'param5': 0.090037, 'param6': 0.857017, 'param7': 0.139505, 'param8': -0.51227, 'param9': 0.109444} using model BoTorch.\n",
      "[INFO 02-12 17:39:07] ax.service.ax_client: Completed trial 46 with data: {'score': (1.889619, None)}.\n"
     ]
    },
    {
     "name": "stdout",
     "output_type": "stream",
     "text": [
      "{'score': 1.8896187458421978}\n"
     ]
    },
    {
     "name": "stderr",
     "output_type": "stream",
     "text": [
      "[INFO 02-12 17:39:08] ax.service.ax_client: Generated new trial 47 with parameters {'param0': -0.127329, 'param1': 0.405899, 'param2': 0.163711, 'param3': 0.034416, 'param4': -0.249126, 'param5': -0.062942, 'param6': 0.816273, 'param7': 0.110554, 'param8': -0.254698, 'param9': 0.227589} using model BoTorch.\n",
      "[INFO 02-12 17:39:08] ax.service.ax_client: Completed trial 47 with data: {'score': (1.969278, None)}.\n"
     ]
    },
    {
     "name": "stdout",
     "output_type": "stream",
     "text": [
      "{'score': 1.9692777053273787}\n"
     ]
    },
    {
     "name": "stderr",
     "output_type": "stream",
     "text": [
      "[INFO 02-12 17:39:09] ax.service.ax_client: Generated new trial 48 with parameters {'param0': -0.369071, 'param1': 0.429633, 'param2': 0.177995, 'param3': 0.105728, 'param4': -0.170896, 'param5': -0.006113, 'param6': 0.879674, 'param7': 0.230992, 'param8': -0.287924, 'param9': 0.2785} using model BoTorch.\n",
      "[INFO 02-12 17:39:09] ax.service.ax_client: Completed trial 48 with data: {'score': (1.73225, None)}.\n"
     ]
    },
    {
     "name": "stdout",
     "output_type": "stream",
     "text": [
      "{'score': 1.7322495444261232}\n"
     ]
    },
    {
     "name": "stderr",
     "output_type": "stream",
     "text": [
      "[INFO 02-12 17:39:09] ax.service.ax_client: Generated new trial 49 with parameters {'param0': -0.028225, 'param1': 0.34775, 'param2': 0.146686, 'param3': -0.030103, 'param4': -0.358304, 'param5': -0.125439, 'param6': 0.72088, 'param7': -0.015051, 'param8': -0.248734, 'param9': 0.130356} using model BoTorch.\n",
      "[INFO 02-12 17:39:09] ax.service.ax_client: Completed trial 49 with data: {'score': (2.014388, None)}.\n"
     ]
    },
    {
     "name": "stdout",
     "output_type": "stream",
     "text": [
      "{'score': 2.0143877040321443}\n"
     ]
    },
    {
     "name": "stderr",
     "output_type": "stream",
     "text": [
      "[INFO 02-12 17:39:09] ax.service.ax_client: Generated new trial 50 with parameters {'param0': 0.03392, 'param1': 0.348443, 'param2': 0.209656, 'param3': -0.115009, 'param4': -0.252463, 'param5': -0.101767, 'param6': 0.737175, 'param7': -0.159681, 'param8': -0.160039, 'param9': 0.172073} using model BoTorch.\n",
      "[INFO 02-12 17:39:09] ax.service.ax_client: Completed trial 50 with data: {'score': (2.0153, None)}.\n"
     ]
    },
    {
     "name": "stdout",
     "output_type": "stream",
     "text": [
      "{'score': 2.0152999935865488}\n"
     ]
    },
    {
     "name": "stderr",
     "output_type": "stream",
     "text": [
      "[INFO 02-12 17:39:10] ax.service.ax_client: Generated new trial 51 with parameters {'param0': -0.024426, 'param1': 0.34365, 'param2': 0.221546, 'param3': -0.121631, 'param4': -0.373952, 'param5': -0.039477, 'param6': 0.587077, 'param7': -0.104423, 'param8': -0.14215, 'param9': 0.056826} using model BoTorch.\n",
      "[INFO 02-12 17:39:10] ax.service.ax_client: Completed trial 51 with data: {'score': (1.947719, None)}.\n"
     ]
    },
    {
     "name": "stdout",
     "output_type": "stream",
     "text": [
      "{'score': 1.9477185783822235}\n"
     ]
    },
    {
     "name": "stderr",
     "output_type": "stream",
     "text": [
      "[INFO 02-12 17:39:10] ax.service.ax_client: Generated new trial 52 with parameters {'param0': 0.113477, 'param1': 0.35734, 'param2': 0.157951, 'param3': 0.069775, 'param4': -0.238016, 'param5': -0.210499, 'param6': 0.786316, 'param7': -0.118967, 'param8': -0.358847, 'param9': 0.24598} using model BoTorch.\n",
      "[INFO 02-12 17:39:10] ax.service.ax_client: Completed trial 52 with data: {'score': (2.020232, None)}.\n"
     ]
    },
    {
     "name": "stdout",
     "output_type": "stream",
     "text": [
      "{'score': 2.0202315449788584}\n"
     ]
    },
    {
     "name": "stderr",
     "output_type": "stream",
     "text": [
      "[INFO 02-12 17:39:11] ax.service.ax_client: Generated new trial 53 with parameters {'param0': 0.130093, 'param1': 0.353809, 'param2': 0.139571, 'param3': 0.020149, 'param4': -0.325153, 'param5': -0.21235, 'param6': 0.878464, 'param7': -0.069421, 'param8': -0.138788, 'param9': 0.204567} using model BoTorch.\n",
      "[INFO 02-12 17:39:11] ax.service.ax_client: Completed trial 53 with data: {'score': (1.958884, None)}.\n"
     ]
    },
    {
     "name": "stdout",
     "output_type": "stream",
     "text": [
      "{'score': 1.958884456536802}\n"
     ]
    },
    {
     "name": "stderr",
     "output_type": "stream",
     "text": [
      "[INFO 02-12 17:39:12] ax.service.ax_client: Generated new trial 54 with parameters {'param0': -0.009743, 'param1': 0.324927, 'param2': 0.140775, 'param3': -0.014109, 'param4': -0.211607, 'param5': -0.123093, 'param6': 0.721101, 'param7': -0.249834, 'param8': -0.412447, 'param9': 0.238278} using model BoTorch.\n",
      "[INFO 02-12 17:39:12] ax.service.ax_client: Completed trial 54 with data: {'score': (1.996806, None)}.\n"
     ]
    },
    {
     "name": "stdout",
     "output_type": "stream",
     "text": [
      "{'score': 1.9968062935227082}\n"
     ]
    },
    {
     "name": "stderr",
     "output_type": "stream",
     "text": [
      "[INFO 02-12 17:39:12] ax.service.ax_client: Generated new trial 55 with parameters {'param0': 0.048338, 'param1': 0.39581, 'param2': 0.187372, 'param3': 0.082093, 'param4': -0.237053, 'param5': -0.154025, 'param6': 0.684189, 'param7': -0.061344, 'param8': -0.362373, 'param9': 0.194311} using model BoTorch.\n",
      "[INFO 02-12 17:39:12] ax.service.ax_client: Completed trial 55 with data: {'score': (2.018787, None)}.\n"
     ]
    },
    {
     "name": "stdout",
     "output_type": "stream",
     "text": [
      "{'score': 2.0187867992228834}\n"
     ]
    },
    {
     "name": "stderr",
     "output_type": "stream",
     "text": [
      "[INFO 02-12 17:39:13] ax.service.ax_client: Generated new trial 56 with parameters {'param0': 0.050515, 'param1': 0.287874, 'param2': 0.125348, 'param3': 0.065584, 'param4': -0.223917, 'param5': -0.131095, 'param6': 0.69556, 'param7': -0.089867, 'param8': -0.287515, 'param9': 0.335528} using model BoTorch.\n",
      "[INFO 02-12 17:39:13] ax.service.ax_client: Completed trial 56 with data: {'score': (1.993036, None)}.\n"
     ]
    },
    {
     "name": "stdout",
     "output_type": "stream",
     "text": [
      "{'score': 1.9930364810175996}\n"
     ]
    },
    {
     "name": "stderr",
     "output_type": "stream",
     "text": [
      "[INFO 02-12 17:39:14] ax.service.ax_client: Generated new trial 57 with parameters {'param0': 0.030325, 'param1': 0.363869, 'param2': 0.16102, 'param3': -0.036212, 'param4': -0.273849, 'param5': -0.179348, 'param6': 0.753764, 'param7': -0.100662, 'param8': -0.399844, 'param9': 0.090811} using model BoTorch.\n",
      "[INFO 02-12 17:39:14] ax.service.ax_client: Completed trial 57 with data: {'score': (2.020312, None)}.\n"
     ]
    },
    {
     "name": "stdout",
     "output_type": "stream",
     "text": [
      "{'score': 2.0203122070416084}\n"
     ]
    },
    {
     "name": "stderr",
     "output_type": "stream",
     "text": [
      "[INFO 02-12 17:39:15] ax.service.ax_client: Generated new trial 58 with parameters {'param0': -0.007012, 'param1': 0.407803, 'param2': 0.207764, 'param3': 0.092393, 'param4': -0.218187, 'param5': -0.204892, 'param6': 0.745946, 'param7': -0.157852, 'param8': -0.250615, 'param9': 0.159866} using model BoTorch.\n",
      "[INFO 02-12 17:39:15] ax.service.ax_client: Completed trial 58 with data: {'score': (2.035896, None)}.\n"
     ]
    },
    {
     "name": "stdout",
     "output_type": "stream",
     "text": [
      "{'score': 2.0358962337793822}\n"
     ]
    },
    {
     "name": "stderr",
     "output_type": "stream",
     "text": [
      "[INFO 02-12 17:39:16] ax.service.ax_client: Generated new trial 59 with parameters {'param0': 0.002466, 'param1': 0.387965, 'param2': 0.214972, 'param3': 0.283213, 'param4': -0.246921, 'param5': -0.203552, 'param6': 0.741861, 'param7': -0.123548, 'param8': -0.315111, 'param9': 0.087217} using model BoTorch.\n",
      "[INFO 02-12 17:39:16] ax.service.ax_client: Completed trial 59 with data: {'score': (1.934025, None)}.\n"
     ]
    },
    {
     "name": "stdout",
     "output_type": "stream",
     "text": [
      "{'score': 1.934025194978501}\n"
     ]
    },
    {
     "name": "stderr",
     "output_type": "stream",
     "text": [
      "[INFO 02-12 17:39:17] ax.service.ax_client: Generated new trial 60 with parameters {'param0': 0.07415, 'param1': 0.481274, 'param2': 0.208428, 'param3': -0.043757, 'param4': -0.16473, 'param5': -0.16917, 'param6': 0.741326, 'param7': -0.144542, 'param8': -0.288048, 'param9': 0.263859} using model BoTorch.\n",
      "[INFO 02-12 17:39:17] ax.service.ax_client: Completed trial 60 with data: {'score': (2.063144, None)}.\n"
     ]
    },
    {
     "name": "stdout",
     "output_type": "stream",
     "text": [
      "{'score': 2.0631442967999525}\n"
     ]
    },
    {
     "name": "stderr",
     "output_type": "stream",
     "text": [
      "[INFO 02-12 17:39:18] ax.service.ax_client: Generated new trial 61 with parameters {'param0': 0.208687, 'param1': 0.623363, 'param2': 0.364645, 'param3': 0.061332, 'param4': 0.106348, 'param5': -0.196622, 'param6': 0.696774, 'param7': -0.259951, 'param8': -0.171293, 'param9': 0.679712} using model BoTorch.\n",
      "[INFO 02-12 17:39:18] ax.service.ax_client: Completed trial 61 with data: {'score': (1.818785, None)}.\n"
     ]
    },
    {
     "name": "stdout",
     "output_type": "stream",
     "text": [
      "{'score': 1.8187848445013057}\n"
     ]
    },
    {
     "name": "stderr",
     "output_type": "stream",
     "text": [
      "[INFO 02-12 17:39:19] ax.service.ax_client: Generated new trial 62 with parameters {'param0': 0.067289, 'param1': 0.462206, 'param2': 0.157858, 'param3': -0.072125, 'param4': -0.188011, 'param5': -0.126336, 'param6': 0.763103, 'param7': -0.173698, 'param8': -0.310506, 'param9': 0.134003} using model BoTorch.\n",
      "[INFO 02-12 17:39:19] ax.service.ax_client: Completed trial 62 with data: {'score': (2.047572, None)}.\n"
     ]
    },
    {
     "name": "stdout",
     "output_type": "stream",
     "text": [
      "{'score': 2.047571882159728}\n"
     ]
    },
    {
     "name": "stderr",
     "output_type": "stream",
     "text": [
      "[INFO 02-12 17:39:20] ax.service.ax_client: Generated new trial 63 with parameters {'param0': 0.024329, 'param1': 0.478246, 'param2': 0.130615, 'param3': -0.060015, 'param4': -0.288519, 'param5': -0.213755, 'param6': 0.750974, 'param7': -0.225843, 'param8': -0.286965, 'param9': 0.224262} using model BoTorch.\n",
      "[INFO 02-12 17:39:20] ax.service.ax_client: Completed trial 63 with data: {'score': (2.067508, None)}.\n"
     ]
    },
    {
     "name": "stdout",
     "output_type": "stream",
     "text": [
      "{'score': 2.067508236766428}\n"
     ]
    },
    {
     "name": "stderr",
     "output_type": "stream",
     "text": [
      "[INFO 02-12 17:39:21] ax.service.ax_client: Generated new trial 64 with parameters {'param0': 0.048809, 'param1': 0.502145, 'param2': 0.220973, 'param3': -0.091166, 'param4': -0.324503, 'param5': -0.141831, 'param6': 0.783434, 'param7': -0.339499, 'param8': -0.334198, 'param9': 0.204543} using model BoTorch.\n",
      "[INFO 02-12 17:39:21] ax.service.ax_client: Completed trial 64 with data: {'score': (2.018123, None)}.\n"
     ]
    },
    {
     "name": "stdout",
     "output_type": "stream",
     "text": [
      "{'score': 2.018123429906052}\n"
     ]
    },
    {
     "name": "stderr",
     "output_type": "stream",
     "text": [
      "[INFO 02-12 17:39:22] ax.service.ax_client: Generated new trial 65 with parameters {'param0': 0.017956, 'param1': 0.46417, 'param2': 0.047565, 'param3': -0.05398, 'param4': -0.210857, 'param5': -0.241426, 'param6': 0.750466, 'param7': -0.191446, 'param8': -0.256227, 'param9': 0.252782} using model BoTorch.\n",
      "[INFO 02-12 17:39:22] ax.service.ax_client: Completed trial 65 with data: {'score': (2.060873, None)}.\n"
     ]
    },
    {
     "name": "stdout",
     "output_type": "stream",
     "text": [
      "{'score': 2.0608731241800733}\n"
     ]
    },
    {
     "name": "stderr",
     "output_type": "stream",
     "text": [
      "[INFO 02-12 17:39:23] ax.service.ax_client: Generated new trial 66 with parameters {'param0': 0.082192, 'param1': 0.50695, 'param2': 0.102338, 'param3': -0.049985, 'param4': -0.259023, 'param5': -0.237437, 'param6': 0.715816, 'param7': -0.11174, 'param8': -0.292661, 'param9': 0.240688} using model BoTorch.\n",
      "[INFO 02-12 17:39:23] ax.service.ax_client: Completed trial 66 with data: {'score': (2.054553, None)}.\n"
     ]
    },
    {
     "name": "stdout",
     "output_type": "stream",
     "text": [
      "{'score': 2.0545533996527237}\n"
     ]
    },
    {
     "name": "stderr",
     "output_type": "stream",
     "text": [
      "[INFO 02-12 17:39:24] ax.service.ax_client: Generated new trial 67 with parameters {'param0': 0.707795, 'param1': 0.623544, 'param2': -0.359509, 'param3': 0.23727, 'param4': -0.033715, 'param5': -0.457796, 'param6': 0.569854, 'param7': 0.456651, 'param8': -0.7297, 'param9': 0.951311} using model BoTorch.\n",
      "[INFO 02-12 17:39:24] ax.service.ax_client: Completed trial 67 with data: {'score': (1.076576, None)}.\n"
     ]
    },
    {
     "name": "stdout",
     "output_type": "stream",
     "text": [
      "{'score': 1.0765759381498543}\n"
     ]
    },
    {
     "name": "stderr",
     "output_type": "stream",
     "text": [
      "[INFO 02-12 17:39:25] ax.service.ax_client: Generated new trial 68 with parameters {'param0': 0.012827, 'param1': 0.458923, 'param2': 0.146952, 'param3': -0.092312, 'param4': -0.214993, 'param5': -0.254892, 'param6': 0.760125, 'param7': -0.192639, 'param8': -0.265809, 'param9': 0.215526} using model BoTorch.\n",
      "[INFO 02-12 17:39:25] ax.service.ax_client: Completed trial 68 with data: {'score': (2.076409, None)}.\n"
     ]
    },
    {
     "name": "stdout",
     "output_type": "stream",
     "text": [
      "{'score': 2.076409196778428}\n"
     ]
    },
    {
     "name": "stderr",
     "output_type": "stream",
     "text": [
      "[INFO 02-12 17:39:26] ax.service.ax_client: Generated new trial 69 with parameters {'param0': 0.005501, 'param1': 0.46168, 'param2': 0.103454, 'param3': -0.088976, 'param4': -0.204274, 'param5': -0.297036, 'param6': 0.861384, 'param7': -0.273471, 'param8': -0.292101, 'param9': 0.318861} using model BoTorch.\n",
      "[INFO 02-12 17:39:26] ax.service.ax_client: Completed trial 69 with data: {'score': (2.063508, None)}.\n"
     ]
    },
    {
     "name": "stdout",
     "output_type": "stream",
     "text": [
      "{'score': 2.0635083585804406}\n"
     ]
    },
    {
     "name": "stderr",
     "output_type": "stream",
     "text": [
      "[INFO 02-12 17:39:27] ax.service.ax_client: Generated new trial 70 with parameters {'param0': -0.401046, 'param1': 0.046997, 'param2': -0.669324, 'param3': 0.292095, 'param4': -1.0, 'param5': -1.0, 'param6': 1.0, 'param7': -0.695027, 'param8': -0.261637, 'param9': 0.59865} using model BoTorch.\n",
      "[INFO 02-12 17:39:27] ax.service.ax_client: Completed trial 70 with data: {'score': (1.121881, None)}.\n"
     ]
    },
    {
     "name": "stdout",
     "output_type": "stream",
     "text": [
      "{'score': 1.1218813686369054}\n"
     ]
    },
    {
     "name": "stderr",
     "output_type": "stream",
     "text": [
      "[INFO 02-12 17:39:29] ax.service.ax_client: Generated new trial 71 with parameters {'param0': 0.05566, 'param1': 0.478894, 'param2': 0.183015, 'param3': -0.087991, 'param4': -0.191505, 'param5': -0.354318, 'param6': 0.68445, 'param7': -0.261589, 'param8': -0.257766, 'param9': 0.225749} using model BoTorch.\n",
      "[INFO 02-12 17:39:29] ax.service.ax_client: Completed trial 71 with data: {'score': (2.056546, None)}.\n"
     ]
    },
    {
     "name": "stdout",
     "output_type": "stream",
     "text": [
      "{'score': 2.056545507906466}\n"
     ]
    },
    {
     "name": "stderr",
     "output_type": "stream",
     "text": [
      "[INFO 02-12 17:39:30] ax.service.ax_client: Generated new trial 72 with parameters {'param0': 0.043095, 'param1': 0.493798, 'param2': 0.171601, 'param3': -0.108738, 'param4': -0.182195, 'param5': -0.262449, 'param6': 0.853573, 'param7': -0.210665, 'param8': -0.279733, 'param9': 0.209642} using model BoTorch.\n",
      "[INFO 02-12 17:39:30] ax.service.ax_client: Completed trial 72 with data: {'score': (2.074146, None)}.\n"
     ]
    },
    {
     "name": "stdout",
     "output_type": "stream",
     "text": [
      "{'score': 2.0741456421541478}\n"
     ]
    },
    {
     "name": "stderr",
     "output_type": "stream",
     "text": [
      "[INFO 02-12 17:39:31] ax.service.ax_client: Generated new trial 73 with parameters {'param0': -0.01817, 'param1': 0.545166, 'param2': 0.147976, 'param3': -0.094698, 'param4': -0.191465, 'param5': -0.27515, 'param6': 0.826071, 'param7': -0.294408, 'param8': -0.200589, 'param9': 0.178884} using model BoTorch.\n",
      "[INFO 02-12 17:39:31] ax.service.ax_client: Completed trial 73 with data: {'score': (2.072182, None)}.\n"
     ]
    },
    {
     "name": "stdout",
     "output_type": "stream",
     "text": [
      "{'score': 2.0721815670339727}\n"
     ]
    },
    {
     "name": "stderr",
     "output_type": "stream",
     "text": [
      "[INFO 02-12 17:39:32] ax.service.ax_client: Generated new trial 74 with parameters {'param0': -0.01325, 'param1': 0.517692, 'param2': 0.17673, 'param3': -0.110044, 'param4': -0.226077, 'param5': -0.248528, 'param6': 0.782906, 'param7': -0.21381, 'param8': -0.24751, 'param9': 0.253921} using model BoTorch.\n",
      "[INFO 02-12 17:39:32] ax.service.ax_client: Completed trial 74 with data: {'score': (2.078136, None)}.\n"
     ]
    },
    {
     "name": "stdout",
     "output_type": "stream",
     "text": [
      "{'score': 2.078135789905843}\n"
     ]
    },
    {
     "name": "stderr",
     "output_type": "stream",
     "text": [
      "[INFO 02-12 17:39:34] ax.service.ax_client: Generated new trial 75 with parameters {'param0': 0.024217, 'param1': 0.581916, 'param2': 0.155901, 'param3': -0.050205, 'param4': -0.194735, 'param5': -0.283982, 'param6': 0.798971, 'param7': -0.209337, 'param8': -0.255507, 'param9': 0.221223} using model BoTorch.\n",
      "[INFO 02-12 17:39:34] ax.service.ax_client: Completed trial 75 with data: {'score': (2.072901, None)}.\n"
     ]
    },
    {
     "name": "stdout",
     "output_type": "stream",
     "text": [
      "{'score': 2.0729010972468207}\n"
     ]
    },
    {
     "name": "stderr",
     "output_type": "stream",
     "text": [
      "[INFO 02-12 17:39:35] ax.service.ax_client: Generated new trial 76 with parameters {'param0': 0.01187, 'param1': 0.547947, 'param2': 0.184997, 'param3': -0.159029, 'param4': -0.174832, 'param5': -0.216135, 'param6': 0.791139, 'param7': -0.231054, 'param8': -0.250715, 'param9': 0.232202} using model BoTorch.\n",
      "[INFO 02-12 17:39:35] ax.service.ax_client: Completed trial 76 with data: {'score': (2.07182, None)}.\n"
     ]
    },
    {
     "name": "stdout",
     "output_type": "stream",
     "text": [
      "{'score': 2.071819550620051}\n"
     ]
    },
    {
     "name": "stderr",
     "output_type": "stream",
     "text": [
      "[INFO 02-12 17:39:36] ax.service.ax_client: Generated new trial 77 with parameters {'param0': -0.044554, 'param1': 1.0, 'param2': 0.996931, 'param3': -1.0, 'param4': 0.646308, 'param5': 1.0, 'param6': 0.608825, 'param7': -0.730974, 'param8': -0.131975, 'param9': 0.066403} using model BoTorch.\n",
      "[INFO 02-12 17:39:36] ax.service.ax_client: Completed trial 77 with data: {'score': (0.481478, None)}.\n"
     ]
    },
    {
     "name": "stdout",
     "output_type": "stream",
     "text": [
      "{'score': 0.4814775446883766}\n"
     ]
    },
    {
     "name": "stderr",
     "output_type": "stream",
     "text": [
      "[INFO 02-12 17:39:37] ax.service.ax_client: Generated new trial 78 with parameters {'param0': -0.010599, 'param1': 0.492329, 'param2': 0.157069, 'param3': -0.108731, 'param4': -0.235712, 'param5': -0.277253, 'param6': 0.803207, 'param7': -0.228497, 'param8': -0.241038, 'param9': 0.191986} using model BoTorch.\n",
      "[INFO 02-12 17:39:37] ax.service.ax_client: Completed trial 78 with data: {'score': (2.079248, None)}.\n"
     ]
    },
    {
     "name": "stdout",
     "output_type": "stream",
     "text": [
      "{'score': 2.0792482436640984}\n"
     ]
    },
    {
     "name": "stderr",
     "output_type": "stream",
     "text": [
      "[INFO 02-12 17:39:39] ax.service.ax_client: Generated new trial 79 with parameters {'param0': -0.542081, 'param1': 0.37799, 'param2': -0.141749, 'param3': -0.237845, 'param4': -0.47711, 'param5': -0.496008, 'param6': 1.0, 'param7': -1.0, 'param8': 0.104853, 'param9': -0.248814} using model BoTorch.\n",
      "[INFO 02-12 17:39:39] ax.service.ax_client: Completed trial 79 with data: {'score': (1.546569, None)}.\n"
     ]
    },
    {
     "name": "stdout",
     "output_type": "stream",
     "text": [
      "{'score': 1.54656887195917}\n"
     ]
    },
    {
     "name": "stderr",
     "output_type": "stream",
     "text": [
      "[INFO 02-12 17:39:40] ax.service.ax_client: Generated new trial 80 with parameters {'param0': -0.126545, 'param1': 1.0, 'param2': 1.0, 'param3': 0.36006, 'param4': 0.220332, 'param5': 1.0, 'param6': -0.603443, 'param7': 1.0, 'param8': -0.347905, 'param9': 0.229639} using model BoTorch.\n",
      "[INFO 02-12 17:39:40] ax.service.ax_client: Completed trial 80 with data: {'score': (0.413167, None)}.\n"
     ]
    },
    {
     "name": "stdout",
     "output_type": "stream",
     "text": [
      "{'score': 0.41316654293957045}\n"
     ]
    },
    {
     "name": "stderr",
     "output_type": "stream",
     "text": [
      "[INFO 02-12 17:39:42] ax.service.ax_client: Generated new trial 81 with parameters {'param0': 1.0, 'param1': 0.684472, 'param2': 0.812904, 'param3': -0.532519, 'param4': 0.070159, 'param5': 0.146815, 'param6': 0.865508, 'param7': 0.727504, 'param8': -1.0, 'param9': 0.066487} using model BoTorch.\n",
      "[INFO 02-12 17:39:42] ax.service.ax_client: Completed trial 81 with data: {'score': (0.747261, None)}.\n"
     ]
    },
    {
     "name": "stdout",
     "output_type": "stream",
     "text": [
      "{'score': 0.7472611444423449}\n"
     ]
    },
    {
     "name": "stderr",
     "output_type": "stream",
     "text": [
      "[INFO 02-12 17:39:43] ax.service.ax_client: Generated new trial 82 with parameters {'param0': -0.952388, 'param1': 1.0, 'param2': 0.761104, 'param3': 0.5068, 'param4': 0.504267, 'param5': 0.845571, 'param6': 0.888741, 'param7': -1.0, 'param8': 0.890796, 'param9': -0.455169} using model BoTorch.\n",
      "[INFO 02-12 17:39:43] ax.service.ax_client: Completed trial 82 with data: {'score': (0.539953, None)}.\n"
     ]
    },
    {
     "name": "stdout",
     "output_type": "stream",
     "text": [
      "{'score': 0.5399527303626476}\n"
     ]
    },
    {
     "name": "stderr",
     "output_type": "stream",
     "text": [
      "[INFO 02-12 17:39:44] ax.service.ax_client: Generated new trial 83 with parameters {'param0': -0.013925, 'param1': 0.511253, 'param2': 0.156589, 'param3': -0.086092, 'param4': -0.179583, 'param5': -0.258004, 'param6': 0.77855, 'param7': -0.233395, 'param8': -0.257299, 'param9': 0.200971} using model BoTorch.\n",
      "[INFO 02-12 17:39:44] ax.service.ax_client: Completed trial 83 with data: {'score': (2.074975, None)}.\n"
     ]
    },
    {
     "name": "stdout",
     "output_type": "stream",
     "text": [
      "{'score': 2.074975293852186}\n"
     ]
    },
    {
     "name": "stderr",
     "output_type": "stream",
     "text": [
      "[INFO 02-12 17:39:45] ax.service.ax_client: Generated new trial 84 with parameters {'param0': 0.006879, 'param1': 0.516911, 'param2': 0.17867, 'param3': -0.083656, 'param4': -0.241649, 'param5': -0.274198, 'param6': 0.816744, 'param7': -0.20171, 'param8': -0.261068, 'param9': 0.234799} using model BoTorch.\n",
      "[INFO 02-12 17:39:45] ax.service.ax_client: Completed trial 84 with data: {'score': (2.078304, None)}.\n"
     ]
    },
    {
     "name": "stdout",
     "output_type": "stream",
     "text": [
      "{'score': 2.0783040429294966}\n"
     ]
    },
    {
     "name": "stderr",
     "output_type": "stream",
     "text": [
      "[INFO 02-12 17:39:46] ax.service.ax_client: Generated new trial 85 with parameters {'param0': 0.12916, 'param1': 1.0, 'param2': 0.739702, 'param3': -1.0, 'param4': -0.362133, 'param5': -0.64186, 'param6': 1.0, 'param7': -1.0, 'param8': 0.576404, 'param9': -0.337463} using model BoTorch.\n",
      "[INFO 02-12 17:39:46] ax.service.ax_client: Completed trial 85 with data: {'score': (0.897843, None)}.\n"
     ]
    },
    {
     "name": "stdout",
     "output_type": "stream",
     "text": [
      "{'score': 0.89784321800385}\n"
     ]
    },
    {
     "name": "stderr",
     "output_type": "stream",
     "text": [
      "[INFO 02-12 17:39:47] ax.service.ax_client: Generated new trial 86 with parameters {'param0': 0.036704, 'param1': 0.530368, 'param2': 0.167481, 'param3': -0.115329, 'param4': -0.197792, 'param5': -0.272266, 'param6': 0.794175, 'param7': -0.204961, 'param8': -0.224098, 'param9': 0.196297} using model BoTorch.\n",
      "[INFO 02-12 17:39:47] ax.service.ax_client: Completed trial 86 with data: {'score': (2.075737, None)}.\n"
     ]
    },
    {
     "name": "stdout",
     "output_type": "stream",
     "text": [
      "{'score': 2.0757365849277205}\n"
     ]
    },
    {
     "name": "stderr",
     "output_type": "stream",
     "text": [
      "[INFO 02-12 17:39:48] ax.service.ax_client: Generated new trial 87 with parameters {'param0': 1.0, 'param1': 1.0, 'param2': -0.241265, 'param3': -0.952699, 'param4': 1.0, 'param5': -0.643165, 'param6': 0.758963, 'param7': -1.0, 'param8': 0.475395, 'param9': -0.069059} using model BoTorch.\n",
      "[INFO 02-12 17:39:48] ax.service.ax_client: Completed trial 87 with data: {'score': (0.327412, None)}.\n"
     ]
    },
    {
     "name": "stdout",
     "output_type": "stream",
     "text": [
      "{'score': 0.3274118322901729}\n"
     ]
    },
    {
     "name": "stderr",
     "output_type": "stream",
     "text": [
      "[INFO 02-12 17:39:50] ax.service.ax_client: Generated new trial 88 with parameters {'param0': -0.035154, 'param1': 0.510525, 'param2': 0.157833, 'param3': -0.103765, 'param4': -0.266684, 'param5': -0.285843, 'param6': 0.793933, 'param7': -0.250778, 'param8': -0.202152, 'param9': 0.262429} using model BoTorch.\n",
      "[INFO 02-12 17:39:50] ax.service.ax_client: Completed trial 88 with data: {'score': (2.074944, None)}.\n"
     ]
    },
    {
     "name": "stdout",
     "output_type": "stream",
     "text": [
      "{'score': 2.0749436454428727}\n"
     ]
    },
    {
     "name": "stderr",
     "output_type": "stream",
     "text": [
      "[INFO 02-12 17:39:51] ax.service.ax_client: Generated new trial 89 with parameters {'param0': -0.412248, 'param1': -0.36183, 'param2': -0.117373, 'param3': -0.87755, 'param4': -1.0, 'param5': -0.251565, 'param6': 1.0, 'param7': -0.578562, 'param8': -0.273779, 'param9': 0.169792} using model BoTorch.\n",
      "[INFO 02-12 17:39:51] ax.service.ax_client: Completed trial 89 with data: {'score': (1.287167, None)}.\n"
     ]
    },
    {
     "name": "stdout",
     "output_type": "stream",
     "text": [
      "{'score': 1.2871669465233413}\n"
     ]
    },
    {
     "name": "stderr",
     "output_type": "stream",
     "text": [
      "[INFO 02-12 17:39:52] ax.service.ax_client: Generated new trial 90 with parameters {'param0': -1.0, 'param1': -0.83726, 'param2': -1.0, 'param3': 0.350929, 'param4': -1.0, 'param5': -0.354885, 'param6': 0.51865, 'param7': 0.422888, 'param8': 0.279505, 'param9': -0.962241} using model BoTorch.\n",
      "[INFO 02-12 17:39:52] ax.service.ax_client: Completed trial 90 with data: {'score': (0.321484, None)}.\n"
     ]
    },
    {
     "name": "stdout",
     "output_type": "stream",
     "text": [
      "{'score': 0.32148398814471746}\n"
     ]
    },
    {
     "name": "stderr",
     "output_type": "stream",
     "text": [
      "[INFO 02-12 17:39:54] ax.service.ax_client: Generated new trial 91 with parameters {'param0': 0.778307, 'param1': 1.0, 'param2': -0.143138, 'param3': 1.0, 'param4': 0.941432, 'param5': 0.206368, 'param6': 0.402965, 'param7': 0.848, 'param8': -0.34922, 'param9': -0.061553} using model BoTorch.\n",
      "[INFO 02-12 17:39:54] ax.service.ax_client: Completed trial 91 with data: {'score': (0.704121, None)}.\n"
     ]
    },
    {
     "name": "stdout",
     "output_type": "stream",
     "text": [
      "{'score': 0.7041205469540925}\n"
     ]
    },
    {
     "name": "stderr",
     "output_type": "stream",
     "text": [
      "[INFO 02-12 17:39:55] ax.service.ax_client: Generated new trial 92 with parameters {'param0': -0.016055, 'param1': 0.478461, 'param2': 0.162118, 'param3': -0.150748, 'param4': -0.222969, 'param5': -0.255583, 'param6': 0.871638, 'param7': -0.262025, 'param8': -0.237978, 'param9': 0.243573} using model BoTorch.\n",
      "[INFO 02-12 17:39:55] ax.service.ax_client: Completed trial 92 with data: {'score': (2.07306, None)}.\n"
     ]
    },
    {
     "name": "stdout",
     "output_type": "stream",
     "text": [
      "{'score': 2.0730595712521973}\n"
     ]
    },
    {
     "name": "stderr",
     "output_type": "stream",
     "text": [
      "[INFO 02-12 17:39:56] ax.service.ax_client: Generated new trial 93 with parameters {'param0': -0.290424, 'param1': 0.581205, 'param2': 0.02104, 'param3': -0.111238, 'param4': -0.980679, 'param5': -0.731979, 'param6': 0.613261, 'param7': -0.441693, 'param8': 0.331864, 'param9': 0.19753} using model BoTorch.\n",
      "[INFO 02-12 17:39:56] ax.service.ax_client: Completed trial 93 with data: {'score': (1.512859, None)}.\n"
     ]
    },
    {
     "name": "stdout",
     "output_type": "stream",
     "text": [
      "{'score': 1.5128586082737918}\n"
     ]
    },
    {
     "name": "stderr",
     "output_type": "stream",
     "text": [
      "[INFO 02-12 17:39:57] ax.service.ax_client: Generated new trial 94 with parameters {'param0': 0.577064, 'param1': 1.0, 'param2': 0.152232, 'param3': 0.908567, 'param4': 0.194236, 'param5': -0.721855, 'param6': -0.67938, 'param7': -0.229005, 'param8': -0.580697, 'param9': 0.308573} using model BoTorch.\n",
      "[INFO 02-12 17:39:57] ax.service.ax_client: Completed trial 94 with data: {'score': (0.539644, None)}.\n"
     ]
    },
    {
     "name": "stdout",
     "output_type": "stream",
     "text": [
      "{'score': 0.5396442079094613}\n"
     ]
    },
    {
     "name": "stderr",
     "output_type": "stream",
     "text": [
      "[INFO 02-12 17:39:59] ax.service.ax_client: Generated new trial 95 with parameters {'param0': 0.010167, 'param1': 0.5031, 'param2': 0.167598, 'param3': -0.138505, 'param4': -0.240527, 'param5': -0.264651, 'param6': 0.791687, 'param7': -0.198408, 'param8': -0.249691, 'param9': 0.231348} using model BoTorch.\n",
      "[INFO 02-12 17:39:59] ax.service.ax_client: Completed trial 95 with data: {'score': (2.07773, None)}.\n"
     ]
    },
    {
     "name": "stdout",
     "output_type": "stream",
     "text": [
      "{'score': 2.077730428648141}\n"
     ]
    },
    {
     "name": "stderr",
     "output_type": "stream",
     "text": [
      "[INFO 02-12 17:40:00] ax.service.ax_client: Generated new trial 96 with parameters {'param0': 0.093805, 'param1': 1.0, 'param2': 0.398668, 'param3': -0.153217, 'param4': -0.030507, 'param5': -0.118145, 'param6': 0.448865, 'param7': -0.099443, 'param8': -0.078441, 'param9': -0.002115} using model BoTorch.\n",
      "[INFO 02-12 17:40:00] ax.service.ax_client: Completed trial 96 with data: {'score': (1.783592, None)}.\n"
     ]
    },
    {
     "name": "stdout",
     "output_type": "stream",
     "text": [
      "{'score': 1.783591502741069}\n"
     ]
    },
    {
     "name": "stderr",
     "output_type": "stream",
     "text": [
      "[INFO 02-12 17:40:02] ax.service.ax_client: Generated new trial 97 with parameters {'param0': 0.64524, 'param1': 1.0, 'param2': 0.372727, 'param3': 0.271281, 'param4': 0.520488, 'param5': -0.447131, 'param6': 1.0, 'param7': -0.092487, 'param8': -0.651796, 'param9': -0.29188} using model BoTorch.\n",
      "[INFO 02-12 17:40:02] ax.service.ax_client: Completed trial 97 with data: {'score': (1.140896, None)}.\n"
     ]
    },
    {
     "name": "stdout",
     "output_type": "stream",
     "text": [
      "{'score': 1.140895690641629}\n"
     ]
    },
    {
     "name": "stderr",
     "output_type": "stream",
     "text": [
      "[INFO 02-12 17:40:03] ax.service.ax_client: Generated new trial 98 with parameters {'param0': -0.029683, 'param1': 1.0, 'param2': -0.332549, 'param3': 0.341556, 'param4': 0.176793, 'param5': -1.0, 'param6': 1.0, 'param7': -1.0, 'param8': 0.988288, 'param9': -0.596119} using model BoTorch.\n",
      "[INFO 02-12 17:40:03] ax.service.ax_client: Completed trial 98 with data: {'score': (0.58865, None)}.\n"
     ]
    },
    {
     "name": "stdout",
     "output_type": "stream",
     "text": [
      "{'score': 0.5886504089691492}\n"
     ]
    },
    {
     "name": "stderr",
     "output_type": "stream",
     "text": [
      "[INFO 02-12 17:40:04] ax.service.ax_client: Generated new trial 99 with parameters {'param0': -0.000958, 'param1': 0.543271, 'param2': 0.155297, 'param3': -0.073627, 'param4': -0.269632, 'param5': -0.332856, 'param6': 0.83546, 'param7': -0.28364, 'param8': -0.24538, 'param9': 0.205202} using model BoTorch.\n",
      "[INFO 02-12 17:40:04] ax.service.ax_client: Completed trial 99 with data: {'score': (2.070621, None)}.\n"
     ]
    },
    {
     "name": "stdout",
     "output_type": "stream",
     "text": [
      "{'score': 2.0706212908948203}\n"
     ]
    },
    {
     "data": {
      "text/plain": [
       "({'param0': -0.010599285255149415,\n",
       "  'param1': 0.4923290244000398,\n",
       "  'param2': 0.15706890655117345,\n",
       "  'param3': -0.10873100900468646,\n",
       "  'param4': -0.23571248897480446,\n",
       "  'param5': -0.27725269271440367,\n",
       "  'param6': 0.803206859465347,\n",
       "  'param7': -0.22849742887803648,\n",
       "  'param8': -0.2410382181472478,\n",
       "  'param9': 0.1919857036767616},\n",
       " ({'score': np.float64(2.077854975321675)},\n",
       "  {'score': {'score': np.float64(5.3124900566051465e-06)}}))"
      ]
     },
     "execution_count": 4,
     "metadata": {},
     "output_type": "execute_result"
    }
   ],
   "source": [
    "for _ in range(100):\n",
    "    parameterization, trial_index = ax_client.get_next_trial()\n",
    "    print(score(parameterization))\n",
    "    ax_client.complete_trial(trial_index, raw_data=score(parameterization))\n",
    "\n",
    "ax_client.get_best_parameters()"
   ]
  },
  {
   "cell_type": "code",
   "execution_count": 9,
   "metadata": {},
   "outputs": [
    {
     "name": "stdout",
     "output_type": "stream",
     "text": [
      "SearchSpace(parameters=[RangeParameter(name='param0', parameter_type=FLOAT, range=[-1.0, 1.0]), RangeParameter(name='param1', parameter_type=FLOAT, range=[-1.0, 1.0]), RangeParameter(name='param2', parameter_type=FLOAT, range=[-1.0, 1.0]), RangeParameter(name='param3', parameter_type=FLOAT, range=[-1.0, 1.0]), RangeParameter(name='param4', parameter_type=FLOAT, range=[-1.0, 1.0]), RangeParameter(name='param5', parameter_type=FLOAT, range=[-1.0, 1.0]), RangeParameter(name='param6', parameter_type=FLOAT, range=[-1.0, 1.0]), RangeParameter(name='param7', parameter_type=FLOAT, range=[-1.0, 1.0]), RangeParameter(name='param8', parameter_type=FLOAT, range=[-1.0, 1.0]), RangeParameter(name='param9', parameter_type=FLOAT, range=[-1.0, 1.0])], parameter_constraints=[])\n",
      "SearchSpace(parameters=[RangeParameter(name='param0', parameter_type=FLOAT, range=[0.0, 1.0]), RangeParameter(name='param1', parameter_type=FLOAT, range=[0.0, 1.0]), RangeParameter(name='param2', parameter_type=FLOAT, range=[0.0, 1.0]), RangeParameter(name='param3', parameter_type=FLOAT, range=[0.0, 1.0]), RangeParameter(name='param4', parameter_type=FLOAT, range=[0.0, 1.0]), RangeParameter(name='param5', parameter_type=FLOAT, range=[0.0, 1.0]), RangeParameter(name='param6', parameter_type=FLOAT, range=[0.0, 1.0]), RangeParameter(name='param7', parameter_type=FLOAT, range=[0.0, 1.0]), RangeParameter(name='param8', parameter_type=FLOAT, range=[0.0, 1.0]), RangeParameter(name='param9', parameter_type=FLOAT, range=[0.0, 1.0])], parameter_constraints=[])\n"
     ]
    }
   ],
   "source": [
    "original_search_space = ax_client.experiment.search_space.clone()\n",
    "search_space = original_search_space.clone()\n",
    "for t in ax_client.generation_strategy.model.transforms.values():\n",
    "    search_space = t.transform_search_space(search_space)\n",
    "print(original_search_space)\n",
    "print(search_space)"
   ]
  },
  {
   "cell_type": "code",
   "execution_count": 10,
   "metadata": {},
   "outputs": [
    {
     "data": {
      "text/plain": [
       "OrderedDict([('Cast', <ax.modelbridge.transforms.cast.Cast at 0x1538e9400>),\n",
       "             ('Winsorize',\n",
       "              <ax.modelbridge.transforms.winsorize.Winsorize at 0x157630d40>),\n",
       "             ('RemoveFixed',\n",
       "              <ax.modelbridge.transforms.remove_fixed.RemoveFixed at 0x14f676ea0>),\n",
       "             ('OrderedChoiceToIntegerRange',\n",
       "              <ax.modelbridge.transforms.choice_encode.OrderedChoiceToIntegerRange at 0x157632570>),\n",
       "             ('OneHot',\n",
       "              <ax.modelbridge.transforms.one_hot.OneHot at 0x1574f8ef0>),\n",
       "             ('IntToFloat',\n",
       "              <ax.modelbridge.transforms.int_to_float.IntToFloat at 0x1574f8e60>),\n",
       "             ('Log', <ax.modelbridge.transforms.log.Log at 0x15750d010>),\n",
       "             ('Logit', <ax.modelbridge.transforms.logit.Logit at 0x1538853a0>),\n",
       "             ('UnitX',\n",
       "              <ax.modelbridge.transforms.unit_x.UnitX at 0x1575b41d0>),\n",
       "             ('IVW', <ax.modelbridge.transforms.ivw.IVW at 0x1538846b0>),\n",
       "             ('Derelativize',\n",
       "              <ax.modelbridge.transforms.derelativize.Derelativize at 0x1575b50a0>),\n",
       "             ('StandardizeY',\n",
       "              <ax.modelbridge.transforms.standardize_y.StandardizeY at 0x153886fc0>)])"
      ]
     },
     "execution_count": 10,
     "metadata": {},
     "output_type": "execute_result"
    }
   ],
   "source": [
    "ax_client.generation_strategy.model.transforms"
   ]
  },
  {
   "cell_type": "code",
   "execution_count": 11,
   "metadata": {},
   "outputs": [
    {
     "data": {
      "text/plain": [
       "GenerationStrategy(name='Sobol+BoTorch', steps=[Sobol for 20 trials, BoTorch for subsequent trials])"
      ]
     },
     "execution_count": 11,
     "metadata": {},
     "output_type": "execute_result"
    }
   ],
   "source": [
    "ax_client.generation_strategy"
   ]
  },
  {
   "cell_type": "code",
   "execution_count": 13,
   "metadata": {},
   "outputs": [],
   "source": [
    "ssd = extract_search_space_digest(search_space, list(search_space.parameters))"
   ]
  },
  {
   "cell_type": "code",
   "execution_count": 14,
   "metadata": {},
   "outputs": [
    {
     "data": {
      "text/plain": [
       "SearchSpaceDigest(feature_names=['param0', 'param1', 'param2', 'param3', 'param4', 'param5', 'param6', 'param7', 'param8', 'param9'], bounds=[(0.0, 1.0), (0.0, 1.0), (0.0, 1.0), (0.0, 1.0), (0.0, 1.0), (0.0, 1.0), (0.0, 1.0), (0.0, 1.0), (0.0, 1.0), (0.0, 1.0)], ordinal_features=[], categorical_features=[], discrete_choices={}, task_features=[], fidelity_features=[], target_values={}, robust_digest=None)"
      ]
     },
     "execution_count": 14,
     "metadata": {},
     "output_type": "execute_result"
    }
   ],
   "source": [
    "ssd"
   ]
  },
  {
   "cell_type": "code",
   "execution_count": 15,
   "metadata": {},
   "outputs": [],
   "source": [
    "opt_config = TorchOptConfig(torch.tensor([1.0]))"
   ]
  },
  {
   "cell_type": "code",
   "execution_count": 16,
   "metadata": {},
   "outputs": [
    {
     "data": {
      "text/plain": [
       "tensor([0.4947, 0.7462, 0.5785, 0.4456, 0.3821, 0.3614, 0.9016, 0.3858, 0.3795,\n",
       "        0.5960], dtype=torch.float64)"
      ]
     },
     "execution_count": 16,
     "metadata": {},
     "output_type": "execute_result"
    }
   ],
   "source": [
    "ax_client.generation_strategy.model.model.best_point(ssd, opt_config)"
   ]
  },
  {
   "cell_type": "code",
   "execution_count": 18,
   "metadata": {},
   "outputs": [
    {
     "data": {
      "text/plain": [
       "tensor([-0.0106,  0.4923,  0.1571, -0.1087, -0.2357, -0.2773,  0.8032, -0.2285,\n",
       "        -0.2410,  0.1920], dtype=torch.float64)"
      ]
     },
     "execution_count": 18,
     "metadata": {},
     "output_type": "execute_result"
    }
   ],
   "source": [
    "ax_client.generation_strategy.model.model.best_point(ssd, opt_config) * 2 - 1"
   ]
  },
  {
   "cell_type": "code",
   "execution_count": 17,
   "metadata": {},
   "outputs": [
    {
     "data": {
      "text/plain": [
       "({'param0': -0.010599285255149415,\n",
       "  'param1': 0.4923290244000398,\n",
       "  'param2': 0.15706890655117345,\n",
       "  'param3': -0.10873100900468646,\n",
       "  'param4': -0.23571248897480446,\n",
       "  'param5': -0.27725269271440367,\n",
       "  'param6': 0.803206859465347,\n",
       "  'param7': -0.22849742887803648,\n",
       "  'param8': -0.2410382181472478,\n",
       "  'param9': 0.1919857036767616},\n",
       " ({'score': np.float64(2.077854975321675)},\n",
       "  {'score': {'score': np.float64(5.3124900566051465e-06)}}))"
      ]
     },
     "execution_count": 17,
     "metadata": {},
     "output_type": "execute_result"
    }
   ],
   "source": [
    "ax_client.get_best_parameters()"
   ]
  },
  {
   "cell_type": "code",
   "execution_count": 32,
   "metadata": {},
   "outputs": [],
   "source": [
    "opt_config = TorchOptConfig(torch.tensor([1.0]), fixed_features={0: 0.4947})"
   ]
  },
  {
   "cell_type": "code",
   "execution_count": 33,
   "metadata": {},
   "outputs": [],
   "source": [
    "ax_client.generation_strategy.model.model.best_point(ssd, opt_config)"
   ]
  },
  {
   "cell_type": "code",
   "execution_count": 34,
   "metadata": {},
   "outputs": [],
   "source": [
    "from botorch.acquisition import PosteriorMean\n",
    "from botorch.optim import optimize_acqf\n",
    "from torch import Tensor\n",
    "\n",
    "def get_model_optimum(\n",
    "    model,\n",
    "    bounds: Tensor,\n",
    "    fixed_features: dict[int, float],\n",
    "    maximize: bool = True,\n",
    ") -> Tensor:\n",
    "    \"\"\"Find point that maximizes/minimizes posterior mean subject to fixed feature constraints.\"\"\"\n",
    "    \n",
    "    acq_function = PosteriorMean(model, maximize=maximize)\n",
    "    \n",
    "    optimal_point, _ = optimize_acqf(\n",
    "        acq_function=acq_function,\n",
    "        bounds=bounds,\n",
    "        q=1,  # Single point\n",
    "        num_restarts=5,  # Number of random restarts for optimization\n",
    "        raw_samples=20,  # Number of samples for initialization\n",
    "        fixed_features=fixed_features,\n",
    "        return_best_only=True,\n",
    "    )\n",
    "    \n",
    "    return optimal_point.squeeze(0)  # Remove batch dimension"
   ]
  },
  {
   "cell_type": "code",
   "execution_count": 35,
   "metadata": {},
   "outputs": [
    {
     "ename": "AttributeError",
     "evalue": "'BoTorchModel' object has no attribute 'num_outputs'",
     "output_type": "error",
     "traceback": [
      "\u001b[0;31m---------------------------------------------------------------------------\u001b[0m",
      "\u001b[0;31mAttributeError\u001b[0m                            Traceback (most recent call last)",
      "Cell \u001b[0;32mIn[35], line 1\u001b[0m\n\u001b[0;32m----> 1\u001b[0m \u001b[43mget_model_optimum\u001b[49m\u001b[43m(\u001b[49m\u001b[43max_client\u001b[49m\u001b[38;5;241;43m.\u001b[39;49m\u001b[43mgeneration_strategy\u001b[49m\u001b[38;5;241;43m.\u001b[39;49m\u001b[43mmodel\u001b[49m\u001b[38;5;241;43m.\u001b[39;49m\u001b[43mmodel\u001b[49m\u001b[43m,\u001b[49m\u001b[43m \u001b[49m\u001b[43mtorch\u001b[49m\u001b[38;5;241;43m.\u001b[39;49m\u001b[43mtensor\u001b[49m\u001b[43m(\u001b[49m\u001b[43m[\u001b[49m\u001b[38;5;241;43m-\u001b[39;49m\u001b[38;5;241;43m1.0\u001b[39;49m\u001b[43m,\u001b[49m\u001b[43m \u001b[49m\u001b[38;5;241;43m1.0\u001b[39;49m\u001b[43m]\u001b[49m\u001b[43m)\u001b[49m\u001b[43m,\u001b[49m\u001b[43m \u001b[49m\u001b[43m{\u001b[49m\u001b[43m}\u001b[49m\u001b[43m)\u001b[49m\n",
      "Cell \u001b[0;32mIn[34], line 13\u001b[0m, in \u001b[0;36mget_model_optimum\u001b[0;34m(model, bounds, fixed_features, maximize)\u001b[0m\n\u001b[1;32m      5\u001b[0m \u001b[38;5;28;01mdef\u001b[39;00m\u001b[38;5;250m \u001b[39m\u001b[38;5;21mget_model_optimum\u001b[39m(\n\u001b[1;32m      6\u001b[0m     model,\n\u001b[1;32m      7\u001b[0m     bounds: Tensor,\n\u001b[1;32m      8\u001b[0m     fixed_features: \u001b[38;5;28mdict\u001b[39m[\u001b[38;5;28mint\u001b[39m, \u001b[38;5;28mfloat\u001b[39m],\n\u001b[1;32m      9\u001b[0m     maximize: \u001b[38;5;28mbool\u001b[39m \u001b[38;5;241m=\u001b[39m \u001b[38;5;28;01mTrue\u001b[39;00m,\n\u001b[1;32m     10\u001b[0m ) \u001b[38;5;241m-\u001b[39m\u001b[38;5;241m>\u001b[39m Tensor:\n\u001b[1;32m     11\u001b[0m \u001b[38;5;250m    \u001b[39m\u001b[38;5;124;03m\"\"\"Find point that maximizes/minimizes posterior mean subject to fixed feature constraints.\"\"\"\u001b[39;00m\n\u001b[0;32m---> 13\u001b[0m     acq_function \u001b[38;5;241m=\u001b[39m \u001b[43mPosteriorMean\u001b[49m\u001b[43m(\u001b[49m\u001b[43mmodel\u001b[49m\u001b[43m,\u001b[49m\u001b[43m \u001b[49m\u001b[43mmaximize\u001b[49m\u001b[38;5;241;43m=\u001b[39;49m\u001b[43mmaximize\u001b[49m\u001b[43m)\u001b[49m\n\u001b[1;32m     15\u001b[0m     optimal_point, _ \u001b[38;5;241m=\u001b[39m optimize_acqf(\n\u001b[1;32m     16\u001b[0m         acq_function\u001b[38;5;241m=\u001b[39macq_function,\n\u001b[1;32m     17\u001b[0m         bounds\u001b[38;5;241m=\u001b[39mbounds,\n\u001b[0;32m   (...)\u001b[0m\n\u001b[1;32m     22\u001b[0m         return_best_only\u001b[38;5;241m=\u001b[39m\u001b[38;5;28;01mTrue\u001b[39;00m,\n\u001b[1;32m     23\u001b[0m     )\n\u001b[1;32m     25\u001b[0m     \u001b[38;5;28;01mreturn\u001b[39;00m optimal_point\u001b[38;5;241m.\u001b[39msqueeze(\u001b[38;5;241m0\u001b[39m)\n",
      "File \u001b[0;32m~/ax-feature-importance/.venv/lib/python3.12/site-packages/botorch/acquisition/analytic.py:831\u001b[0m, in \u001b[0;36mPosteriorMean.__init__\u001b[0;34m(self, model, posterior_transform, maximize)\u001b[0m\n\u001b[1;32m    812\u001b[0m \u001b[38;5;28;01mdef\u001b[39;00m\u001b[38;5;250m \u001b[39m\u001b[38;5;21m__init__\u001b[39m(\n\u001b[1;32m    813\u001b[0m     \u001b[38;5;28mself\u001b[39m,\n\u001b[1;32m    814\u001b[0m     model: Model,\n\u001b[1;32m    815\u001b[0m     posterior_transform: Optional[PosteriorTransform] \u001b[38;5;241m=\u001b[39m \u001b[38;5;28;01mNone\u001b[39;00m,\n\u001b[1;32m    816\u001b[0m     maximize: \u001b[38;5;28mbool\u001b[39m \u001b[38;5;241m=\u001b[39m \u001b[38;5;28;01mTrue\u001b[39;00m,\n\u001b[1;32m    817\u001b[0m ) \u001b[38;5;241m-\u001b[39m\u001b[38;5;241m>\u001b[39m \u001b[38;5;28;01mNone\u001b[39;00m:\n\u001b[1;32m    818\u001b[0m \u001b[38;5;250m    \u001b[39m\u001b[38;5;124mr\u001b[39m\u001b[38;5;124;03m\"\"\"Single-outcome Posterior Mean.\u001b[39;00m\n\u001b[1;32m    819\u001b[0m \n\u001b[1;32m    820\u001b[0m \u001b[38;5;124;03m    Args:\u001b[39;00m\n\u001b[0;32m   (...)\u001b[0m\n\u001b[1;32m    829\u001b[0m \u001b[38;5;124;03m            actually returns -1 * minimum of the posterior mean.\u001b[39;00m\n\u001b[1;32m    830\u001b[0m \u001b[38;5;124;03m    \"\"\"\u001b[39;00m\n\u001b[0;32m--> 831\u001b[0m     \u001b[38;5;28;43msuper\u001b[39;49m\u001b[43m(\u001b[49m\u001b[43m)\u001b[49m\u001b[38;5;241;43m.\u001b[39;49m\u001b[38;5;21;43m__init__\u001b[39;49m\u001b[43m(\u001b[49m\u001b[43mmodel\u001b[49m\u001b[38;5;241;43m=\u001b[39;49m\u001b[43mmodel\u001b[49m\u001b[43m,\u001b[49m\u001b[43m \u001b[49m\u001b[43mposterior_transform\u001b[49m\u001b[38;5;241;43m=\u001b[39;49m\u001b[43mposterior_transform\u001b[49m\u001b[43m)\u001b[49m\n\u001b[1;32m    832\u001b[0m     \u001b[38;5;28mself\u001b[39m\u001b[38;5;241m.\u001b[39mmaximize \u001b[38;5;241m=\u001b[39m maximize\n",
      "File \u001b[0;32m~/ax-feature-importance/.venv/lib/python3.12/site-packages/botorch/acquisition/analytic.py:67\u001b[0m, in \u001b[0;36mAnalyticAcquisitionFunction.__init__\u001b[0;34m(self, model, posterior_transform)\u001b[0m\n\u001b[1;32m     65\u001b[0m \u001b[38;5;28msuper\u001b[39m()\u001b[38;5;241m.\u001b[39m\u001b[38;5;21m__init__\u001b[39m(model\u001b[38;5;241m=\u001b[39mmodel)\n\u001b[1;32m     66\u001b[0m \u001b[38;5;28;01mif\u001b[39;00m posterior_transform \u001b[38;5;129;01mis\u001b[39;00m \u001b[38;5;28;01mNone\u001b[39;00m:\n\u001b[0;32m---> 67\u001b[0m     \u001b[38;5;28;01mif\u001b[39;00m \u001b[43mmodel\u001b[49m\u001b[38;5;241;43m.\u001b[39;49m\u001b[43mnum_outputs\u001b[49m \u001b[38;5;241m!=\u001b[39m \u001b[38;5;241m1\u001b[39m:\n\u001b[1;32m     68\u001b[0m         \u001b[38;5;28;01mraise\u001b[39;00m UnsupportedError(\n\u001b[1;32m     69\u001b[0m             \u001b[38;5;124m\"\u001b[39m\u001b[38;5;124mMust specify a posterior transform when using a \u001b[39m\u001b[38;5;124m\"\u001b[39m\n\u001b[1;32m     70\u001b[0m             \u001b[38;5;124m\"\u001b[39m\u001b[38;5;124mmulti-output model.\u001b[39m\u001b[38;5;124m\"\u001b[39m\n\u001b[1;32m     71\u001b[0m         )\n\u001b[1;32m     72\u001b[0m \u001b[38;5;28;01melse\u001b[39;00m:\n",
      "\u001b[0;31mAttributeError\u001b[0m: 'BoTorchModel' object has no attribute 'num_outputs'"
     ]
    }
   ],
   "source": [
    "get_model_optimum(ax_client.generation_strategy.model.model, torch.tensor([-1.0, 1.0]), {})"
   ]
  },
  {
   "cell_type": "code",
   "execution_count": 36,
   "metadata": {},
   "outputs": [],
   "source": [
    "def get_model_optimum(\n",
    "    ax_model,  # This is the BoTorchModel from Ax\n",
    "    bounds: Tensor,\n",
    "    fixed_features: dict[int, float],\n",
    "    maximize: bool = True,\n",
    ") -> Tensor:\n",
    "    \"\"\"Find point that maximizes/minimizes posterior mean subject to fixed feature constraints.\"\"\"\n",
    "    \n",
    "    # Get the underlying BoTorch model\n",
    "    botorch_model = ax_model.model\n",
    "    \n",
    "    acq_function = PosteriorMean(botorch_model, maximize=maximize)\n",
    "    \n",
    "    optimal_point, _ = optimize_acqf(\n",
    "        acq_function=acq_function,\n",
    "        bounds=bounds,\n",
    "        q=1,\n",
    "        num_restarts=5,\n",
    "        raw_samples=20,\n",
    "        fixed_features=fixed_features,\n",
    "        return_best_only=True,\n",
    "    )\n",
    "    \n",
    "    return optimal_point.squeeze(0)"
   ]
  },
  {
   "cell_type": "code",
   "execution_count": 37,
   "metadata": {},
   "outputs": [
    {
     "ename": "AttributeError",
     "evalue": "'BoTorchModel' object has no attribute 'model'",
     "output_type": "error",
     "traceback": [
      "\u001b[0;31m---------------------------------------------------------------------------\u001b[0m",
      "\u001b[0;31mAttributeError\u001b[0m                            Traceback (most recent call last)",
      "Cell \u001b[0;32mIn[37], line 3\u001b[0m\n\u001b[1;32m      1\u001b[0m model \u001b[38;5;241m=\u001b[39m ax_client\u001b[38;5;241m.\u001b[39mgeneration_strategy\u001b[38;5;241m.\u001b[39mmodel\u001b[38;5;241m.\u001b[39mmodel  \u001b[38;5;66;03m# Get the BoTorchModel\u001b[39;00m\n\u001b[1;32m      2\u001b[0m bounds \u001b[38;5;241m=\u001b[39m torch\u001b[38;5;241m.\u001b[39mstack([torch\u001b[38;5;241m.\u001b[39mzeros(\u001b[38;5;241m10\u001b[39m), torch\u001b[38;5;241m.\u001b[39mones(\u001b[38;5;241m10\u001b[39m)])  \u001b[38;5;66;03m# Create bounds tensor\u001b[39;00m\n\u001b[0;32m----> 3\u001b[0m optimum \u001b[38;5;241m=\u001b[39m \u001b[43mget_model_optimum\u001b[49m\u001b[43m(\u001b[49m\u001b[43mmodel\u001b[49m\u001b[43m,\u001b[49m\u001b[43m \u001b[49m\u001b[43mbounds\u001b[49m\u001b[43m,\u001b[49m\u001b[43m \u001b[49m\u001b[43mfixed_features\u001b[49m\u001b[38;5;241;43m=\u001b[39;49m\u001b[43m{\u001b[49m\u001b[38;5;241;43m0\u001b[39;49m\u001b[43m:\u001b[49m\u001b[43m \u001b[49m\u001b[38;5;241;43m0.5\u001b[39;49m\u001b[43m}\u001b[49m\u001b[43m)\u001b[49m\n",
      "Cell \u001b[0;32mIn[36], line 10\u001b[0m, in \u001b[0;36mget_model_optimum\u001b[0;34m(ax_model, bounds, fixed_features, maximize)\u001b[0m\n\u001b[1;32m      7\u001b[0m \u001b[38;5;250m\u001b[39m\u001b[38;5;124;03m\"\"\"Find point that maximizes/minimizes posterior mean subject to fixed feature constraints.\"\"\"\u001b[39;00m\n\u001b[1;32m      9\u001b[0m \u001b[38;5;66;03m# Get the underlying BoTorch model\u001b[39;00m\n\u001b[0;32m---> 10\u001b[0m botorch_model \u001b[38;5;241m=\u001b[39m \u001b[43max_model\u001b[49m\u001b[38;5;241;43m.\u001b[39;49m\u001b[43mmodel\u001b[49m\n\u001b[1;32m     12\u001b[0m acq_function \u001b[38;5;241m=\u001b[39m PosteriorMean(botorch_model, maximize\u001b[38;5;241m=\u001b[39mmaximize)\n\u001b[1;32m     14\u001b[0m optimal_point, _ \u001b[38;5;241m=\u001b[39m optimize_acqf(\n\u001b[1;32m     15\u001b[0m     acq_function\u001b[38;5;241m=\u001b[39macq_function,\n\u001b[1;32m     16\u001b[0m     bounds\u001b[38;5;241m=\u001b[39mbounds,\n\u001b[0;32m   (...)\u001b[0m\n\u001b[1;32m     21\u001b[0m     return_best_only\u001b[38;5;241m=\u001b[39m\u001b[38;5;28;01mTrue\u001b[39;00m,\n\u001b[1;32m     22\u001b[0m )\n",
      "\u001b[0;31mAttributeError\u001b[0m: 'BoTorchModel' object has no attribute 'model'"
     ]
    }
   ],
   "source": [
    "model = ax_client.generation_strategy.model.model  # Get the BoTorchModel\n",
    "bounds = torch.stack([torch.zeros(10), torch.ones(10)])  # Create bounds tensor\n",
    "optimum = get_model_optimum(model, bounds, fixed_features={0: 0.5})"
   ]
  },
  {
   "cell_type": "code",
   "execution_count": 38,
   "metadata": {},
   "outputs": [],
   "source": [
    "def get_model_optimum(\n",
    "    ax_model,  # This is the BoTorchModel from Ax\n",
    "    bounds: Tensor,\n",
    "    fixed_features: dict[int, float],\n",
    "    maximize: bool = True,\n",
    ") -> Tensor:\n",
    "    \"\"\"Find point that maximizes/minimizes posterior mean subject to fixed feature constraints.\"\"\"\n",
    "    \n",
    "    # Get the underlying BoTorch model through the surrogate\n",
    "    botorch_model = ax_model.surrogate.model\n",
    "    \n",
    "    acq_function = PosteriorMean(botorch_model, maximize=maximize)\n",
    "    \n",
    "    optimal_point, _ = optimize_acqf(\n",
    "        acq_function=acq_function,\n",
    "        bounds=bounds,\n",
    "        q=1,\n",
    "        num_restarts=5,\n",
    "        raw_samples=20,\n",
    "        fixed_features=fixed_features,\n",
    "        return_best_only=True,\n",
    "    )\n",
    "    \n",
    "    return optimal_point.squeeze(0)"
   ]
  },
  {
   "cell_type": "code",
   "execution_count": 47,
   "metadata": {},
   "outputs": [],
   "source": [
    "model = ax_client.generation_strategy.model.model  # Get the BoTorchModel\n",
    "bounds = torch.stack([torch.zeros(10), torch.ones(10)])  # Create bounds tensor\n",
    "optimum = get_model_optimum(model, bounds, fixed_features={0: 0.495})"
   ]
  },
  {
   "cell_type": "code",
   "execution_count": 48,
   "metadata": {},
   "outputs": [
    {
     "data": {
      "text/plain": [
       "tensor([-0.0100,  0.5084,  0.1627, -0.1053, -0.2327, -0.2652,  0.8001, -0.2174,\n",
       "        -0.2423,  0.2163])"
      ]
     },
     "execution_count": 48,
     "metadata": {},
     "output_type": "execute_result"
    }
   ],
   "source": [
    "optimum * 2 - 1"
   ]
  },
  {
   "cell_type": "code",
   "execution_count": null,
   "metadata": {},
   "outputs": [
    {
     "data": {
      "text/plain": [
       "({'param0': -0.010599285255149415,\n",
       "  'param1': 0.4923290244000398,\n",
       "  'param2': 0.15706890655117345,\n",
       "  'param3': -0.10873100900468646,\n",
       "  'param4': -0.23571248897480446,\n",
       "  'param5': -0.27725269271440367,\n",
       "  'param6': 0.803206859465347,\n",
       "  'param7': -0.22849742887803648,\n",
       "  'param8': -0.2410382181472478,\n",
       "  'param9': 0.1919857036767616},\n",
       " ({'score': np.float64(2.077854975321675)},\n",
       "  {'score': {'score': np.float64(5.3124900566051465e-06)}}))"
      ]
     },
     "execution_count": 49,
     "metadata": {},
     "output_type": "execute_result"
    }
   ],
   "source": [
    "ax_client.get_best_parameters()"
   ]
  },
  {
   "cell_type": "code",
   "execution_count": null,
   "metadata": {},
   "outputs": [],
   "source": []
  }
 ],
 "metadata": {
  "kernelspec": {
   "display_name": ".venv",
   "language": "python",
   "name": "python3"
  },
  "language_info": {
   "codemirror_mode": {
    "name": "ipython",
    "version": 3
   },
   "file_extension": ".py",
   "mimetype": "text/x-python",
   "name": "python",
   "nbconvert_exporter": "python",
   "pygments_lexer": "ipython3",
   "version": "3.12.8"
  }
 },
 "nbformat": 4,
 "nbformat_minor": 2
}
