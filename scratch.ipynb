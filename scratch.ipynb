{
 "cells": [
  {
   "cell_type": "code",
   "execution_count": null,
   "metadata": {},
   "outputs": [],
   "source": [
    "%load_ext autoreload\n",
    "%autoreload 2"
   ]
  },
  {
   "cell_type": "code",
   "execution_count": 2,
   "metadata": {},
   "outputs": [],
   "source": [
    "import numpy as np\n",
    "import torch\n",
    "from ax.service.ax_client import AxClient, ObjectiveProperties\n",
    "from ax.modelbridge.modelbridge_utils import extract_search_space_digest\n",
    "from ax.models.torch_base import TorchOptConfig\n",
    "\n",
    "from src.feature_importance import get_model_optimum_in_transformed_space, get_model_optimum_in_original_space"
   ]
  },
  {
   "cell_type": "code",
   "execution_count": 3,
   "metadata": {},
   "outputs": [
    {
     "name": "stderr",
     "output_type": "stream",
     "text": [
      "[INFO 02-13 13:28:13] ax.service.ax_client: Starting optimization with verbose logging. To disable logging, set the `verbose_logging` argument to `False`. Note that float values in the logs are rounded to 6 decimal points.\n",
      "[INFO 02-13 13:28:13] ax.service.utils.instantiation: Created search space: SearchSpace(parameters=[RangeParameter(name='param0', parameter_type=FLOAT, range=[-1.0, 1.0]), RangeParameter(name='param1', parameter_type=FLOAT, range=[-1.0, 1.0]), RangeParameter(name='param2', parameter_type=FLOAT, range=[-1.0, 1.0]), RangeParameter(name='param3', parameter_type=FLOAT, range=[-1.0, 1.0]), RangeParameter(name='param4', parameter_type=FLOAT, range=[-1.0, 1.0]), RangeParameter(name='param5', parameter_type=FLOAT, range=[-1.0, 1.0]), RangeParameter(name='param6', parameter_type=FLOAT, range=[-1.0, 1.0]), RangeParameter(name='param7', parameter_type=FLOAT, range=[-1.0, 1.0]), RangeParameter(name='param8', parameter_type=FLOAT, range=[-1.0, 1.0]), RangeParameter(name='param9', parameter_type=FLOAT, range=[-1.0, 1.0])], parameter_constraints=[]).\n",
      "[INFO 02-13 13:28:13] ax.modelbridge.dispatch_utils: Using Models.BOTORCH_MODULAR since there is at least one ordered parameter and there are no unordered categorical parameters.\n",
      "[INFO 02-13 13:28:13] ax.modelbridge.dispatch_utils: Calculating the number of remaining initialization trials based on num_initialization_trials=None max_initialization_trials=None num_tunable_parameters=10 num_trials=None use_batch_trials=False\n",
      "[INFO 02-13 13:28:13] ax.modelbridge.dispatch_utils: calculated num_initialization_trials=20\n",
      "[INFO 02-13 13:28:13] ax.modelbridge.dispatch_utils: num_completed_initialization_trials=0 num_remaining_initialization_trials=20\n",
      "[INFO 02-13 13:28:13] ax.modelbridge.dispatch_utils: `verbose`, `disable_progbar`, and `jit_compile` are not yet supported when using `choose_generation_strategy` with ModularBoTorchModel, dropping these arguments.\n",
      "[INFO 02-13 13:28:13] ax.modelbridge.dispatch_utils: Using Bayesian Optimization generation strategy: GenerationStrategy(name='Sobol+BoTorch', steps=[Sobol for 20 trials, BoTorch for subsequent trials]). Iterations after 20 will take longer to generate due to model-fitting.\n"
     ]
    }
   ],
   "source": [
    "# Setup Ax client\n",
    "ax_client = AxClient()\n",
    "ax_client.create_experiment(\n",
    "    name=\"test1\",\n",
    "    parameters=[\n",
    "        {\n",
    "            \"name\": \"param\" + str(feature_idx),\n",
    "            \"type\": \"range\",\n",
    "            \"bounds\": [-1.0, 1.0],\n",
    "            \"value_type\": \"float\",\n",
    "        }\n",
    "        for feature_idx in range(10)\n",
    "    ],\n",
    "    objectives={\n",
    "        \"score\": ObjectiveProperties(minimize=False),\n",
    "    }\n",
    ")"
   ]
  },
  {
   "cell_type": "code",
   "execution_count": 4,
   "metadata": {},
   "outputs": [],
   "source": [
    "# Initialize fixed random Gaussian centers and covariances\n",
    "_centers = [\n",
    "    np.random.randn(10) * 0.5,  # Center 1\n",
    "    np.random.randn(10) * 0.5,  # Center 2\n",
    "    np.random.randn(10) * 0.5   # Center 3\n",
    "]\n",
    "\n",
    "# Create fixed random positive definite covariance matrices\n",
    "_covs = []\n",
    "for _ in range(3):\n",
    "    A = np.random.randn(10, 10)\n",
    "    cov = A.T @ A + np.eye(10)  # Ensure positive definite\n",
    "    _covs.append(cov * 0.3)  # Scale down to avoid too sharp peaks\n",
    "\n",
    "def score(parameterization):\n",
    "    # Convert parameterization to numpy array\n",
    "    x = np.array([parameterization[f\"param{i}\"] for i in range(10)])\n",
    "    \n",
    "    # Sum up the Gaussians using fixed centers and covariances\n",
    "    result = 0\n",
    "    for center, cov in zip(_centers, _covs):\n",
    "        diff = x - center\n",
    "        result += np.exp(-0.5 * diff @ np.linalg.solve(cov, diff))\n",
    "    \n",
    "    return {\"score\": float(result)}\n"
   ]
  },
  {
   "cell_type": "code",
   "execution_count": 5,
   "metadata": {},
   "outputs": [
    {
     "name": "stderr",
     "output_type": "stream",
     "text": [
      "/Users/keenanpepper/ax-feature-importance/.venv/lib/python3.12/site-packages/ax/modelbridge/cross_validation.py:463: UserWarning: Encountered exception in computing model fit quality: RandomModelBridge does not support prediction.\n",
      "  warn(\"Encountered exception in computing model fit quality: \" + str(e))\n",
      "[INFO 02-13 13:28:17] ax.service.ax_client: Generated new trial 0 with parameters {'param0': 0.732023, 'param1': -0.400775, 'param2': -0.366706, 'param3': -0.537021, 'param4': 0.955392, 'param5': -0.358135, 'param6': 0.728747, 'param7': -0.275478, 'param8': -0.095125, 'param9': -0.72373} using model Sobol.\n",
      "[INFO 02-13 13:28:17] ax.service.ax_client: Completed trial 0 with data: {'score': (0.442373, None)}.\n",
      "/Users/keenanpepper/ax-feature-importance/.venv/lib/python3.12/site-packages/ax/modelbridge/cross_validation.py:463: UserWarning: Encountered exception in computing model fit quality: RandomModelBridge does not support prediction.\n",
      "  warn(\"Encountered exception in computing model fit quality: \" + str(e))\n",
      "[INFO 02-13 13:28:17] ax.service.ax_client: Generated new trial 1 with parameters {'param0': -0.275488, 'param1': 0.037561, 'param2': 0.360964, 'param3': 0.836743, 'param4': -0.108471, 'param5': 0.228866, 'param6': -0.153539, 'param7': 0.18206, 'param8': 0.940699, 'param9': 0.333385} using model Sobol.\n",
      "[INFO 02-13 13:28:17] ax.service.ax_client: Completed trial 1 with data: {'score': (1.176885, None)}.\n",
      "/Users/keenanpepper/ax-feature-importance/.venv/lib/python3.12/site-packages/ax/modelbridge/cross_validation.py:463: UserWarning: Encountered exception in computing model fit quality: RandomModelBridge does not support prediction.\n",
      "  warn(\"Encountered exception in computing model fit quality: \" + str(e))\n",
      "[INFO 02-13 13:28:18] ax.service.ax_client: Generated new trial 2 with parameters {'param0': -0.59524, 'param1': -0.62478, 'param2': -0.761032, 'param3': -0.161668, 'param4': -0.566256, 'param5': 0.511549, 'param6': 0.162432, 'param7': 0.70288, 'param8': 0.497674, 'param9': 0.575953} using model Sobol.\n",
      "[INFO 02-13 13:28:18] ax.service.ax_client: Completed trial 2 with data: {'score': (0.317492, None)}.\n",
      "/Users/keenanpepper/ax-feature-importance/.venv/lib/python3.12/site-packages/ax/modelbridge/cross_validation.py:463: UserWarning: Encountered exception in computing model fit quality: RandomModelBridge does not support prediction.\n",
      "  warn(\"Encountered exception in computing model fit quality: \" + str(e))\n",
      "[INFO 02-13 13:28:18] ax.service.ax_client: Generated new trial 3 with parameters {'param0': 0.396517, 'param1': 0.941242, 'param2': 0.763112, 'param3': 0.461639, 'param4': 0.498627, 'param5': -0.889844, 'param6': -0.704412, 'param7': -0.85915, 'param8': -0.593446, 'param9': -0.497792} using model Sobol.\n",
      "[INFO 02-13 13:28:18] ax.service.ax_client: Completed trial 3 with data: {'score': (0.140013, None)}.\n",
      "/Users/keenanpepper/ax-feature-importance/.venv/lib/python3.12/site-packages/ax/modelbridge/cross_validation.py:463: UserWarning: Encountered exception in computing model fit quality: RandomModelBridge does not support prediction.\n",
      "  warn(\"Encountered exception in computing model fit quality: \" + str(e))\n",
      "[INFO 02-13 13:28:18] ax.service.ax_client: Generated new trial 4 with parameters {'param0': 0.210809, 'param1': -0.815448, 'param2': 0.166252, 'param3': 0.008666, 'param4': 0.034226, 'param5': -0.185609, 'param6': 0.289625, 'param7': 0.863558, 'param8': 0.132605, 'param9': 0.06087} using model Sobol.\n",
      "[INFO 02-13 13:28:18] ax.service.ax_client: Completed trial 4 with data: {'score': (0.277852, None)}.\n",
      "/Users/keenanpepper/ax-feature-importance/.venv/lib/python3.12/site-packages/ax/modelbridge/cross_validation.py:463: UserWarning: Encountered exception in computing model fit quality: RandomModelBridge does not support prediction.\n",
      "  warn(\"Encountered exception in computing model fit quality: \" + str(e))\n",
      "[INFO 02-13 13:28:18] ax.service.ax_client: Generated new trial 5 with parameters {'param0': -0.781559, 'param1': 0.749108, 'param2': -0.168078, 'param3': -0.365129, 'param4': -0.90459, 'param5': 0.307558, 'param6': -0.843348, 'param7': -0.707229, 'param8': -0.787017, 'param9': -0.888853} using model Sobol.\n",
      "[INFO 02-13 13:28:18] ax.service.ax_client: Completed trial 5 with data: {'score': (0.479589, None)}.\n",
      "/Users/keenanpepper/ax-feature-importance/.venv/lib/python3.12/site-packages/ax/modelbridge/cross_validation.py:463: UserWarning: Encountered exception in computing model fit quality: RandomModelBridge does not support prediction.\n",
      "  warn(\"Encountered exception in computing model fit quality: \" + str(e))\n",
      "[INFO 02-13 13:28:18] ax.service.ax_client: Generated new trial 6 with parameters {'param0': -0.08966, 'param1': -0.162743, 'param2': 0.7099, 'param3': 0.633526, 'param4': -0.424343, 'param5': 0.964328, 'param6': 0.848615, 'param7': -0.158087, 'param8': -0.276608, 'param9': -0.147015} using model Sobol.\n",
      "[INFO 02-13 13:28:18] ax.service.ax_client: Completed trial 6 with data: {'score': (0.825881, None)}.\n",
      "/Users/keenanpepper/ax-feature-importance/.venv/lib/python3.12/site-packages/ax/modelbridge/cross_validation.py:463: UserWarning: Encountered exception in computing model fit quality: RandomModelBridge does not support prediction.\n",
      "  warn(\"Encountered exception in computing model fit quality: \" + str(e))\n",
      "[INFO 02-13 13:28:18] ax.service.ax_client: Generated new trial 7 with parameters {'param0': 0.918217, 'param1': 0.27608, 'param2': -0.703924, 'param3': -0.989748, 'param4': 0.515405, 'param5': -0.593354, 'param6': -0.269526, 'param7': 0.251567, 'param8': 0.680729, 'param9': 0.788028} using model Sobol.\n",
      "[INFO 02-13 13:28:18] ax.service.ax_client: Completed trial 7 with data: {'score': (0.316975, None)}.\n",
      "/Users/keenanpepper/ax-feature-importance/.venv/lib/python3.12/site-packages/ax/modelbridge/cross_validation.py:463: UserWarning: Encountered exception in computing model fit quality: RandomModelBridge does not support prediction.\n",
      "  warn(\"Encountered exception in computing model fit quality: \" + str(e))\n",
      "[INFO 02-13 13:28:18] ax.service.ax_client: Generated new trial 8 with parameters {'param0': 0.809022, 'param1': -0.687817, 'param2': 0.606752, 'param3': -0.494672, 'param4': -0.148795, 'param5': -0.784411, 'param6': 0.411934, 'param7': 0.934574, 'param8': 0.116902, 'param9': -0.306008} using model Sobol.\n",
      "[INFO 02-13 13:28:18] ax.service.ax_client: Completed trial 8 with data: {'score': (0.092126, None)}.\n",
      "/Users/keenanpepper/ax-feature-importance/.venv/lib/python3.12/site-packages/ax/modelbridge/cross_validation.py:463: UserWarning: Encountered exception in computing model fit quality: RandomModelBridge does not support prediction.\n",
      "  warn(\"Encountered exception in computing model fit quality: \" + str(e))\n",
      "[INFO 02-13 13:28:18] ax.service.ax_client: Generated new trial 9 with parameters {'param0': -0.199213, 'param1': 0.871344, 'param2': -0.604923, 'param3': 0.13251, 'param4': 0.786244, 'param5': 0.663926, 'param6': -0.955901, 'param7': -0.528793, 'param8': -0.958599, 'param9': 0.633918} using model Sobol.\n",
      "[INFO 02-13 13:28:18] ax.service.ax_client: Completed trial 9 with data: {'score': (0.190887, None)}.\n",
      "/Users/keenanpepper/ax-feature-importance/.venv/lib/python3.12/site-packages/ax/modelbridge/cross_validation.py:463: UserWarning: Encountered exception in computing model fit quality: RandomModelBridge does not support prediction.\n",
      "  warn(\"Encountered exception in computing model fit quality: \" + str(e))\n",
      "[INFO 02-13 13:28:18] ax.service.ax_client: Generated new trial 10 with parameters {'param0': -0.922248, 'param1': -0.287055, 'param2': 0.017203, 'param3': -0.870054, 'param4': 0.25961, 'param5': 0.06868, 'param6': 0.978252, 'param7': -0.102211, 'param8': -0.479751, 'param9': 0.392112} using model Sobol.\n",
      "[INFO 02-13 13:28:18] ax.service.ax_client: Completed trial 10 with data: {'score': (0.637303, None)}.\n",
      "/Users/keenanpepper/ax-feature-importance/.venv/lib/python3.12/site-packages/ax/modelbridge/cross_validation.py:463: UserWarning: Encountered exception in computing model fit quality: RandomModelBridge does not support prediction.\n",
      "  warn(\"Encountered exception in computing model fit quality: \" + str(e))\n",
      "[INFO 02-13 13:28:18] ax.service.ax_client: Generated new trial 11 with parameters {'param0': 0.070249, 'param1': 0.15028, 'param2': -0.023181, 'param3': 0.507645, 'param4': -0.676361, 'param5': -0.440142, 'param6': -0.405026, 'param7': 0.446117, 'param8': 0.571708, 'param9': -0.533197} using model Sobol.\n",
      "[INFO 02-13 13:28:18] ax.service.ax_client: Completed trial 11 with data: {'score': (0.519426, None)}.\n",
      "/Users/keenanpepper/ax-feature-importance/.venv/lib/python3.12/site-packages/ax/modelbridge/cross_validation.py:463: UserWarning: Encountered exception in computing model fit quality: RandomModelBridge does not support prediction.\n",
      "  warn(\"Encountered exception in computing model fit quality: \" + str(e))\n",
      "[INFO 02-13 13:28:18] ax.service.ax_client: Generated new trial 12 with parameters {'param0': 0.256077, 'param1': -0.02461, 'param2': -0.922776, 'param3': 0.960679, 'param4': -0.852554, 'param5': -0.737883, 'param6': 0.601063, 'param7': -0.456416, 'param8': -0.141678, 'param9': 0.970794} using model Sobol.\n",
      "[INFO 02-13 13:28:18] ax.service.ax_client: Completed trial 12 with data: {'score': (0.285363, None)}.\n",
      "/Users/keenanpepper/ax-feature-importance/.venv/lib/python3.12/site-packages/ax/modelbridge/cross_validation.py:463: UserWarning: Encountered exception in computing model fit quality: RandomModelBridge does not support prediction.\n",
      "  warn(\"Encountered exception in computing model fit quality: \" + str(e))\n",
      "[INFO 02-13 13:28:18] ax.service.ax_client: Generated new trial 13 with parameters {'param0': -0.736053, 'param1': 0.411262, 'param2': 0.928516, 'param3': -0.666533, 'param4': 0.207288, 'param5': 0.866665, 'param6': -0.016086, 'param7': 0.112448, 'param8': 0.800026, 'param9': -0.08049} using model Sobol.\n",
      "[INFO 02-13 13:28:18] ax.service.ax_client: Completed trial 13 with data: {'score': (0.855372, None)}.\n",
      "/Users/keenanpepper/ax-feature-importance/.venv/lib/python3.12/site-packages/ax/modelbridge/cross_validation.py:463: UserWarning: Encountered exception in computing model fit quality: RandomModelBridge does not support prediction.\n",
      "  warn(\"Encountered exception in computing model fit quality: \" + str(e))\n",
      "[INFO 02-13 13:28:18] ax.service.ax_client: Generated new trial 14 with parameters {'param0': -0.384921, 'param1': -0.99665, 'param2': -0.449347, 'param3': 0.335789, 'param4': 0.742711, 'param5': 0.397458, 'param6': 0.042076, 'param7': 0.506804, 'param8': 0.26356, 'param9': -0.82303} using model Sobol.\n",
      "[INFO 02-13 13:28:18] ax.service.ax_client: Completed trial 14 with data: {'score': (0.171794, None)}.\n",
      "/Users/keenanpepper/ax-feature-importance/.venv/lib/python3.12/site-packages/ax/modelbridge/cross_validation.py:463: UserWarning: Encountered exception in computing model fit quality: RandomModelBridge does not support prediction.\n",
      "  warn(\"Encountered exception in computing model fit quality: \" + str(e))\n",
      "[INFO 02-13 13:28:18] ax.service.ax_client: Generated new trial 15 with parameters {'param0': 0.622704, 'param1': 0.563001, 'param2': 0.447269, 'param3': -0.041883, 'param4': -0.318152, 'param5': -0.017699, 'param6': -0.589905, 'param7': -0.912646, 'param8': -0.671679, 'param9': 0.244827} using model Sobol.\n",
      "[INFO 02-13 13:28:18] ax.service.ax_client: Completed trial 15 with data: {'score': (0.391886, None)}.\n",
      "/Users/keenanpepper/ax-feature-importance/.venv/lib/python3.12/site-packages/ax/modelbridge/cross_validation.py:463: UserWarning: Encountered exception in computing model fit quality: RandomModelBridge does not support prediction.\n",
      "  warn(\"Encountered exception in computing model fit quality: \" + str(e))\n",
      "[INFO 02-13 13:28:18] ax.service.ax_client: Generated new trial 16 with parameters {'param0': 0.503961, 'param1': -0.922099, 'param2': -0.503813, 'param3': 0.7244, 'param4': 0.414116, 'param5': 0.752733, 'param6': -0.201684, 'param7': 0.611889, 'param8': -0.918143, 'param9': -0.950108} using model Sobol.\n",
      "[INFO 02-13 13:28:18] ax.service.ax_client: Completed trial 16 with data: {'score': (0.150152, None)}.\n",
      "/Users/keenanpepper/ax-feature-importance/.venv/lib/python3.12/site-packages/ax/modelbridge/cross_validation.py:463: UserWarning: Encountered exception in computing model fit quality: RandomModelBridge does not support prediction.\n",
      "  warn(\"Encountered exception in computing model fit quality: \" + str(e))\n",
      "[INFO 02-13 13:28:18] ax.service.ax_client: Generated new trial 17 with parameters {'param0': -0.487796, 'param1': 0.511872, 'param2': 0.505642, 'param3': -0.899363, 'param4': -0.520803, 'param5': -0.631028, 'param6': 0.681167, 'param7': -0.955964, 'param8': 0.013686, 'param9': 0.121653} using model Sobol.\n",
      "[INFO 02-13 13:28:18] ax.service.ax_client: Completed trial 17 with data: {'score': (0.693301, None)}.\n",
      "/Users/keenanpepper/ax-feature-importance/.venv/lib/python3.12/site-packages/ax/modelbridge/cross_validation.py:463: UserWarning: Encountered exception in computing model fit quality: RandomModelBridge does not support prediction.\n",
      "  warn(\"Encountered exception in computing model fit quality: \" + str(e))\n",
      "[INFO 02-13 13:28:18] ax.service.ax_client: Generated new trial 18 with parameters {'param0': -0.632933, 'param1': -0.083589, 'param2': -0.124185, 'param3': 0.099296, 'param4': -0.056179, 'param5': -0.101212, 'param6': -0.627865, 'param7': -0.413308, 'param8': 0.547711, 'param9': 0.847865} using model Sobol.\n",
      "[INFO 02-13 13:28:18] ax.service.ax_client: Completed trial 18 with data: {'score': (1.369567, None)}.\n",
      "/Users/keenanpepper/ax-feature-importance/.venv/lib/python3.12/site-packages/ax/modelbridge/cross_validation.py:463: UserWarning: Encountered exception in computing model fit quality: RandomModelBridge does not support prediction.\n",
      "  warn(\"Encountered exception in computing model fit quality: \" + str(e))\n",
      "[INFO 02-13 13:28:18] ax.service.ax_client: Generated new trial 19 with parameters {'param0': 0.374578, 'param1': 0.478068, 'param2': 0.118207, 'param3': -0.274011, 'param4': 0.879668, 'param5': 0.471941, 'param6': 0.240154, 'param7': 0.007084, 'param8': -0.393513, 'param9': -0.207327} using model Sobol.\n",
      "[INFO 02-13 13:28:18] ax.service.ax_client: Completed trial 19 with data: {'score': (0.773956, None)}.\n"
     ]
    },
    {
     "name": "stdout",
     "output_type": "stream",
     "text": [
      "{'score': 0.4423733479796191}\n",
      "{'score': 1.1768845000155201}\n",
      "{'score': 0.31749223902826007}\n",
      "{'score': 0.14001284867893102}\n",
      "{'score': 0.2778520098509579}\n",
      "{'score': 0.47958923600355907}\n",
      "{'score': 0.8258814413725954}\n",
      "{'score': 0.31697474588259533}\n",
      "{'score': 0.09212616820068063}\n",
      "{'score': 0.1908870702970132}\n",
      "{'score': 0.6373027442467919}\n",
      "{'score': 0.5194261994145237}\n",
      "{'score': 0.28536263780032783}\n",
      "{'score': 0.8553719485062397}\n",
      "{'score': 0.17179445951324746}\n",
      "{'score': 0.39188595835137147}\n",
      "{'score': 0.1501517088872938}\n",
      "{'score': 0.6933007550810226}\n",
      "{'score': 1.3695671609897002}\n",
      "{'score': 0.7739556253003195}\n"
     ]
    },
    {
     "name": "stderr",
     "output_type": "stream",
     "text": [
      "[INFO 02-13 13:28:18] ax.service.ax_client: Generated new trial 20 with parameters {'param0': -0.748639, 'param1': -0.063618, 'param2': 0.286315, 'param3': 0.262247, 'param4': 0.176234, 'param5': 0.196628, 'param6': -0.509886, 'param7': -0.446305, 'param8': 0.929357, 'param9': 0.877951} using model BoTorch.\n",
      "[INFO 02-13 13:28:18] ax.service.ax_client: Completed trial 20 with data: {'score': (1.122799, None)}.\n"
     ]
    },
    {
     "name": "stdout",
     "output_type": "stream",
     "text": [
      "{'score': 1.1227985051551568}\n"
     ]
    },
    {
     "name": "stderr",
     "output_type": "stream",
     "text": [
      "[INFO 02-13 13:28:19] ax.service.ax_client: Generated new trial 21 with parameters {'param0': -0.404091, 'param1': 0.308286, 'param2': 0.113787, 'param3': 0.441603, 'param4': -0.49446, 'param5': 0.32134, 'param6': -0.497365, 'param7': -0.213975, 'param8': 0.478353, 'param9': 0.723916} using model BoTorch.\n",
      "[INFO 02-13 13:28:19] ax.service.ax_client: Completed trial 21 with data: {'score': (1.176923, None)}.\n"
     ]
    },
    {
     "name": "stdout",
     "output_type": "stream",
     "text": [
      "{'score': 1.1769229637339897}\n"
     ]
    },
    {
     "name": "stderr",
     "output_type": "stream",
     "text": [
      "[INFO 02-13 13:28:20] ax.service.ax_client: Generated new trial 22 with parameters {'param0': -0.644808, 'param1': -0.244622, 'param2': -0.037364, 'param3': 0.235395, 'param4': -0.722768, 'param5': -0.287053, 'param6': -0.686339, 'param7': -0.22111, 'param8': 0.498358, 'param9': 0.892394} using model BoTorch.\n",
      "[INFO 02-13 13:28:20] ax.service.ax_client: Completed trial 22 with data: {'score': (1.421307, None)}.\n"
     ]
    },
    {
     "name": "stdout",
     "output_type": "stream",
     "text": [
      "{'score': 1.4213069118408193}\n"
     ]
    },
    {
     "name": "stderr",
     "output_type": "stream",
     "text": [
      "[INFO 02-13 13:28:20] ax.service.ax_client: Generated new trial 23 with parameters {'param0': -1.0, 'param1': -0.337457, 'param2': -0.154004, 'param3': 1.0, 'param4': -1.0, 'param5': 0.245912, 'param6': -0.642294, 'param7': -0.252881, 'param8': 1.0, 'param9': 0.925979} using model BoTorch.\n",
      "[INFO 02-13 13:28:20] ax.service.ax_client: Completed trial 23 with data: {'score': (0.710988, None)}.\n"
     ]
    },
    {
     "name": "stdout",
     "output_type": "stream",
     "text": [
      "{'score': 0.7109882708346165}\n"
     ]
    },
    {
     "name": "stderr",
     "output_type": "stream",
     "text": [
      "[INFO 02-13 13:28:21] ax.service.ax_client: Generated new trial 24 with parameters {'param0': -0.587128, 'param1': -0.10843, 'param2': 0.608747, 'param3': 0.033901, 'param4': -1.0, 'param5': -0.342694, 'param6': -1.0, 'param7': -0.367788, 'param8': 0.374606, 'param9': 1.0} using model BoTorch.\n",
      "[INFO 02-13 13:28:21] ax.service.ax_client: Completed trial 24 with data: {'score': (0.879099, None)}.\n"
     ]
    },
    {
     "name": "stdout",
     "output_type": "stream",
     "text": [
      "{'score': 0.8790985241880174}\n"
     ]
    },
    {
     "name": "stderr",
     "output_type": "stream",
     "text": [
      "[INFO 02-13 13:28:22] ax.service.ax_client: Generated new trial 25 with parameters {'param0': -0.564035, 'param1': 0.157528, 'param2': -0.060916, 'param3': 0.327321, 'param4': -0.008671, 'param5': -0.343657, 'param6': -0.688814, 'param7': -0.361465, 'param8': 1.0, 'param9': 1.0} using model BoTorch.\n",
      "[INFO 02-13 13:28:22] ax.service.ax_client: Completed trial 25 with data: {'score': (1.119505, None)}.\n"
     ]
    },
    {
     "name": "stdout",
     "output_type": "stream",
     "text": [
      "{'score': 1.1195050368721562}\n"
     ]
    },
    {
     "name": "stderr",
     "output_type": "stream",
     "text": [
      "[INFO 02-13 13:28:22] ax.service.ax_client: Generated new trial 26 with parameters {'param0': -0.643764, 'param1': -0.173128, 'param2': 0.005077, 'param3': 0.060329, 'param4': -0.320728, 'param5': 0.09374, 'param6': -0.485566, 'param7': -0.135105, 'param8': 0.590093, 'param9': 0.603381} using model BoTorch.\n",
      "[INFO 02-13 13:28:22] ax.service.ax_client: Completed trial 26 with data: {'score': (1.707941, None)}.\n"
     ]
    },
    {
     "name": "stdout",
     "output_type": "stream",
     "text": [
      "{'score': 1.7079411099666304}\n"
     ]
    },
    {
     "name": "stderr",
     "output_type": "stream",
     "text": [
      "[INFO 02-13 13:28:23] ax.service.ax_client: Generated new trial 27 with parameters {'param0': -1.0, 'param1': -0.411465, 'param2': -0.252828, 'param3': 0.039471, 'param4': -0.231977, 'param5': 0.236683, 'param6': -0.536552, 'param7': -0.140932, 'param8': -0.23417, 'param9': 0.62443} using model BoTorch.\n",
      "[INFO 02-13 13:28:23] ax.service.ax_client: Completed trial 27 with data: {'score': (1.260576, None)}.\n"
     ]
    },
    {
     "name": "stdout",
     "output_type": "stream",
     "text": [
      "{'score': 1.2605762633923483}\n"
     ]
    },
    {
     "name": "stderr",
     "output_type": "stream",
     "text": [
      "[INFO 02-13 13:28:23] ax.service.ax_client: Generated new trial 28 with parameters {'param0': -0.800724, 'param1': -0.463891, 'param2': -0.001802, 'param3': -0.015089, 'param4': -0.205952, 'param5': -0.018349, 'param6': -0.37395, 'param7': -0.143298, 'param8': 0.936693, 'param9': 0.433232} using model BoTorch.\n",
      "[INFO 02-13 13:28:23] ax.service.ax_client: Completed trial 28 with data: {'score': (1.583545, None)}.\n"
     ]
    },
    {
     "name": "stdout",
     "output_type": "stream",
     "text": [
      "{'score': 1.583544641744276}\n"
     ]
    },
    {
     "name": "stderr",
     "output_type": "stream",
     "text": [
      "[INFO 02-13 13:28:24] ax.service.ax_client: Generated new trial 29 with parameters {'param0': -0.58685, 'param1': -0.091475, 'param2': 0.01391, 'param3': -0.008829, 'param4': -0.275915, 'param5': 0.414063, 'param6': -0.443908, 'param7': -0.082651, 'param8': 0.952376, 'param9': 0.452682} using model BoTorch.\n",
      "[INFO 02-13 13:28:24] ax.service.ax_client: Completed trial 29 with data: {'score': (1.46135, None)}.\n"
     ]
    },
    {
     "name": "stdout",
     "output_type": "stream",
     "text": [
      "{'score': 1.461349559945936}\n"
     ]
    },
    {
     "name": "stderr",
     "output_type": "stream",
     "text": [
      "[INFO 02-13 13:28:25] ax.service.ax_client: Generated new trial 30 with parameters {'param0': -1.0, 'param1': -0.461924, 'param2': 0.312818, 'param3': 0.165688, 'param4': -0.23056, 'param5': -0.402792, 'param6': -0.806609, 'param7': -0.095584, 'param8': 0.524644, 'param9': 1.0} using model BoTorch.\n",
      "[INFO 02-13 13:28:25] ax.service.ax_client: Completed trial 30 with data: {'score': (1.425965, None)}.\n"
     ]
    },
    {
     "name": "stdout",
     "output_type": "stream",
     "text": [
      "{'score': 1.4259646964312997}\n"
     ]
    },
    {
     "name": "stderr",
     "output_type": "stream",
     "text": [
      "[INFO 02-13 13:28:26] ax.service.ax_client: Generated new trial 31 with parameters {'param0': -0.950996, 'param1': -0.55686, 'param2': 0.033765, 'param3': 0.069883, 'param4': 0.249145, 'param5': -0.520107, 'param6': -0.231746, 'param7': -0.108069, 'param8': 0.537217, 'param9': 0.517433} using model BoTorch.\n",
      "[INFO 02-13 13:28:26] ax.service.ax_client: Completed trial 31 with data: {'score': (1.35189, None)}.\n"
     ]
    },
    {
     "name": "stdout",
     "output_type": "stream",
     "text": [
      "{'score': 1.3518901714305418}\n"
     ]
    },
    {
     "name": "stderr",
     "output_type": "stream",
     "text": [
      "[INFO 02-13 13:28:26] ax.service.ax_client: Generated new trial 32 with parameters {'param0': -0.331747, 'param1': -0.335835, 'param2': 0.080995, 'param3': -0.051452, 'param4': -0.320474, 'param5': -0.147236, 'param6': -0.391419, 'param7': -0.17509, 'param8': 0.518482, 'param9': 0.312559} using model BoTorch.\n",
      "[INFO 02-13 13:28:26] ax.service.ax_client: Completed trial 32 with data: {'score': (1.884771, None)}.\n"
     ]
    },
    {
     "name": "stdout",
     "output_type": "stream",
     "text": [
      "{'score': 1.8847712434226769}\n"
     ]
    },
    {
     "name": "stderr",
     "output_type": "stream",
     "text": [
      "[INFO 02-13 13:28:27] ax.service.ax_client: Generated new trial 33 with parameters {'param0': -0.350257, 'param1': -0.451489, 'param2': 0.712734, 'param3': -0.312067, 'param4': -0.27226, 'param5': -0.850644, 'param6': -0.321084, 'param7': -0.147261, 'param8': 0.453495, 'param9': 0.206174} using model BoTorch.\n",
      "[INFO 02-13 13:28:27] ax.service.ax_client: Completed trial 33 with data: {'score': (1.222526, None)}.\n"
     ]
    },
    {
     "name": "stdout",
     "output_type": "stream",
     "text": [
      "{'score': 1.2225259887778632}\n"
     ]
    },
    {
     "name": "stderr",
     "output_type": "stream",
     "text": [
      "[INFO 02-13 13:28:27] ax.service.ax_client: Generated new trial 34 with parameters {'param0': 0.172936, 'param1': -0.428214, 'param2': 0.1362, 'param3': -0.218979, 'param4': -0.269566, 'param5': 0.046853, 'param6': -0.654006, 'param7': -0.155177, 'param8': 0.426912, 'param9': 0.230725} using model BoTorch.\n",
      "[INFO 02-13 13:28:27] ax.service.ax_client: Completed trial 34 with data: {'score': (1.664192, None)}.\n"
     ]
    },
    {
     "name": "stdout",
     "output_type": "stream",
     "text": [
      "{'score': 1.6641924456717534}\n"
     ]
    },
    {
     "name": "stderr",
     "output_type": "stream",
     "text": [
      "[INFO 02-13 13:28:28] ax.service.ax_client: Generated new trial 35 with parameters {'param0': -0.428964, 'param1': -0.28792, 'param2': 0.145942, 'param3': -0.3547, 'param4': -0.264071, 'param5': -0.060246, 'param6': -0.441468, 'param7': -0.156717, 'param8': 0.344154, 'param9': 0.105569} using model BoTorch.\n",
      "[INFO 02-13 13:28:28] ax.service.ax_client: Completed trial 35 with data: {'score': (1.92096, None)}.\n"
     ]
    },
    {
     "name": "stdout",
     "output_type": "stream",
     "text": [
      "{'score': 1.9209600777531182}\n"
     ]
    },
    {
     "name": "stderr",
     "output_type": "stream",
     "text": [
      "[INFO 02-13 13:28:28] ax.service.ax_client: Generated new trial 36 with parameters {'param0': -0.32055, 'param1': -0.359566, 'param2': 0.166608, 'param3': -0.740327, 'param4': -0.263552, 'param5': -0.023618, 'param6': -0.282281, 'param7': -0.113747, 'param8': 0.359738, 'param9': 0.53721} using model BoTorch.\n",
      "[INFO 02-13 13:28:28] ax.service.ax_client: Completed trial 36 with data: {'score': (1.767765, None)}.\n"
     ]
    },
    {
     "name": "stdout",
     "output_type": "stream",
     "text": [
      "{'score': 1.7677653198629086}\n"
     ]
    },
    {
     "name": "stderr",
     "output_type": "stream",
     "text": [
      "[INFO 02-13 13:28:29] ax.service.ax_client: Generated new trial 37 with parameters {'param0': -0.474362, 'param1': -0.326781, 'param2': 0.056963, 'param3': -0.370617, 'param4': -0.204441, 'param5': -0.138381, 'param6': -0.840132, 'param7': -0.143286, 'param8': 0.385719, 'param9': -0.026412} using model BoTorch.\n",
      "[INFO 02-13 13:28:29] ax.service.ax_client: Completed trial 37 with data: {'score': (1.683736, None)}.\n"
     ]
    },
    {
     "name": "stdout",
     "output_type": "stream",
     "text": [
      "{'score': 1.6837357763129617}\n"
     ]
    },
    {
     "name": "stderr",
     "output_type": "stream",
     "text": [
      "[INFO 02-13 13:28:29] ax.service.ax_client: Generated new trial 38 with parameters {'param0': -0.378342, 'param1': -0.207302, 'param2': 0.220136, 'param3': -0.219123, 'param4': -0.325374, 'param5': -0.050474, 'param6': -0.15158, 'param7': -0.186146, 'param8': 0.313128, 'param9': -0.356858} using model BoTorch.\n",
      "[INFO 02-13 13:28:29] ax.service.ax_client: Completed trial 38 with data: {'score': (1.841494, None)}.\n"
     ]
    },
    {
     "name": "stdout",
     "output_type": "stream",
     "text": [
      "{'score': 1.8414936054040116}\n"
     ]
    },
    {
     "name": "stderr",
     "output_type": "stream",
     "text": [
      "[INFO 02-13 13:28:30] ax.service.ax_client: Generated new trial 39 with parameters {'param0': -0.382964, 'param1': -0.238903, 'param2': 0.22292, 'param3': -0.212439, 'param4': -0.305394, 'param5': -0.038443, 'param6': -0.217429, 'param7': -0.173431, 'param8': 0.298078, 'param9': 0.1499} using model BoTorch.\n",
      "[INFO 02-13 13:28:30] ax.service.ax_client: Completed trial 39 with data: {'score': (1.960346, None)}.\n"
     ]
    },
    {
     "name": "stdout",
     "output_type": "stream",
     "text": [
      "{'score': 1.9603461519928866}\n"
     ]
    },
    {
     "name": "stderr",
     "output_type": "stream",
     "text": [
      "[INFO 02-13 13:28:30] ax.service.ax_client: Generated new trial 40 with parameters {'param0': -0.331385, 'param1': -0.09858, 'param2': 0.123497, 'param3': -0.419189, 'param4': -0.418856, 'param5': -0.065706, 'param6': -0.127441, 'param7': -0.214366, 'param8': 0.389307, 'param9': 0.095377} using model BoTorch.\n",
      "[INFO 02-13 13:28:30] ax.service.ax_client: Completed trial 40 with data: {'score': (1.907497, None)}.\n"
     ]
    },
    {
     "name": "stdout",
     "output_type": "stream",
     "text": [
      "{'score': 1.9074968673755384}\n"
     ]
    },
    {
     "name": "stderr",
     "output_type": "stream",
     "text": [
      "[INFO 02-13 13:28:31] ax.service.ax_client: Generated new trial 41 with parameters {'param0': -0.443684, 'param1': -0.332517, 'param2': 0.327488, 'param3': -0.260845, 'param4': -0.565801, 'param5': 0.040257, 'param6': -0.183255, 'param7': -0.164579, 'param8': 0.260059, 'param9': 0.093382} using model BoTorch.\n",
      "[INFO 02-13 13:28:31] ax.service.ax_client: Completed trial 41 with data: {'score': (1.828162, None)}.\n"
     ]
    },
    {
     "name": "stdout",
     "output_type": "stream",
     "text": [
      "{'score': 1.8281615510960019}\n"
     ]
    },
    {
     "name": "stderr",
     "output_type": "stream",
     "text": [
      "[INFO 02-13 13:28:31] ax.service.ax_client: Generated new trial 42 with parameters {'param0': -0.360398, 'param1': -0.10974, 'param2': 0.238927, 'param3': -0.202226, 'param4': -0.182169, 'param5': -0.108605, 'param6': -0.231726, 'param7': -0.149823, 'param8': 0.179443, 'param9': 0.17657} using model BoTorch.\n",
      "[INFO 02-13 13:28:31] ax.service.ax_client: Completed trial 42 with data: {'score': (1.865769, None)}.\n"
     ]
    },
    {
     "name": "stdout",
     "output_type": "stream",
     "text": [
      "{'score': 1.8657685946649714}\n"
     ]
    },
    {
     "name": "stderr",
     "output_type": "stream",
     "text": [
      "[INFO 02-13 13:28:32] ax.service.ax_client: Generated new trial 43 with parameters {'param0': -0.430888, 'param1': -0.252239, 'param2': 0.135136, 'param3': -0.269819, 'param4': -0.288167, 'param5': -0.010189, 'param6': -0.130116, 'param7': -0.286178, 'param8': 0.373876, 'param9': 0.035087} using model BoTorch.\n",
      "[INFO 02-13 13:28:32] ax.service.ax_client: Completed trial 43 with data: {'score': (1.993167, None)}.\n"
     ]
    },
    {
     "name": "stdout",
     "output_type": "stream",
     "text": [
      "{'score': 1.9931666796013583}\n"
     ]
    },
    {
     "name": "stderr",
     "output_type": "stream",
     "text": [
      "[INFO 02-13 13:28:33] ax.service.ax_client: Generated new trial 44 with parameters {'param0': -0.905399, 'param1': -0.237275, 'param2': 0.128841, 'param3': -0.218071, 'param4': -0.332595, 'param5': -0.08663, 'param6': -0.131197, 'param7': -0.323623, 'param8': 0.346279, 'param9': 0.024025} using model BoTorch.\n",
      "[INFO 02-13 13:28:33] ax.service.ax_client: Completed trial 44 with data: {'score': (1.918038, None)}.\n"
     ]
    },
    {
     "name": "stdout",
     "output_type": "stream",
     "text": [
      "{'score': 1.9180380719498173}\n"
     ]
    },
    {
     "name": "stderr",
     "output_type": "stream",
     "text": [
      "[INFO 02-13 13:28:33] ax.service.ax_client: Generated new trial 45 with parameters {'param0': -0.36882, 'param1': -0.343757, 'param2': 0.011732, 'param3': -0.171074, 'param4': -0.347639, 'param5': -0.048074, 'param6': -0.043188, 'param7': -0.324841, 'param8': 0.2607, 'param9': -0.02173} using model BoTorch.\n",
      "[INFO 02-13 13:28:33] ax.service.ax_client: Completed trial 45 with data: {'score': (1.852795, None)}.\n"
     ]
    },
    {
     "name": "stdout",
     "output_type": "stream",
     "text": [
      "{'score': 1.8527952977131497}\n"
     ]
    },
    {
     "name": "stderr",
     "output_type": "stream",
     "text": [
      "[INFO 02-13 13:28:34] ax.service.ax_client: Generated new trial 46 with parameters {'param0': -0.579648, 'param1': -0.172777, 'param2': 0.242545, 'param3': -0.405177, 'param4': -0.224182, 'param5': 0.0591, 'param6': -0.146363, 'param7': -0.279774, 'param8': 0.45961, 'param9': 0.006333} using model BoTorch.\n",
      "[INFO 02-13 13:28:34] ax.service.ax_client: Completed trial 46 with data: {'score': (1.988536, None)}.\n"
     ]
    },
    {
     "name": "stdout",
     "output_type": "stream",
     "text": [
      "{'score': 1.9885363885301315}\n"
     ]
    },
    {
     "name": "stderr",
     "output_type": "stream",
     "text": [
      "[INFO 02-13 13:28:35] ax.service.ax_client: Generated new trial 47 with parameters {'param0': -0.655064, 'param1': -0.150928, 'param2': 0.161589, 'param3': -0.493527, 'param4': -0.175662, 'param5': 0.255226, 'param6': -0.159134, 'param7': -0.277933, 'param8': 0.338554, 'param9': -0.118314} using model BoTorch.\n",
      "[INFO 02-13 13:28:35] ax.service.ax_client: Completed trial 47 with data: {'score': (1.819798, None)}.\n"
     ]
    },
    {
     "name": "stdout",
     "output_type": "stream",
     "text": [
      "{'score': 1.8197977276214439}\n"
     ]
    },
    {
     "name": "stderr",
     "output_type": "stream",
     "text": [
      "[INFO 02-13 13:28:35] ax.service.ax_client: Generated new trial 48 with parameters {'param0': -0.492545, 'param1': -0.180101, 'param2': 0.28842, 'param3': -0.274932, 'param4': -0.273785, 'param5': -0.076986, 'param6': -0.042842, 'param7': -0.277481, 'param8': 0.555709, 'param9': 0.089415} using model BoTorch.\n",
      "[INFO 02-13 13:28:35] ax.service.ax_client: Completed trial 48 with data: {'score': (2.047967, None)}.\n"
     ]
    },
    {
     "name": "stdout",
     "output_type": "stream",
     "text": [
      "{'score': 2.0479666020603093}\n"
     ]
    },
    {
     "name": "stderr",
     "output_type": "stream",
     "text": [
      "[INFO 02-13 13:28:36] ax.service.ax_client: Generated new trial 49 with parameters {'param0': -0.355377, 'param1': -0.207119, 'param2': 0.342492, 'param3': -0.251601, 'param4': -0.239677, 'param5': -0.055007, 'param6': 0.295656, 'param7': -0.292313, 'param8': 0.661442, 'param9': 0.0992} using model BoTorch.\n",
      "[INFO 02-13 13:28:36] ax.service.ax_client: Completed trial 49 with data: {'score': (1.916571, None)}.\n"
     ]
    },
    {
     "name": "stdout",
     "output_type": "stream",
     "text": [
      "{'score': 1.9165709644920264}\n"
     ]
    },
    {
     "data": {
      "text/plain": [
       "({'param0': -0.49254545297255725,\n",
       "  'param1': -0.18010097272708503,\n",
       "  'param2': 0.28841973299350143,\n",
       "  'param3': -0.27493176641899153,\n",
       "  'param4': -0.27378545008663246,\n",
       "  'param5': -0.0769856852599502,\n",
       "  'param6': -0.04284196802397078,\n",
       "  'param7': -0.27748145600102625,\n",
       "  'param8': 0.5557092004658422,\n",
       "  'param9': 0.08941505889834067},\n",
       " ({'score': np.float64(2.014278037591337)},\n",
       "  {'score': {'score': np.float64(0.00036798054809794036)}}))"
      ]
     },
     "execution_count": 5,
     "metadata": {},
     "output_type": "execute_result"
    }
   ],
   "source": [
    "for _ in range(50):\n",
    "    parameterization, trial_index = ax_client.get_next_trial()\n",
    "    print(score(parameterization))\n",
    "    ax_client.complete_trial(trial_index, raw_data=score(parameterization))\n",
    "\n",
    "ax_client.get_best_parameters()"
   ]
  },
  {
   "cell_type": "code",
   "execution_count": 9,
   "metadata": {},
   "outputs": [
    {
     "data": {
      "text/plain": [
       "tensor([0.2537, 0.4043, 0.6564, 0.3693, 0.3696, 0.4604, 0.5152, 0.3570, 0.7966,\n",
       "        0.5502])"
      ]
     },
     "execution_count": 9,
     "metadata": {},
     "output_type": "execute_result"
    }
   ],
   "source": [
    "model = ax_client.generation_strategy.model.model  # Get the BoTorchModel\n",
    "bounds = torch.stack([torch.zeros(10), torch.ones(10)])  # Create bounds tensor\n",
    "optimum = get_model_optimum_in_transformed_space(model, bounds, fixed_features={0: (-0.4925 + 1) / 2})\n",
    "optimum"
   ]
  },
  {
   "cell_type": "code",
   "execution_count": 10,
   "metadata": {},
   "outputs": [
    {
     "data": {
      "text/plain": [
       "tensor([-0.4925, -0.1914,  0.3129, -0.2613, -0.2608, -0.0792,  0.0304, -0.2860,\n",
       "         0.5933,  0.1004])"
      ]
     },
     "execution_count": 10,
     "metadata": {},
     "output_type": "execute_result"
    }
   ],
   "source": [
    "optimum * 2 - 1"
   ]
  },
  {
   "cell_type": "code",
   "execution_count": 11,
   "metadata": {},
   "outputs": [
    {
     "data": {
      "text/plain": [
       "({'param0': -0.49254545297255725,\n",
       "  'param1': -0.18010097272708503,\n",
       "  'param2': 0.28841973299350143,\n",
       "  'param3': -0.27493176641899153,\n",
       "  'param4': -0.27378545008663246,\n",
       "  'param5': -0.0769856852599502,\n",
       "  'param6': -0.04284196802397078,\n",
       "  'param7': -0.27748145600102625,\n",
       "  'param8': 0.5557092004658422,\n",
       "  'param9': 0.08941505889834067},\n",
       " ({'score': np.float64(2.014278037591337)},\n",
       "  {'score': {'score': np.float64(0.00036798054809794036)}}))"
      ]
     },
     "execution_count": 11,
     "metadata": {},
     "output_type": "execute_result"
    }
   ],
   "source": [
    "ax_client.get_best_parameters()"
   ]
  },
  {
   "cell_type": "code",
   "execution_count": 16,
   "metadata": {},
   "outputs": [
    {
     "data": {
      "text/plain": [
       "SearchSpace(parameters=[RangeParameter(name='param0', parameter_type=FLOAT, range=[-1.0, 1.0]), RangeParameter(name='param1', parameter_type=FLOAT, range=[-1.0, 1.0]), RangeParameter(name='param2', parameter_type=FLOAT, range=[-1.0, 1.0]), RangeParameter(name='param3', parameter_type=FLOAT, range=[-1.0, 1.0]), RangeParameter(name='param4', parameter_type=FLOAT, range=[-1.0, 1.0]), RangeParameter(name='param5', parameter_type=FLOAT, range=[-1.0, 1.0]), RangeParameter(name='param6', parameter_type=FLOAT, range=[-1.0, 1.0]), RangeParameter(name='param7', parameter_type=FLOAT, range=[-1.0, 1.0]), RangeParameter(name='param8', parameter_type=FLOAT, range=[-1.0, 1.0]), RangeParameter(name='param9', parameter_type=FLOAT, range=[-1.0, 1.0])], parameter_constraints=[])"
      ]
     },
     "execution_count": 16,
     "metadata": {},
     "output_type": "execute_result"
    }
   ],
   "source": [
    "ax_client.experiment.search_space"
   ]
  },
  {
   "cell_type": "code",
   "execution_count": 47,
   "metadata": {},
   "outputs": [
    {
     "data": {
      "text/plain": [
       "{'param0': -0.45936959981918335,\n",
       " 'param1': -0.19075411558151245,\n",
       " 'param2': 0.3131176233291626,\n",
       " 'param3': -0.2619051933288574,\n",
       " 'param4': -0.25843995809555054,\n",
       " 'param5': -0.07730764150619507,\n",
       " 'param6': 0.034264206886291504,\n",
       " 'param7': -0.2877769470214844,\n",
       " 'param8': 0.5947976112365723,\n",
       " 'param9': 0.08899998664855957}"
      ]
     },
     "execution_count": 47,
     "metadata": {},
     "output_type": "execute_result"
    }
   ],
   "source": [
    "get_model_optimum_in_original_space(ax_client, fixed_features={\"param9\": 0.089})"
   ]
  },
  {
   "cell_type": "code",
   "execution_count": 44,
   "metadata": {},
   "outputs": [
    {
     "data": {
      "text/plain": [
       "({'param0': -0.49254545297255725,\n",
       "  'param1': -0.18010097272708503,\n",
       "  'param2': 0.28841973299350143,\n",
       "  'param3': -0.27493176641899153,\n",
       "  'param4': -0.27378545008663246,\n",
       "  'param5': -0.0769856852599502,\n",
       "  'param6': -0.04284196802397078,\n",
       "  'param7': -0.27748145600102625,\n",
       "  'param8': 0.5557092004658422,\n",
       "  'param9': 0.08941505889834067},\n",
       " ({'score': np.float64(2.014278037591337)},\n",
       "  {'score': {'score': np.float64(0.00036798054809794036)}}))"
      ]
     },
     "execution_count": 44,
     "metadata": {},
     "output_type": "execute_result"
    }
   ],
   "source": [
    "ax_client.get_best_parameters()"
   ]
  },
  {
   "cell_type": "code",
   "execution_count": null,
   "metadata": {},
   "outputs": [],
   "source": []
  }
 ],
 "metadata": {
  "kernelspec": {
   "display_name": ".venv",
   "language": "python",
   "name": "python3"
  },
  "language_info": {
   "codemirror_mode": {
    "name": "ipython",
    "version": 3
   },
   "file_extension": ".py",
   "mimetype": "text/x-python",
   "name": "python",
   "nbconvert_exporter": "python",
   "pygments_lexer": "ipython3",
   "version": "3.12.8"
  }
 },
 "nbformat": 4,
 "nbformat_minor": 2
}
