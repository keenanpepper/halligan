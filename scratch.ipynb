{
 "cells": [
  {
   "cell_type": "code",
   "execution_count": 1,
   "metadata": {},
   "outputs": [],
   "source": [
    "%load_ext autoreload\n",
    "%autoreload 2"
   ]
  },
  {
   "cell_type": "code",
   "execution_count": 18,
   "metadata": {},
   "outputs": [],
   "source": [
    "import goodfire\n",
    "import os\n",
    "from typing import Dict, Callable, List\n",
    "import numpy as np\n",
    "\n",
    "from src.halligan import iterative_parameter_search\n",
    "from src.halligan.feature_importance import get_feature_importance\n",
    "\n",
    "client = goodfire.Client(os.environ[\"GOODFIRE_API_KEY\"])\n",
    "\n",
    "base_variant = goodfire.Variant(\"meta-llama/Llama-3.3-70B-Instruct\")"
   ]
  },
  {
   "cell_type": "code",
   "execution_count": 3,
   "metadata": {},
   "outputs": [],
   "source": [
    "PROMPT = \"If you had a favorite color, what would it be? Answer in one word.\""
   ]
  },
  {
   "cell_type": "code",
   "execution_count": 4,
   "metadata": {},
   "outputs": [],
   "source": [
    "logits = client.chat.logits(\n",
    "    model=base_variant,\n",
    "    messages=[\n",
    "        {\"role\": \"user\", \"content\": PROMPT},\n",
    "        {\"role\": \"assistant\", \"content\": \"\"},\n",
    "    ],\n",
    ")\n"
   ]
  },
  {
   "cell_type": "code",
   "execution_count": 5,
   "metadata": {},
   "outputs": [],
   "source": [
    "def create_variant_from_feature_boosts(feature_boosts: Dict[int, float]) -> goodfire.Variant:\n",
    "    if not feature_boosts:\n",
    "        return base_variant\n",
    "    variant = goodfire.Variant(\"meta-llama/Llama-3.3-70B-Instruct\")\n",
    "    features = client.features.lookup(list(feature_boosts.keys()), base_variant)\n",
    "    for feature_id, boost in feature_boosts.items():\n",
    "        variant.set(features[feature_id], boost)\n",
    "    return variant"
   ]
  },
  {
   "cell_type": "code",
   "execution_count": 6,
   "metadata": {},
   "outputs": [
    {
     "data": {
      "text/plain": [
       "Variant(\n",
       "   base_model=meta-llama/Llama-3.3-70B-Instruct,\n",
       "   edits={\n",
       "      Feature(\"Explanatory statements about AI's impacts and applications\"): 1.0,\n",
       "      Feature(\"The assistant wishes enjoyment of food/recipes to users\"): -1.0,\n",
       "   }\n",
       "   scopes={\n",
       "   }\n",
       ")"
      ]
     },
     "execution_count": 6,
     "metadata": {},
     "output_type": "execute_result"
    }
   ],
   "source": [
    "create_variant_from_feature_boosts({0: 1.0, 1: -1.0})"
   ]
  },
  {
   "cell_type": "code",
   "execution_count": 7,
   "metadata": {},
   "outputs": [],
   "source": [
    "def variant_answer_logprob(variant, answer, top_k=10):\n",
    "    logits_topk = client.chat.logits([{\"role\": \"user\", \"content\": PROMPT}, {\"role\": \"assistant\", \"content\": \"\"}], variant, top_k=top_k)\n",
    "    logits_color = client.chat.logits([{\"role\": \"user\", \"content\": PROMPT}, {\"role\": \"assistant\", \"content\": \"\"}], variant, filter_vocabulary=[answer])\n",
    "    logits_topk_values = np.array(list(logits_topk.logits.values()))\n",
    "    max_logit = np.max(logits_topk_values)\n",
    "    exp_logits = np.exp(logits_topk_values - max_logit)\n",
    "    sum_exp_logits = np.sum(exp_logits)\n",
    "    log_denominator = np.log(sum_exp_logits) + max_logit\n",
    "    \n",
    "    return logits_color.logits[answer] - log_denominator"
   ]
  },
  {
   "cell_type": "code",
   "execution_count": 9,
   "metadata": {},
   "outputs": [],
   "source": [
    "def get_candidate_parameters(current_parameters: List[str], tried_parameters: List[str], num_features_to_replace: int) -> List[Dict]:\n",
    "    features = client.features.lookup(current_parameters, base_variant)\n",
    "    neighboring_features = client.features.neighbors(features.values(), base_variant, top_k=num_features_to_replace + len(tried_parameters))\n",
    "    neighboring_ids = [str(f.index_in_sae) for f in neighboring_features]\n",
    "    new_candidate_ids = [id for id in neighboring_ids if id not in tried_parameters]\n",
    "    new_candidate_ids = new_candidate_ids[:num_features_to_replace]\n",
    "    return [{\"name\": id, \"type\": \"range\", \"bounds\": [-1.0, 1.0]} for id in new_candidate_ids]"
   ]
  },
  {
   "cell_type": "code",
   "execution_count": 10,
   "metadata": {},
   "outputs": [],
   "source": [
    "def objective_function(parameters: Dict) -> float:\n",
    "    variant = create_variant_from_feature_boosts({int(k): v for k, v in parameters.items()})\n",
    "    return variant_answer_logprob(variant, \"Red\")"
   ]
  },
  {
   "cell_type": "code",
   "execution_count": 11,
   "metadata": {},
   "outputs": [
    {
     "data": {
      "text/plain": [
       "FeatureGroup([\n",
       "   0: \"The color red\",\n",
       "   1: \"Explanatory descriptions of the color red and its associations\",\n",
       "   2: \"The color yellow\",\n",
       "   3: \"Enterprise software products with Red in their name\",\n",
       "   4: \"Descriptions of redheaded people and associated descriptive language patterns\",\n",
       "   5: \"Descriptions of characters blushing or their faces turning red from emotion\",\n",
       "   6: \"The tomato turning red joke and its sexual innuendo\",\n",
       "   7: \"CSS color property declarations\",\n",
       "   8: \"The word orange/Orange when used as a significant token or keyword\",\n",
       "   9: \"CSS color property declarations using hex codes\"\n",
       "])"
      ]
     },
     "execution_count": 11,
     "metadata": {},
     "output_type": "execute_result"
    }
   ],
   "source": [
    "red_features = client.features.search(\"color red\", base_variant)\n",
    "red_features"
   ]
  },
  {
   "cell_type": "code",
   "execution_count": 12,
   "metadata": {},
   "outputs": [
    {
     "data": {
      "text/plain": [
       "[{'name': '31815', 'type': 'range', 'bounds': [-1.0, 1.0]},\n",
       " {'name': '28087', 'type': 'range', 'bounds': [-1.0, 1.0]},\n",
       " {'name': '29816', 'type': 'range', 'bounds': [-1.0, 1.0]},\n",
       " {'name': '53668', 'type': 'range', 'bounds': [-1.0, 1.0]}]"
      ]
     },
     "execution_count": 12,
     "metadata": {},
     "output_type": "execute_result"
    }
   ],
   "source": [
    "initial_parameters = [{\"name\": str(f.index_in_sae), \"type\": \"range\", \"bounds\": [-1.0, 1.0]} for f in red_features[:4]]\n",
    "initial_parameters"
   ]
  },
  {
   "cell_type": "code",
   "execution_count": 48,
   "metadata": {},
   "outputs": [],
   "source": [
    "def display_function(best_importance_scores, current_parameters):\n",
    "    features = client.features.lookup(list(best_importance_scores.keys()) + [f[\"name\"] for f in current_parameters], base_variant)\n",
    "    readable_best_importance_scores = {features[int(k)].label: v for k, v in sorted(best_importance_scores.items(), key=lambda x: x[1], reverse=True)}\n",
    "    readable_current_parameters = [features[int(f[\"name\"])].label for f in current_parameters]\n",
    "    print(\"\\n\\n\")\n",
    "    print(f\"Best importance scores: {readable_best_importance_scores}\")\n",
    "    print(f\"Current parameters: {readable_current_parameters}\")\n",
    "    print(\"\\n\\n\")"
   ]
  },
  {
   "cell_type": "code",
   "execution_count": 49,
   "metadata": {},
   "outputs": [
    {
     "name": "stderr",
     "output_type": "stream",
     "text": [
      "2025-02-18 17:00:21,903 - src.halligan.parameter_search - INFO - Starting outer iteration 1/5\n",
      "2025-02-18 17:00:21,903 - src.halligan.parameter_search - INFO - Starting outer iteration 1/5\n"
     ]
    },
    {
     "name": "stderr",
     "output_type": "stream",
     "text": [
      "[INFO 02-18 17:00:21] ax.service.utils.instantiation: Inferred value type of ParameterType.FLOAT for parameter 31815. If that is not the expected value type, you can explicitly specify 'value_type' ('int', 'float', 'bool' or 'str') in parameter dict.\n",
      "[INFO 02-18 17:00:21] ax.service.utils.instantiation: Inferred value type of ParameterType.FLOAT for parameter 28087. If that is not the expected value type, you can explicitly specify 'value_type' ('int', 'float', 'bool' or 'str') in parameter dict.\n",
      "[INFO 02-18 17:00:21] ax.service.utils.instantiation: Inferred value type of ParameterType.FLOAT for parameter 29816. If that is not the expected value type, you can explicitly specify 'value_type' ('int', 'float', 'bool' or 'str') in parameter dict.\n",
      "[INFO 02-18 17:00:21] ax.service.utils.instantiation: Inferred value type of ParameterType.FLOAT for parameter 53668. If that is not the expected value type, you can explicitly specify 'value_type' ('int', 'float', 'bool' or 'str') in parameter dict.\n",
      "[INFO 02-18 17:00:21] ax.service.utils.instantiation: Created search space: SearchSpace(parameters=[RangeParameter(name='31815', parameter_type=FLOAT, range=[-1.0, 1.0]), RangeParameter(name='28087', parameter_type=FLOAT, range=[-1.0, 1.0]), RangeParameter(name='29816', parameter_type=FLOAT, range=[-1.0, 1.0]), RangeParameter(name='53668', parameter_type=FLOAT, range=[-1.0, 1.0])], parameter_constraints=[]).\n",
      "[INFO 02-18 17:00:21] ax.modelbridge.dispatch_utils: Using Models.BOTORCH_MODULAR since there is at least one ordered parameter and there are no unordered categorical parameters.\n",
      "[INFO 02-18 17:00:21] ax.modelbridge.dispatch_utils: Calculating the number of remaining initialization trials based on num_initialization_trials=None max_initialization_trials=None num_tunable_parameters=4 num_trials=None use_batch_trials=False\n",
      "[INFO 02-18 17:00:21] ax.modelbridge.dispatch_utils: calculated num_initialization_trials=8\n",
      "[INFO 02-18 17:00:21] ax.modelbridge.dispatch_utils: num_completed_initialization_trials=0 num_remaining_initialization_trials=8\n",
      "[INFO 02-18 17:00:21] ax.modelbridge.dispatch_utils: `verbose`, `disable_progbar`, and `jit_compile` are not yet supported when using `choose_generation_strategy` with ModularBoTorchModel, dropping these arguments.\n",
      "[INFO 02-18 17:00:21] ax.modelbridge.dispatch_utils: Using Bayesian Optimization generation strategy: GenerationStrategy(name='Sobol+BoTorch', steps=[Sobol for 8 trials, BoTorch for subsequent trials]). Iterations after 8 will take longer to generate due to model-fitting.\n"
     ]
    },
    {
     "name": "stdout",
     "output_type": "stream",
     "text": [
      "\n",
      "\n",
      "\n",
      "Best importance scores: {}\n",
      "Current parameters: ['The color red', 'Explanatory descriptions of the color red and its associations', 'The color yellow', 'Enterprise software products with Red in their name']\n",
      "\n",
      "\n",
      "\n"
     ]
    },
    {
     "name": "stderr",
     "output_type": "stream",
     "text": [
      "/Users/keenanpepper/halligan/.venv/lib/python3.12/site-packages/ax/modelbridge/cross_validation.py:463: UserWarning: Encountered exception in computing model fit quality: RandomModelBridge does not support prediction.\n",
      "  warn(\"Encountered exception in computing model fit quality: \" + str(e))\n",
      "/Users/keenanpepper/halligan/.venv/lib/python3.12/site-packages/ax/modelbridge/cross_validation.py:463: UserWarning: Encountered exception in computing model fit quality: RandomModelBridge does not support prediction.\n",
      "  warn(\"Encountered exception in computing model fit quality: \" + str(e))\n",
      "/Users/keenanpepper/halligan/.venv/lib/python3.12/site-packages/ax/modelbridge/cross_validation.py:463: UserWarning: Encountered exception in computing model fit quality: RandomModelBridge does not support prediction.\n",
      "  warn(\"Encountered exception in computing model fit quality: \" + str(e))\n",
      "/Users/keenanpepper/halligan/.venv/lib/python3.12/site-packages/ax/modelbridge/cross_validation.py:463: UserWarning: Encountered exception in computing model fit quality: RandomModelBridge does not support prediction.\n",
      "  warn(\"Encountered exception in computing model fit quality: \" + str(e))\n",
      "/Users/keenanpepper/halligan/.venv/lib/python3.12/site-packages/ax/modelbridge/cross_validation.py:463: UserWarning: Encountered exception in computing model fit quality: RandomModelBridge does not support prediction.\n",
      "  warn(\"Encountered exception in computing model fit quality: \" + str(e))\n",
      "/Users/keenanpepper/halligan/.venv/lib/python3.12/site-packages/ax/modelbridge/cross_validation.py:463: UserWarning: Encountered exception in computing model fit quality: RandomModelBridge does not support prediction.\n",
      "  warn(\"Encountered exception in computing model fit quality: \" + str(e))\n",
      "/Users/keenanpepper/halligan/.venv/lib/python3.12/site-packages/ax/modelbridge/cross_validation.py:463: UserWarning: Encountered exception in computing model fit quality: RandomModelBridge does not support prediction.\n",
      "  warn(\"Encountered exception in computing model fit quality: \" + str(e))\n",
      "/Users/keenanpepper/halligan/.venv/lib/python3.12/site-packages/ax/modelbridge/cross_validation.py:463: UserWarning: Encountered exception in computing model fit quality: RandomModelBridge does not support prediction.\n",
      "  warn(\"Encountered exception in computing model fit quality: \" + str(e))\n",
      "2025-02-18 17:01:12,086 - src.halligan.parameter_search - INFO - Replacing parameters: ['53668', '29816']\n",
      "2025-02-18 17:01:12,086 - src.halligan.parameter_search - INFO - Replacing parameters: ['53668', '29816']\n"
     ]
    },
    {
     "name": "stdout",
     "output_type": "stream",
     "text": [
      "Importance scores: {'31815': np.float64(4.239456565765613), '28087': np.float64(7.363976116846589), '29816': np.float64(2.191765250831251), '53668': np.float64(0.07053365664174027)}\n"
     ]
    },
    {
     "name": "stderr",
     "output_type": "stream",
     "text": [
      "2025-02-18 17:01:12,638 - src.halligan.parameter_search - INFO - New parameters added: ['63676', '56422']\n",
      "2025-02-18 17:01:12,638 - src.halligan.parameter_search - INFO - New parameters added: ['63676', '56422']\n",
      "2025-02-18 17:01:12,639 - src.halligan.parameter_search - INFO - Starting outer iteration 2/5\n",
      "2025-02-18 17:01:12,639 - src.halligan.parameter_search - INFO - Starting outer iteration 2/5\n",
      "[INFO 02-18 17:01:12] ax.service.utils.instantiation: Inferred value type of ParameterType.FLOAT for parameter 31815. If that is not the expected value type, you can explicitly specify 'value_type' ('int', 'float', 'bool' or 'str') in parameter dict.\n",
      "[INFO 02-18 17:01:12] ax.service.utils.instantiation: Inferred value type of ParameterType.FLOAT for parameter 28087. If that is not the expected value type, you can explicitly specify 'value_type' ('int', 'float', 'bool' or 'str') in parameter dict.\n",
      "[INFO 02-18 17:01:12] ax.service.utils.instantiation: Inferred value type of ParameterType.FLOAT for parameter 63676. If that is not the expected value type, you can explicitly specify 'value_type' ('int', 'float', 'bool' or 'str') in parameter dict.\n",
      "[INFO 02-18 17:01:12] ax.service.utils.instantiation: Inferred value type of ParameterType.FLOAT for parameter 56422. If that is not the expected value type, you can explicitly specify 'value_type' ('int', 'float', 'bool' or 'str') in parameter dict.\n",
      "[INFO 02-18 17:01:12] ax.service.utils.instantiation: Created search space: SearchSpace(parameters=[RangeParameter(name='31815', parameter_type=FLOAT, range=[-1.0, 1.0]), RangeParameter(name='28087', parameter_type=FLOAT, range=[-1.0, 1.0]), RangeParameter(name='63676', parameter_type=FLOAT, range=[-1.0, 1.0]), RangeParameter(name='56422', parameter_type=FLOAT, range=[-1.0, 1.0])], parameter_constraints=[]).\n",
      "[INFO 02-18 17:01:12] ax.modelbridge.dispatch_utils: Using Models.BOTORCH_MODULAR since there is at least one ordered parameter and there are no unordered categorical parameters.\n",
      "[INFO 02-18 17:01:12] ax.modelbridge.dispatch_utils: Calculating the number of remaining initialization trials based on num_initialization_trials=None max_initialization_trials=None num_tunable_parameters=4 num_trials=None use_batch_trials=False\n",
      "[INFO 02-18 17:01:12] ax.modelbridge.dispatch_utils: calculated num_initialization_trials=8\n",
      "[INFO 02-18 17:01:12] ax.modelbridge.dispatch_utils: num_completed_initialization_trials=0 num_remaining_initialization_trials=8\n",
      "[INFO 02-18 17:01:12] ax.modelbridge.dispatch_utils: `verbose`, `disable_progbar`, and `jit_compile` are not yet supported when using `choose_generation_strategy` with ModularBoTorchModel, dropping these arguments.\n",
      "[INFO 02-18 17:01:12] ax.modelbridge.dispatch_utils: Using Bayesian Optimization generation strategy: GenerationStrategy(name='Sobol+BoTorch', steps=[Sobol for 8 trials, BoTorch for subsequent trials]). Iterations after 8 will take longer to generate due to model-fitting.\n"
     ]
    },
    {
     "name": "stdout",
     "output_type": "stream",
     "text": [
      "\n",
      "\n",
      "\n",
      "Best importance scores: {'Explanatory descriptions of the color red and its associations': np.float64(7.363976116846589), 'The color red': np.float64(4.239456565765613), 'The color yellow': np.float64(2.191765250831251), 'Enterprise software products with Red in their name': np.float64(0.07053365664174027)}\n",
      "Current parameters: ['The color red', 'Explanatory descriptions of the color red and its associations', 'Color terms used as descriptive adjectives', 'Discussion of Blue Ocean Strategy business framework']\n",
      "\n",
      "\n",
      "\n"
     ]
    },
    {
     "name": "stderr",
     "output_type": "stream",
     "text": [
      "/Users/keenanpepper/halligan/.venv/lib/python3.12/site-packages/ax/modelbridge/cross_validation.py:463: UserWarning: Encountered exception in computing model fit quality: RandomModelBridge does not support prediction.\n",
      "  warn(\"Encountered exception in computing model fit quality: \" + str(e))\n",
      "/Users/keenanpepper/halligan/.venv/lib/python3.12/site-packages/ax/modelbridge/cross_validation.py:463: UserWarning: Encountered exception in computing model fit quality: RandomModelBridge does not support prediction.\n",
      "  warn(\"Encountered exception in computing model fit quality: \" + str(e))\n",
      "/Users/keenanpepper/halligan/.venv/lib/python3.12/site-packages/ax/modelbridge/cross_validation.py:463: UserWarning: Encountered exception in computing model fit quality: RandomModelBridge does not support prediction.\n",
      "  warn(\"Encountered exception in computing model fit quality: \" + str(e))\n",
      "/Users/keenanpepper/halligan/.venv/lib/python3.12/site-packages/ax/modelbridge/cross_validation.py:463: UserWarning: Encountered exception in computing model fit quality: RandomModelBridge does not support prediction.\n",
      "  warn(\"Encountered exception in computing model fit quality: \" + str(e))\n",
      "/Users/keenanpepper/halligan/.venv/lib/python3.12/site-packages/ax/modelbridge/cross_validation.py:463: UserWarning: Encountered exception in computing model fit quality: RandomModelBridge does not support prediction.\n",
      "  warn(\"Encountered exception in computing model fit quality: \" + str(e))\n",
      "/Users/keenanpepper/halligan/.venv/lib/python3.12/site-packages/ax/modelbridge/cross_validation.py:463: UserWarning: Encountered exception in computing model fit quality: RandomModelBridge does not support prediction.\n",
      "  warn(\"Encountered exception in computing model fit quality: \" + str(e))\n",
      "/Users/keenanpepper/halligan/.venv/lib/python3.12/site-packages/ax/modelbridge/cross_validation.py:463: UserWarning: Encountered exception in computing model fit quality: RandomModelBridge does not support prediction.\n",
      "  warn(\"Encountered exception in computing model fit quality: \" + str(e))\n",
      "/Users/keenanpepper/halligan/.venv/lib/python3.12/site-packages/ax/modelbridge/cross_validation.py:463: UserWarning: Encountered exception in computing model fit quality: RandomModelBridge does not support prediction.\n",
      "  warn(\"Encountered exception in computing model fit quality: \" + str(e))\n",
      "2025-02-18 17:01:59,823 - src.halligan.parameter_search - INFO - Replacing parameters: ['63676', '31815']\n",
      "2025-02-18 17:01:59,823 - src.halligan.parameter_search - INFO - Replacing parameters: ['63676', '31815']\n"
     ]
    },
    {
     "name": "stdout",
     "output_type": "stream",
     "text": [
      "Importance scores: {'31815': np.float64(0.3000242275169249), '28087': np.float64(1.4202571638161663), '63676': np.float64(-0.00027838327366502824), '56422': np.float64(0.7992918773849551)}\n"
     ]
    },
    {
     "name": "stderr",
     "output_type": "stream",
     "text": [
      "2025-02-18 17:02:00,178 - src.halligan.parameter_search - INFO - New parameters added: ['61432', '22844']\n",
      "2025-02-18 17:02:00,178 - src.halligan.parameter_search - INFO - New parameters added: ['61432', '22844']\n",
      "2025-02-18 17:02:00,178 - src.halligan.parameter_search - INFO - Starting outer iteration 3/5\n",
      "2025-02-18 17:02:00,178 - src.halligan.parameter_search - INFO - Starting outer iteration 3/5\n",
      "[INFO 02-18 17:02:00] ax.service.utils.instantiation: Inferred value type of ParameterType.FLOAT for parameter 28087. If that is not the expected value type, you can explicitly specify 'value_type' ('int', 'float', 'bool' or 'str') in parameter dict.\n",
      "[INFO 02-18 17:02:00] ax.service.utils.instantiation: Inferred value type of ParameterType.FLOAT for parameter 56422. If that is not the expected value type, you can explicitly specify 'value_type' ('int', 'float', 'bool' or 'str') in parameter dict.\n",
      "[INFO 02-18 17:02:00] ax.service.utils.instantiation: Inferred value type of ParameterType.FLOAT for parameter 61432. If that is not the expected value type, you can explicitly specify 'value_type' ('int', 'float', 'bool' or 'str') in parameter dict.\n",
      "[INFO 02-18 17:02:00] ax.service.utils.instantiation: Inferred value type of ParameterType.FLOAT for parameter 22844. If that is not the expected value type, you can explicitly specify 'value_type' ('int', 'float', 'bool' or 'str') in parameter dict.\n",
      "[INFO 02-18 17:02:00] ax.service.utils.instantiation: Created search space: SearchSpace(parameters=[RangeParameter(name='28087', parameter_type=FLOAT, range=[-1.0, 1.0]), RangeParameter(name='56422', parameter_type=FLOAT, range=[-1.0, 1.0]), RangeParameter(name='61432', parameter_type=FLOAT, range=[-1.0, 1.0]), RangeParameter(name='22844', parameter_type=FLOAT, range=[-1.0, 1.0])], parameter_constraints=[]).\n",
      "[INFO 02-18 17:02:00] ax.modelbridge.dispatch_utils: Using Models.BOTORCH_MODULAR since there is at least one ordered parameter and there are no unordered categorical parameters.\n",
      "[INFO 02-18 17:02:00] ax.modelbridge.dispatch_utils: Calculating the number of remaining initialization trials based on num_initialization_trials=None max_initialization_trials=None num_tunable_parameters=4 num_trials=None use_batch_trials=False\n",
      "[INFO 02-18 17:02:00] ax.modelbridge.dispatch_utils: calculated num_initialization_trials=8\n",
      "[INFO 02-18 17:02:00] ax.modelbridge.dispatch_utils: num_completed_initialization_trials=0 num_remaining_initialization_trials=8\n",
      "[INFO 02-18 17:02:00] ax.modelbridge.dispatch_utils: `verbose`, `disable_progbar`, and `jit_compile` are not yet supported when using `choose_generation_strategy` with ModularBoTorchModel, dropping these arguments.\n",
      "[INFO 02-18 17:02:00] ax.modelbridge.dispatch_utils: Using Bayesian Optimization generation strategy: GenerationStrategy(name='Sobol+BoTorch', steps=[Sobol for 8 trials, BoTorch for subsequent trials]). Iterations after 8 will take longer to generate due to model-fitting.\n"
     ]
    },
    {
     "name": "stdout",
     "output_type": "stream",
     "text": [
      "\n",
      "\n",
      "\n",
      "Best importance scores: {'Explanatory descriptions of the color red and its associations': np.float64(7.363976116846589), 'The color red': np.float64(4.239456565765613), 'The color yellow': np.float64(2.191765250831251), 'Discussion of Blue Ocean Strategy business framework': np.float64(0.7992918773849551), 'Enterprise software products with Red in their name': np.float64(0.07053365664174027), 'Color terms used as descriptive adjectives': np.float64(-0.00027838327366502824)}\n",
      "Current parameters: ['Explanatory descriptions of the color red and its associations', 'Discussion of Blue Ocean Strategy business framework', \"Setup phrases in simple jokes, especially 'Because it' in punchlines\", 'Descriptions of redheaded people and associated descriptive language patterns']\n",
      "\n",
      "\n",
      "\n"
     ]
    },
    {
     "name": "stderr",
     "output_type": "stream",
     "text": [
      "/Users/keenanpepper/halligan/.venv/lib/python3.12/site-packages/ax/modelbridge/cross_validation.py:463: UserWarning: Encountered exception in computing model fit quality: RandomModelBridge does not support prediction.\n",
      "  warn(\"Encountered exception in computing model fit quality: \" + str(e))\n",
      "/Users/keenanpepper/halligan/.venv/lib/python3.12/site-packages/ax/modelbridge/cross_validation.py:463: UserWarning: Encountered exception in computing model fit quality: RandomModelBridge does not support prediction.\n",
      "  warn(\"Encountered exception in computing model fit quality: \" + str(e))\n",
      "/Users/keenanpepper/halligan/.venv/lib/python3.12/site-packages/ax/modelbridge/cross_validation.py:463: UserWarning: Encountered exception in computing model fit quality: RandomModelBridge does not support prediction.\n",
      "  warn(\"Encountered exception in computing model fit quality: \" + str(e))\n",
      "/Users/keenanpepper/halligan/.venv/lib/python3.12/site-packages/ax/modelbridge/cross_validation.py:463: UserWarning: Encountered exception in computing model fit quality: RandomModelBridge does not support prediction.\n",
      "  warn(\"Encountered exception in computing model fit quality: \" + str(e))\n",
      "/Users/keenanpepper/halligan/.venv/lib/python3.12/site-packages/ax/modelbridge/cross_validation.py:463: UserWarning: Encountered exception in computing model fit quality: RandomModelBridge does not support prediction.\n",
      "  warn(\"Encountered exception in computing model fit quality: \" + str(e))\n",
      "/Users/keenanpepper/halligan/.venv/lib/python3.12/site-packages/ax/modelbridge/cross_validation.py:463: UserWarning: Encountered exception in computing model fit quality: RandomModelBridge does not support prediction.\n",
      "  warn(\"Encountered exception in computing model fit quality: \" + str(e))\n",
      "/Users/keenanpepper/halligan/.venv/lib/python3.12/site-packages/ax/modelbridge/cross_validation.py:463: UserWarning: Encountered exception in computing model fit quality: RandomModelBridge does not support prediction.\n",
      "  warn(\"Encountered exception in computing model fit quality: \" + str(e))\n",
      "/Users/keenanpepper/halligan/.venv/lib/python3.12/site-packages/ax/modelbridge/cross_validation.py:463: UserWarning: Encountered exception in computing model fit quality: RandomModelBridge does not support prediction.\n",
      "  warn(\"Encountered exception in computing model fit quality: \" + str(e))\n",
      "2025-02-18 17:02:46,446 - src.halligan.parameter_search - INFO - Replacing parameters: ['61432', '56422']\n",
      "2025-02-18 17:02:46,446 - src.halligan.parameter_search - INFO - Replacing parameters: ['61432', '56422']\n"
     ]
    },
    {
     "name": "stdout",
     "output_type": "stream",
     "text": [
      "Importance scores: {'28087': np.float64(4.8624415744867955), '56422': np.float64(0.032580473787295006), '61432': np.float64(-0.09893582611958518), '22844': np.float64(0.25924905841506174)}\n"
     ]
    },
    {
     "name": "stderr",
     "output_type": "stream",
     "text": [
      "2025-02-18 17:02:46,972 - src.halligan.parameter_search - INFO - New parameters added: ['59234', '47548']\n",
      "2025-02-18 17:02:46,972 - src.halligan.parameter_search - INFO - New parameters added: ['59234', '47548']\n",
      "2025-02-18 17:02:46,973 - src.halligan.parameter_search - INFO - Starting outer iteration 4/5\n",
      "2025-02-18 17:02:46,973 - src.halligan.parameter_search - INFO - Starting outer iteration 4/5\n",
      "[INFO 02-18 17:02:46] ax.service.utils.instantiation: Inferred value type of ParameterType.FLOAT for parameter 28087. If that is not the expected value type, you can explicitly specify 'value_type' ('int', 'float', 'bool' or 'str') in parameter dict.\n",
      "[INFO 02-18 17:02:46] ax.service.utils.instantiation: Inferred value type of ParameterType.FLOAT for parameter 22844. If that is not the expected value type, you can explicitly specify 'value_type' ('int', 'float', 'bool' or 'str') in parameter dict.\n",
      "[INFO 02-18 17:02:46] ax.service.utils.instantiation: Inferred value type of ParameterType.FLOAT for parameter 59234. If that is not the expected value type, you can explicitly specify 'value_type' ('int', 'float', 'bool' or 'str') in parameter dict.\n",
      "[INFO 02-18 17:02:46] ax.service.utils.instantiation: Inferred value type of ParameterType.FLOAT for parameter 47548. If that is not the expected value type, you can explicitly specify 'value_type' ('int', 'float', 'bool' or 'str') in parameter dict.\n",
      "[INFO 02-18 17:02:46] ax.service.utils.instantiation: Created search space: SearchSpace(parameters=[RangeParameter(name='28087', parameter_type=FLOAT, range=[-1.0, 1.0]), RangeParameter(name='22844', parameter_type=FLOAT, range=[-1.0, 1.0]), RangeParameter(name='59234', parameter_type=FLOAT, range=[-1.0, 1.0]), RangeParameter(name='47548', parameter_type=FLOAT, range=[-1.0, 1.0])], parameter_constraints=[]).\n",
      "[INFO 02-18 17:02:46] ax.modelbridge.dispatch_utils: Using Models.BOTORCH_MODULAR since there is at least one ordered parameter and there are no unordered categorical parameters.\n",
      "[INFO 02-18 17:02:46] ax.modelbridge.dispatch_utils: Calculating the number of remaining initialization trials based on num_initialization_trials=None max_initialization_trials=None num_tunable_parameters=4 num_trials=None use_batch_trials=False\n",
      "[INFO 02-18 17:02:46] ax.modelbridge.dispatch_utils: calculated num_initialization_trials=8\n",
      "[INFO 02-18 17:02:46] ax.modelbridge.dispatch_utils: num_completed_initialization_trials=0 num_remaining_initialization_trials=8\n",
      "[INFO 02-18 17:02:46] ax.modelbridge.dispatch_utils: `verbose`, `disable_progbar`, and `jit_compile` are not yet supported when using `choose_generation_strategy` with ModularBoTorchModel, dropping these arguments.\n",
      "[INFO 02-18 17:02:46] ax.modelbridge.dispatch_utils: Using Bayesian Optimization generation strategy: GenerationStrategy(name='Sobol+BoTorch', steps=[Sobol for 8 trials, BoTorch for subsequent trials]). Iterations after 8 will take longer to generate due to model-fitting.\n"
     ]
    },
    {
     "name": "stdout",
     "output_type": "stream",
     "text": [
      "\n",
      "\n",
      "\n",
      "Best importance scores: {'Explanatory descriptions of the color red and its associations': np.float64(7.363976116846589), 'The color red': np.float64(4.239456565765613), 'The color yellow': np.float64(2.191765250831251), 'Discussion of Blue Ocean Strategy business framework': np.float64(0.7992918773849551), 'Descriptions of redheaded people and associated descriptive language patterns': np.float64(0.25924905841506174), 'Enterprise software products with Red in their name': np.float64(0.07053365664174027), 'Color terms used as descriptive adjectives': np.float64(-0.00027838327366502824), \"Setup phrases in simple jokes, especially 'Because it' in punchlines\": np.float64(-0.09893582611958518)}\n",
      "Current parameters: ['Explanatory descriptions of the color red and its associations', 'Descriptions of redheaded people and associated descriptive language patterns', 'Descriptions of characters blushing or their faces turning red from emotion', 'Making bold aesthetic statements or attention-grabbing choices']\n",
      "\n",
      "\n",
      "\n"
     ]
    },
    {
     "name": "stderr",
     "output_type": "stream",
     "text": [
      "/Users/keenanpepper/halligan/.venv/lib/python3.12/site-packages/ax/modelbridge/cross_validation.py:463: UserWarning: Encountered exception in computing model fit quality: RandomModelBridge does not support prediction.\n",
      "  warn(\"Encountered exception in computing model fit quality: \" + str(e))\n",
      "/Users/keenanpepper/halligan/.venv/lib/python3.12/site-packages/ax/modelbridge/cross_validation.py:463: UserWarning: Encountered exception in computing model fit quality: RandomModelBridge does not support prediction.\n",
      "  warn(\"Encountered exception in computing model fit quality: \" + str(e))\n",
      "/Users/keenanpepper/halligan/.venv/lib/python3.12/site-packages/ax/modelbridge/cross_validation.py:463: UserWarning: Encountered exception in computing model fit quality: RandomModelBridge does not support prediction.\n",
      "  warn(\"Encountered exception in computing model fit quality: \" + str(e))\n",
      "/Users/keenanpepper/halligan/.venv/lib/python3.12/site-packages/ax/modelbridge/cross_validation.py:463: UserWarning: Encountered exception in computing model fit quality: RandomModelBridge does not support prediction.\n",
      "  warn(\"Encountered exception in computing model fit quality: \" + str(e))\n",
      "/Users/keenanpepper/halligan/.venv/lib/python3.12/site-packages/ax/modelbridge/cross_validation.py:463: UserWarning: Encountered exception in computing model fit quality: RandomModelBridge does not support prediction.\n",
      "  warn(\"Encountered exception in computing model fit quality: \" + str(e))\n",
      "/Users/keenanpepper/halligan/.venv/lib/python3.12/site-packages/ax/modelbridge/cross_validation.py:463: UserWarning: Encountered exception in computing model fit quality: RandomModelBridge does not support prediction.\n",
      "  warn(\"Encountered exception in computing model fit quality: \" + str(e))\n",
      "/Users/keenanpepper/halligan/.venv/lib/python3.12/site-packages/ax/modelbridge/cross_validation.py:463: UserWarning: Encountered exception in computing model fit quality: RandomModelBridge does not support prediction.\n",
      "  warn(\"Encountered exception in computing model fit quality: \" + str(e))\n",
      "/Users/keenanpepper/halligan/.venv/lib/python3.12/site-packages/ax/modelbridge/cross_validation.py:463: UserWarning: Encountered exception in computing model fit quality: RandomModelBridge does not support prediction.\n",
      "  warn(\"Encountered exception in computing model fit quality: \" + str(e))\n",
      "2025-02-18 17:03:34,796 - src.halligan.parameter_search - INFO - Replacing parameters: ['28087', '22844']\n",
      "2025-02-18 17:03:34,796 - src.halligan.parameter_search - INFO - Replacing parameters: ['28087', '22844']\n"
     ]
    },
    {
     "name": "stdout",
     "output_type": "stream",
     "text": [
      "Importance scores: {'28087': np.float64(0.45371350927343634), '22844': np.float64(0.5394283943009253), '59234': np.float64(4.188523305977174), '47548': np.float64(7.383063547993656)}\n"
     ]
    },
    {
     "name": "stderr",
     "output_type": "stream",
     "text": [
      "2025-02-18 17:03:35,385 - src.halligan.parameter_search - INFO - New parameters added: ['52155', '26702']\n",
      "2025-02-18 17:03:35,385 - src.halligan.parameter_search - INFO - New parameters added: ['52155', '26702']\n",
      "2025-02-18 17:03:35,386 - src.halligan.parameter_search - INFO - Starting outer iteration 5/5\n",
      "2025-02-18 17:03:35,386 - src.halligan.parameter_search - INFO - Starting outer iteration 5/5\n",
      "[INFO 02-18 17:03:35] ax.service.utils.instantiation: Inferred value type of ParameterType.FLOAT for parameter 59234. If that is not the expected value type, you can explicitly specify 'value_type' ('int', 'float', 'bool' or 'str') in parameter dict.\n",
      "[INFO 02-18 17:03:35] ax.service.utils.instantiation: Inferred value type of ParameterType.FLOAT for parameter 47548. If that is not the expected value type, you can explicitly specify 'value_type' ('int', 'float', 'bool' or 'str') in parameter dict.\n",
      "[INFO 02-18 17:03:35] ax.service.utils.instantiation: Inferred value type of ParameterType.FLOAT for parameter 52155. If that is not the expected value type, you can explicitly specify 'value_type' ('int', 'float', 'bool' or 'str') in parameter dict.\n",
      "[INFO 02-18 17:03:35] ax.service.utils.instantiation: Inferred value type of ParameterType.FLOAT for parameter 26702. If that is not the expected value type, you can explicitly specify 'value_type' ('int', 'float', 'bool' or 'str') in parameter dict.\n",
      "[INFO 02-18 17:03:35] ax.service.utils.instantiation: Created search space: SearchSpace(parameters=[RangeParameter(name='59234', parameter_type=FLOAT, range=[-1.0, 1.0]), RangeParameter(name='47548', parameter_type=FLOAT, range=[-1.0, 1.0]), RangeParameter(name='52155', parameter_type=FLOAT, range=[-1.0, 1.0]), RangeParameter(name='26702', parameter_type=FLOAT, range=[-1.0, 1.0])], parameter_constraints=[]).\n",
      "[INFO 02-18 17:03:35] ax.modelbridge.dispatch_utils: Using Models.BOTORCH_MODULAR since there is at least one ordered parameter and there are no unordered categorical parameters.\n",
      "[INFO 02-18 17:03:35] ax.modelbridge.dispatch_utils: Calculating the number of remaining initialization trials based on num_initialization_trials=None max_initialization_trials=None num_tunable_parameters=4 num_trials=None use_batch_trials=False\n",
      "[INFO 02-18 17:03:35] ax.modelbridge.dispatch_utils: calculated num_initialization_trials=8\n",
      "[INFO 02-18 17:03:35] ax.modelbridge.dispatch_utils: num_completed_initialization_trials=0 num_remaining_initialization_trials=8\n",
      "[INFO 02-18 17:03:35] ax.modelbridge.dispatch_utils: `verbose`, `disable_progbar`, and `jit_compile` are not yet supported when using `choose_generation_strategy` with ModularBoTorchModel, dropping these arguments.\n",
      "[INFO 02-18 17:03:35] ax.modelbridge.dispatch_utils: Using Bayesian Optimization generation strategy: GenerationStrategy(name='Sobol+BoTorch', steps=[Sobol for 8 trials, BoTorch for subsequent trials]). Iterations after 8 will take longer to generate due to model-fitting.\n"
     ]
    },
    {
     "name": "stdout",
     "output_type": "stream",
     "text": [
      "\n",
      "\n",
      "\n",
      "Best importance scores: {'Making bold aesthetic statements or attention-grabbing choices': np.float64(7.383063547993656), 'Explanatory descriptions of the color red and its associations': np.float64(7.363976116846589), 'The color red': np.float64(4.239456565765613), 'Descriptions of characters blushing or their faces turning red from emotion': np.float64(4.188523305977174), 'The color yellow': np.float64(2.191765250831251), 'Discussion of Blue Ocean Strategy business framework': np.float64(0.7992918773849551), 'Descriptions of redheaded people and associated descriptive language patterns': np.float64(0.5394283943009253), 'Enterprise software products with Red in their name': np.float64(0.07053365664174027), 'Color terms used as descriptive adjectives': np.float64(-0.00027838327366502824), \"Setup phrases in simple jokes, especially 'Because it' in punchlines\": np.float64(-0.09893582611958518)}\n",
      "Current parameters: ['Descriptions of characters blushing or their faces turning red from emotion', 'Making bold aesthetic statements or attention-grabbing choices', 'Descriptions of cheeks and cheekbones in beauty and cosmetic contexts', 'Describing physical or abstract properties and characteristics']\n",
      "\n",
      "\n",
      "\n"
     ]
    },
    {
     "name": "stderr",
     "output_type": "stream",
     "text": [
      "/Users/keenanpepper/halligan/.venv/lib/python3.12/site-packages/ax/modelbridge/cross_validation.py:463: UserWarning: Encountered exception in computing model fit quality: RandomModelBridge does not support prediction.\n",
      "  warn(\"Encountered exception in computing model fit quality: \" + str(e))\n",
      "/Users/keenanpepper/halligan/.venv/lib/python3.12/site-packages/ax/modelbridge/cross_validation.py:463: UserWarning: Encountered exception in computing model fit quality: RandomModelBridge does not support prediction.\n",
      "  warn(\"Encountered exception in computing model fit quality: \" + str(e))\n",
      "/Users/keenanpepper/halligan/.venv/lib/python3.12/site-packages/ax/modelbridge/cross_validation.py:463: UserWarning: Encountered exception in computing model fit quality: RandomModelBridge does not support prediction.\n",
      "  warn(\"Encountered exception in computing model fit quality: \" + str(e))\n",
      "/Users/keenanpepper/halligan/.venv/lib/python3.12/site-packages/ax/modelbridge/cross_validation.py:463: UserWarning: Encountered exception in computing model fit quality: RandomModelBridge does not support prediction.\n",
      "  warn(\"Encountered exception in computing model fit quality: \" + str(e))\n",
      "/Users/keenanpepper/halligan/.venv/lib/python3.12/site-packages/ax/modelbridge/cross_validation.py:463: UserWarning: Encountered exception in computing model fit quality: RandomModelBridge does not support prediction.\n",
      "  warn(\"Encountered exception in computing model fit quality: \" + str(e))\n",
      "/Users/keenanpepper/halligan/.venv/lib/python3.12/site-packages/ax/modelbridge/cross_validation.py:463: UserWarning: Encountered exception in computing model fit quality: RandomModelBridge does not support prediction.\n",
      "  warn(\"Encountered exception in computing model fit quality: \" + str(e))\n",
      "/Users/keenanpepper/halligan/.venv/lib/python3.12/site-packages/ax/modelbridge/cross_validation.py:463: UserWarning: Encountered exception in computing model fit quality: RandomModelBridge does not support prediction.\n",
      "  warn(\"Encountered exception in computing model fit quality: \" + str(e))\n",
      "/Users/keenanpepper/halligan/.venv/lib/python3.12/site-packages/ax/modelbridge/cross_validation.py:463: UserWarning: Encountered exception in computing model fit quality: RandomModelBridge does not support prediction.\n",
      "  warn(\"Encountered exception in computing model fit quality: \" + str(e))\n",
      "2025-02-18 17:04:21,198 - src.halligan.parameter_search - INFO - Replacing parameters: ['47548', '52155']\n",
      "2025-02-18 17:04:21,198 - src.halligan.parameter_search - INFO - Replacing parameters: ['47548', '52155']\n"
     ]
    },
    {
     "name": "stdout",
     "output_type": "stream",
     "text": [
      "Importance scores: {'59234': np.float64(2.1234157520965766), '47548': np.float64(-0.12775927153969668), '52155': np.float64(0.9288147605617647), '26702': np.float64(2.0610769207697937)}\n"
     ]
    },
    {
     "name": "stderr",
     "output_type": "stream",
     "text": [
      "2025-02-18 17:04:21,556 - src.halligan.parameter_search - INFO - New parameters added: ['62593', '27270']\n",
      "2025-02-18 17:04:21,556 - src.halligan.parameter_search - INFO - New parameters added: ['62593', '27270']\n"
     ]
    }
   ],
   "source": [
    "result = iterative_parameter_search(\n",
    "    parameter_generator=get_candidate_parameters,\n",
    "    objective_function=objective_function,\n",
    "    initial_parameters=initial_parameters,\n",
    "    num_features_to_replace=2,\n",
    "    outer_iterations=5,\n",
    "    inner_iterations=20,\n",
    "    maximize=True,\n",
    "    neutral_value=0.0,\n",
    "    display_function=display_function,\n",
    ")"
   ]
  },
  {
   "cell_type": "code",
   "execution_count": 50,
   "metadata": {},
   "outputs": [
    {
     "data": {
      "text/plain": [
       "(AxClient(experiment=Experiment(None)),\n",
       " ['26702', '59234'],\n",
       " ['53668',\n",
       "  '29816',\n",
       "  '63676',\n",
       "  '31815',\n",
       "  '61432',\n",
       "  '56422',\n",
       "  '28087',\n",
       "  '22844',\n",
       "  '47548',\n",
       "  '52155'],\n",
       " {'31815': np.float64(4.239456565765613),\n",
       "  '28087': np.float64(7.363976116846589),\n",
       "  '29816': np.float64(2.191765250831251),\n",
       "  '53668': np.float64(0.07053365664174027),\n",
       "  '63676': np.float64(-0.00027838327366502824),\n",
       "  '56422': np.float64(0.7992918773849551),\n",
       "  '61432': np.float64(-0.09893582611958518),\n",
       "  '22844': np.float64(0.5394283943009253),\n",
       "  '59234': np.float64(4.188523305977174),\n",
       "  '47548': np.float64(7.383063547993656),\n",
       "  '52155': np.float64(0.9288147605617647),\n",
       "  '26702': np.float64(2.0610769207697937)})"
      ]
     },
     "execution_count": 50,
     "metadata": {},
     "output_type": "execute_result"
    }
   ],
   "source": [
    "result"
   ]
  },
  {
   "cell_type": "code",
   "execution_count": 52,
   "metadata": {},
   "outputs": [
    {
     "data": {
      "text/plain": [
       "{63676: Feature(\"Color terms used as descriptive adjectives\"),\n",
       " 26702: Feature(\"Describing physical or abstract properties and characteristics\"),\n",
       " 31815: Feature(\"The color red\"),\n",
       " 53668: Feature(\"Enterprise software products with Red in their name\"),\n",
       " 56422: Feature(\"Discussion of Blue Ocean Strategy business framework\"),\n",
       " 47548: Feature(\"Making bold aesthetic statements or attention-grabbing choices\"),\n",
       " 61432: Feature(\"Setup phrases in simple jokes, especially 'Because it' in punchlines\"),\n",
       " 52155: Feature(\"Descriptions of cheeks and cheekbones in beauty and cosmetic contexts\"),\n",
       " 59234: Feature(\"Descriptions of characters blushing or their faces turning red from emotion\"),\n",
       " 29816: Feature(\"The color yellow\"),\n",
       " 28087: Feature(\"Explanatory descriptions of the color red and its associations\"),\n",
       " 22844: Feature(\"Descriptions of redheaded people and associated descriptive language patterns\")}"
      ]
     },
     "execution_count": 52,
     "metadata": {},
     "output_type": "execute_result"
    }
   ],
   "source": [
    "client.features.lookup(result[1] + result[2], base_variant)"
   ]
  },
  {
   "cell_type": "code",
   "execution_count": 51,
   "metadata": {},
   "outputs": [
    {
     "data": {
      "text/plain": [
       "{'59234': np.float64(2.446542714951483),\n",
       " '47548': np.float64(0.19536769128414466),\n",
       " '52155': np.float64(1.2519417233859897),\n",
       " '26702': np.float64(2.384203883590482)}"
      ]
     },
     "execution_count": 51,
     "metadata": {},
     "output_type": "execute_result"
    }
   ],
   "source": [
    "get_feature_importance(result[0], neutral_value=0.0, maximize=True)"
   ]
  },
  {
   "cell_type": "code",
   "execution_count": 53,
   "metadata": {},
   "outputs": [
    {
     "data": {
      "text/plain": [
       "{'59234': np.float64(2.446542714946408),\n",
       " '47548': np.float64(0.1953676913105582),\n",
       " '52155': np.float64(1.2519417234122026),\n",
       " '26702': np.float64(2.384203883616096)}"
      ]
     },
     "execution_count": 53,
     "metadata": {},
     "output_type": "execute_result"
    }
   ],
   "source": [
    "get_feature_importance(result[0], neutral_value=0.0, maximize=True)"
   ]
  },
  {
   "cell_type": "code",
   "execution_count": null,
   "metadata": {},
   "outputs": [],
   "source": []
  }
 ],
 "metadata": {
  "kernelspec": {
   "display_name": ".venv",
   "language": "python",
   "name": "python3"
  },
  "language_info": {
   "codemirror_mode": {
    "name": "ipython",
    "version": 3
   },
   "file_extension": ".py",
   "mimetype": "text/x-python",
   "name": "python",
   "nbconvert_exporter": "python",
   "pygments_lexer": "ipython3",
   "version": "3.12.8"
  }
 },
 "nbformat": 4,
 "nbformat_minor": 2
}
