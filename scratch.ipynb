{
 "cells": [
  {
   "cell_type": "code",
   "execution_count": 1,
   "metadata": {},
   "outputs": [],
   "source": [
    "%load_ext autoreload\n",
    "%autoreload 2"
   ]
  },
  {
   "cell_type": "code",
   "execution_count": 96,
   "metadata": {},
   "outputs": [],
   "source": [
    "import goodfire\n",
    "import os\n",
    "from typing import Dict, Callable, List\n",
    "import numpy as np\n",
    "import torch\n",
    "\n",
    "from src.halligan import iterative_parameter_search\n",
    "from src.halligan.feature_importance import get_feature_importance\n",
    "\n",
    "client = goodfire.Client(os.environ[\"GOODFIRE_API_KEY\"])\n",
    "\n",
    "base_variant = goodfire.Variant(\"meta-llama/Llama-3.3-70B-Instruct\")"
   ]
  },
  {
   "cell_type": "code",
   "execution_count": 3,
   "metadata": {},
   "outputs": [],
   "source": [
    "PROMPT = \"If you had a favorite color, what would it be? Answer in one word.\""
   ]
  },
  {
   "cell_type": "code",
   "execution_count": 4,
   "metadata": {},
   "outputs": [],
   "source": [
    "logits = client.chat.logits(\n",
    "    model=base_variant,\n",
    "    messages=[\n",
    "        {\"role\": \"user\", \"content\": PROMPT},\n",
    "        {\"role\": \"assistant\", \"content\": \"\"},\n",
    "    ],\n",
    ")\n"
   ]
  },
  {
   "cell_type": "code",
   "execution_count": 5,
   "metadata": {},
   "outputs": [],
   "source": [
    "def create_variant_from_feature_boosts(feature_boosts: Dict[int, float]) -> goodfire.Variant:\n",
    "    if not feature_boosts:\n",
    "        return base_variant\n",
    "    variant = goodfire.Variant(\"meta-llama/Llama-3.3-70B-Instruct\")\n",
    "    features = client.features.lookup(list(feature_boosts.keys()), base_variant)\n",
    "    for feature_id, boost in feature_boosts.items():\n",
    "        variant.set(features[feature_id], boost)\n",
    "    return variant"
   ]
  },
  {
   "cell_type": "code",
   "execution_count": 6,
   "metadata": {},
   "outputs": [
    {
     "data": {
      "text/plain": [
       "Variant(\n",
       "   base_model=meta-llama/Llama-3.3-70B-Instruct,\n",
       "   edits={\n",
       "      Feature(\"Explanatory statements about AI's impacts and applications\"): 1.0,\n",
       "      Feature(\"The assistant wishes enjoyment of food/recipes to users\"): -1.0,\n",
       "   }\n",
       "   scopes={\n",
       "   }\n",
       ")"
      ]
     },
     "execution_count": 6,
     "metadata": {},
     "output_type": "execute_result"
    }
   ],
   "source": [
    "create_variant_from_feature_boosts({0: 1.0, 1: -1.0})"
   ]
  },
  {
   "cell_type": "code",
   "execution_count": 7,
   "metadata": {},
   "outputs": [],
   "source": [
    "def variant_answer_logprob(variant, answer, top_k=10):\n",
    "    logits_topk = client.chat.logits([{\"role\": \"user\", \"content\": PROMPT}, {\"role\": \"assistant\", \"content\": \"\"}], variant, top_k=top_k)\n",
    "    logits_color = client.chat.logits([{\"role\": \"user\", \"content\": PROMPT}, {\"role\": \"assistant\", \"content\": \"\"}], variant, filter_vocabulary=[answer])\n",
    "    logits_topk_values = np.array(list(logits_topk.logits.values()))\n",
    "    max_logit = np.max(logits_topk_values)\n",
    "    exp_logits = np.exp(logits_topk_values - max_logit)\n",
    "    sum_exp_logits = np.sum(exp_logits)\n",
    "    log_denominator = np.log(sum_exp_logits) + max_logit\n",
    "    \n",
    "    return logits_color.logits[answer] - log_denominator"
   ]
  },
  {
   "cell_type": "code",
   "execution_count": 8,
   "metadata": {},
   "outputs": [],
   "source": [
    "def get_candidate_parameters(current_parameters: List[str], tried_parameters: List[str], num_features_to_replace: int) -> List[Dict]:\n",
    "    features = client.features.lookup(current_parameters, base_variant)\n",
    "    neighboring_features = client.features.neighbors(features.values(), base_variant, top_k=num_features_to_replace + len(tried_parameters))\n",
    "    neighboring_ids = [str(f.index_in_sae) for f in neighboring_features]\n",
    "    new_candidate_ids = [id for id in neighboring_ids if id not in tried_parameters]\n",
    "    new_candidate_ids = new_candidate_ids[:num_features_to_replace]\n",
    "    return [{\"name\": id, \"type\": \"range\", \"bounds\": [-1.0, 1.0]} for id in new_candidate_ids]"
   ]
  },
  {
   "cell_type": "code",
   "execution_count": 9,
   "metadata": {},
   "outputs": [],
   "source": [
    "def objective_function(parameters: Dict) -> float:\n",
    "    variant = create_variant_from_feature_boosts({int(k): v for k, v in parameters.items()})\n",
    "    return variant_answer_logprob(variant, \"Red\")"
   ]
  },
  {
   "cell_type": "code",
   "execution_count": 10,
   "metadata": {},
   "outputs": [
    {
     "data": {
      "text/plain": [
       "FeatureGroup([\n",
       "   0: \"The color red\",\n",
       "   1: \"Explanatory descriptions of the color red and its associations\",\n",
       "   2: \"The color yellow\",\n",
       "   3: \"Enterprise software products with Red in their name\",\n",
       "   4: \"Descriptions of redheaded people and associated descriptive language patterns\",\n",
       "   5: \"Descriptions of characters blushing or their faces turning red from emotion\",\n",
       "   6: \"The tomato turning red joke and its sexual innuendo\",\n",
       "   7: \"CSS color property declarations\",\n",
       "   8: \"The word orange/Orange when used as a significant token or keyword\",\n",
       "   9: \"CSS color property declarations using hex codes\"\n",
       "])"
      ]
     },
     "execution_count": 10,
     "metadata": {},
     "output_type": "execute_result"
    }
   ],
   "source": [
    "red_features = client.features.search(\"color red\", base_variant)\n",
    "red_features"
   ]
  },
  {
   "cell_type": "code",
   "execution_count": 11,
   "metadata": {},
   "outputs": [
    {
     "data": {
      "text/plain": [
       "[{'name': '31815', 'type': 'range', 'bounds': [-1.0, 1.0]},\n",
       " {'name': '28087', 'type': 'range', 'bounds': [-1.0, 1.0]},\n",
       " {'name': '29816', 'type': 'range', 'bounds': [-1.0, 1.0]},\n",
       " {'name': '53668', 'type': 'range', 'bounds': [-1.0, 1.0]}]"
      ]
     },
     "execution_count": 11,
     "metadata": {},
     "output_type": "execute_result"
    }
   ],
   "source": [
    "initial_parameters = [{\"name\": str(f.index_in_sae), \"type\": \"range\", \"bounds\": [-1.0, 1.0]} for f in red_features[:4]]\n",
    "initial_parameters"
   ]
  },
  {
   "cell_type": "code",
   "execution_count": 12,
   "metadata": {},
   "outputs": [],
   "source": [
    "def display_function(best_importance_scores, current_parameters):\n",
    "    features = client.features.lookup(list(best_importance_scores.keys()) + [f[\"name\"] for f in current_parameters], base_variant)\n",
    "    readable_best_importance_scores = {features[int(k)].label: v for k, v in sorted(best_importance_scores.items(), key=lambda x: x[1], reverse=True)}\n",
    "    readable_current_parameters = [features[int(f[\"name\"])].label for f in current_parameters]\n",
    "    print(\"\\n\\n\")\n",
    "    print(f\"Best importance scores: {readable_best_importance_scores}\")\n",
    "    print(f\"Current parameters: {readable_current_parameters}\")\n",
    "    print(\"\\n\\n\")"
   ]
  },
  {
   "cell_type": "code",
   "execution_count": 14,
   "metadata": {},
   "outputs": [
    {
     "name": "stderr",
     "output_type": "stream",
     "text": [
      "2025-02-18 17:11:22,083 - src.halligan.parameter_search - INFO - Starting outer iteration 1/5\n",
      "[INFO 02-18 17:11:22] ax.service.utils.instantiation: Inferred value type of ParameterType.FLOAT for parameter 31815. If that is not the expected value type, you can explicitly specify 'value_type' ('int', 'float', 'bool' or 'str') in parameter dict.\n",
      "[INFO 02-18 17:11:22] ax.service.utils.instantiation: Inferred value type of ParameterType.FLOAT for parameter 28087. If that is not the expected value type, you can explicitly specify 'value_type' ('int', 'float', 'bool' or 'str') in parameter dict.\n",
      "[INFO 02-18 17:11:22] ax.service.utils.instantiation: Inferred value type of ParameterType.FLOAT for parameter 29816. If that is not the expected value type, you can explicitly specify 'value_type' ('int', 'float', 'bool' or 'str') in parameter dict.\n",
      "[INFO 02-18 17:11:22] ax.service.utils.instantiation: Inferred value type of ParameterType.FLOAT for parameter 53668. If that is not the expected value type, you can explicitly specify 'value_type' ('int', 'float', 'bool' or 'str') in parameter dict.\n",
      "[INFO 02-18 17:11:22] ax.service.utils.instantiation: Created search space: SearchSpace(parameters=[RangeParameter(name='31815', parameter_type=FLOAT, range=[-1.0, 1.0]), RangeParameter(name='28087', parameter_type=FLOAT, range=[-1.0, 1.0]), RangeParameter(name='29816', parameter_type=FLOAT, range=[-1.0, 1.0]), RangeParameter(name='53668', parameter_type=FLOAT, range=[-1.0, 1.0])], parameter_constraints=[]).\n",
      "[INFO 02-18 17:11:22] ax.modelbridge.dispatch_utils: Using Models.BOTORCH_MODULAR since there is at least one ordered parameter and there are no unordered categorical parameters.\n",
      "[INFO 02-18 17:11:22] ax.modelbridge.dispatch_utils: Calculating the number of remaining initialization trials based on num_initialization_trials=None max_initialization_trials=None num_tunable_parameters=4 num_trials=None use_batch_trials=False\n",
      "[INFO 02-18 17:11:22] ax.modelbridge.dispatch_utils: calculated num_initialization_trials=8\n",
      "[INFO 02-18 17:11:22] ax.modelbridge.dispatch_utils: num_completed_initialization_trials=0 num_remaining_initialization_trials=8\n",
      "[INFO 02-18 17:11:22] ax.modelbridge.dispatch_utils: `verbose`, `disable_progbar`, and `jit_compile` are not yet supported when using `choose_generation_strategy` with ModularBoTorchModel, dropping these arguments.\n",
      "[INFO 02-18 17:11:22] ax.modelbridge.dispatch_utils: Using Bayesian Optimization generation strategy: GenerationStrategy(name='Sobol+BoTorch', steps=[Sobol for 8 trials, BoTorch for subsequent trials]). Iterations after 8 will take longer to generate due to model-fitting.\n"
     ]
    },
    {
     "name": "stdout",
     "output_type": "stream",
     "text": [
      "\n",
      "\n",
      "\n",
      "Best importance scores: {}\n",
      "Current parameters: ['The color red', 'Explanatory descriptions of the color red and its associations', 'The color yellow', 'Enterprise software products with Red in their name']\n",
      "\n",
      "\n",
      "\n"
     ]
    },
    {
     "name": "stderr",
     "output_type": "stream",
     "text": [
      "/Users/keenanpepper/halligan/.venv/lib/python3.12/site-packages/ax/modelbridge/cross_validation.py:463: UserWarning: Encountered exception in computing model fit quality: RandomModelBridge does not support prediction.\n",
      "  warn(\"Encountered exception in computing model fit quality: \" + str(e))\n",
      "/Users/keenanpepper/halligan/.venv/lib/python3.12/site-packages/ax/modelbridge/cross_validation.py:463: UserWarning: Encountered exception in computing model fit quality: RandomModelBridge does not support prediction.\n",
      "  warn(\"Encountered exception in computing model fit quality: \" + str(e))\n",
      "/Users/keenanpepper/halligan/.venv/lib/python3.12/site-packages/ax/modelbridge/cross_validation.py:463: UserWarning: Encountered exception in computing model fit quality: RandomModelBridge does not support prediction.\n",
      "  warn(\"Encountered exception in computing model fit quality: \" + str(e))\n",
      "/Users/keenanpepper/halligan/.venv/lib/python3.12/site-packages/ax/modelbridge/cross_validation.py:463: UserWarning: Encountered exception in computing model fit quality: RandomModelBridge does not support prediction.\n",
      "  warn(\"Encountered exception in computing model fit quality: \" + str(e))\n",
      "/Users/keenanpepper/halligan/.venv/lib/python3.12/site-packages/ax/modelbridge/cross_validation.py:463: UserWarning: Encountered exception in computing model fit quality: RandomModelBridge does not support prediction.\n",
      "  warn(\"Encountered exception in computing model fit quality: \" + str(e))\n",
      "/Users/keenanpepper/halligan/.venv/lib/python3.12/site-packages/ax/modelbridge/cross_validation.py:463: UserWarning: Encountered exception in computing model fit quality: RandomModelBridge does not support prediction.\n",
      "  warn(\"Encountered exception in computing model fit quality: \" + str(e))\n",
      "/Users/keenanpepper/halligan/.venv/lib/python3.12/site-packages/ax/modelbridge/cross_validation.py:463: UserWarning: Encountered exception in computing model fit quality: RandomModelBridge does not support prediction.\n",
      "  warn(\"Encountered exception in computing model fit quality: \" + str(e))\n",
      "/Users/keenanpepper/halligan/.venv/lib/python3.12/site-packages/ax/modelbridge/cross_validation.py:463: UserWarning: Encountered exception in computing model fit quality: RandomModelBridge does not support prediction.\n",
      "  warn(\"Encountered exception in computing model fit quality: \" + str(e))\n"
     ]
    },
    {
     "name": "stdout",
     "output_type": "stream",
     "text": [
      "Importance scores: {'31815': np.float64(3.027441981891481), '28087': np.float64(2.2739584793593424), '29816': np.float64(-0.19167260380625883), '53668': np.float64(0.03420946299148486)}\n"
     ]
    },
    {
     "name": "stderr",
     "output_type": "stream",
     "text": [
      "2025-02-18 17:12:13,806 - src.halligan.parameter_search - INFO - Retained parameters: ['31815', '28087']\n",
      "2025-02-18 17:12:13,808 - src.halligan.parameter_search - INFO - New parameters added: ['63676', '56422']\n",
      "2025-02-18 17:12:13,808 - src.halligan.parameter_search - INFO - Starting outer iteration 2/5\n",
      "[INFO 02-18 17:12:13] ax.service.utils.instantiation: Inferred value type of ParameterType.FLOAT for parameter 31815. If that is not the expected value type, you can explicitly specify 'value_type' ('int', 'float', 'bool' or 'str') in parameter dict.\n",
      "[INFO 02-18 17:12:13] ax.service.utils.instantiation: Inferred value type of ParameterType.FLOAT for parameter 28087. If that is not the expected value type, you can explicitly specify 'value_type' ('int', 'float', 'bool' or 'str') in parameter dict.\n",
      "[INFO 02-18 17:12:13] ax.service.utils.instantiation: Inferred value type of ParameterType.FLOAT for parameter 63676. If that is not the expected value type, you can explicitly specify 'value_type' ('int', 'float', 'bool' or 'str') in parameter dict.\n",
      "[INFO 02-18 17:12:13] ax.service.utils.instantiation: Inferred value type of ParameterType.FLOAT for parameter 56422. If that is not the expected value type, you can explicitly specify 'value_type' ('int', 'float', 'bool' or 'str') in parameter dict.\n",
      "[INFO 02-18 17:12:13] ax.service.utils.instantiation: Created search space: SearchSpace(parameters=[RangeParameter(name='31815', parameter_type=FLOAT, range=[-1.0, 1.0]), RangeParameter(name='28087', parameter_type=FLOAT, range=[-1.0, 1.0]), RangeParameter(name='63676', parameter_type=FLOAT, range=[-1.0, 1.0]), RangeParameter(name='56422', parameter_type=FLOAT, range=[-1.0, 1.0])], parameter_constraints=[]).\n",
      "[INFO 02-18 17:12:13] ax.modelbridge.dispatch_utils: Using Models.BOTORCH_MODULAR since there is at least one ordered parameter and there are no unordered categorical parameters.\n",
      "[INFO 02-18 17:12:13] ax.modelbridge.dispatch_utils: Calculating the number of remaining initialization trials based on num_initialization_trials=None max_initialization_trials=None num_tunable_parameters=4 num_trials=None use_batch_trials=False\n",
      "[INFO 02-18 17:12:13] ax.modelbridge.dispatch_utils: calculated num_initialization_trials=8\n",
      "[INFO 02-18 17:12:13] ax.modelbridge.dispatch_utils: num_completed_initialization_trials=0 num_remaining_initialization_trials=8\n",
      "[INFO 02-18 17:12:13] ax.modelbridge.dispatch_utils: `verbose`, `disable_progbar`, and `jit_compile` are not yet supported when using `choose_generation_strategy` with ModularBoTorchModel, dropping these arguments.\n",
      "[INFO 02-18 17:12:13] ax.modelbridge.dispatch_utils: Using Bayesian Optimization generation strategy: GenerationStrategy(name='Sobol+BoTorch', steps=[Sobol for 8 trials, BoTorch for subsequent trials]). Iterations after 8 will take longer to generate due to model-fitting.\n"
     ]
    },
    {
     "name": "stdout",
     "output_type": "stream",
     "text": [
      "\n",
      "\n",
      "\n",
      "Best importance scores: {'The color red': np.float64(3.027441981891481), 'Explanatory descriptions of the color red and its associations': np.float64(2.2739584793593424), 'Enterprise software products with Red in their name': np.float64(0.03420946299148486), 'The color yellow': np.float64(-0.19167260380625883)}\n",
      "Current parameters: ['The color red', 'Explanatory descriptions of the color red and its associations', 'Color terms used as descriptive adjectives', 'Discussion of Blue Ocean Strategy business framework']\n",
      "\n",
      "\n",
      "\n"
     ]
    },
    {
     "name": "stderr",
     "output_type": "stream",
     "text": [
      "/Users/keenanpepper/halligan/.venv/lib/python3.12/site-packages/ax/modelbridge/cross_validation.py:463: UserWarning: Encountered exception in computing model fit quality: RandomModelBridge does not support prediction.\n",
      "  warn(\"Encountered exception in computing model fit quality: \" + str(e))\n",
      "/Users/keenanpepper/halligan/.venv/lib/python3.12/site-packages/ax/modelbridge/cross_validation.py:463: UserWarning: Encountered exception in computing model fit quality: RandomModelBridge does not support prediction.\n",
      "  warn(\"Encountered exception in computing model fit quality: \" + str(e))\n",
      "/Users/keenanpepper/halligan/.venv/lib/python3.12/site-packages/ax/modelbridge/cross_validation.py:463: UserWarning: Encountered exception in computing model fit quality: RandomModelBridge does not support prediction.\n",
      "  warn(\"Encountered exception in computing model fit quality: \" + str(e))\n",
      "/Users/keenanpepper/halligan/.venv/lib/python3.12/site-packages/ax/modelbridge/cross_validation.py:463: UserWarning: Encountered exception in computing model fit quality: RandomModelBridge does not support prediction.\n",
      "  warn(\"Encountered exception in computing model fit quality: \" + str(e))\n",
      "/Users/keenanpepper/halligan/.venv/lib/python3.12/site-packages/ax/modelbridge/cross_validation.py:463: UserWarning: Encountered exception in computing model fit quality: RandomModelBridge does not support prediction.\n",
      "  warn(\"Encountered exception in computing model fit quality: \" + str(e))\n",
      "/Users/keenanpepper/halligan/.venv/lib/python3.12/site-packages/ax/modelbridge/cross_validation.py:463: UserWarning: Encountered exception in computing model fit quality: RandomModelBridge does not support prediction.\n",
      "  warn(\"Encountered exception in computing model fit quality: \" + str(e))\n",
      "/Users/keenanpepper/halligan/.venv/lib/python3.12/site-packages/ax/modelbridge/cross_validation.py:463: UserWarning: Encountered exception in computing model fit quality: RandomModelBridge does not support prediction.\n",
      "  warn(\"Encountered exception in computing model fit quality: \" + str(e))\n",
      "/Users/keenanpepper/halligan/.venv/lib/python3.12/site-packages/ax/modelbridge/cross_validation.py:463: UserWarning: Encountered exception in computing model fit quality: RandomModelBridge does not support prediction.\n",
      "  warn(\"Encountered exception in computing model fit quality: \" + str(e))\n"
     ]
    },
    {
     "name": "stdout",
     "output_type": "stream",
     "text": [
      "Importance scores: {'31815': np.float64(1.3910348699795576), '28087': np.float64(2.7019012342540787), '63676': np.float64(0.08467533303854768), '56422': np.float64(-0.054502441706694604)}\n"
     ]
    },
    {
     "name": "stderr",
     "output_type": "stream",
     "text": [
      "2025-02-18 17:13:02,201 - src.halligan.parameter_search - INFO - Retained parameters: ['31815', '28087']\n",
      "2025-02-18 17:13:02,201 - src.halligan.parameter_search - INFO - New parameters added: ['1256', '22844']\n",
      "2025-02-18 17:13:02,202 - src.halligan.parameter_search - INFO - Starting outer iteration 3/5\n",
      "[INFO 02-18 17:13:02] ax.service.utils.instantiation: Inferred value type of ParameterType.FLOAT for parameter 31815. If that is not the expected value type, you can explicitly specify 'value_type' ('int', 'float', 'bool' or 'str') in parameter dict.\n",
      "[INFO 02-18 17:13:02] ax.service.utils.instantiation: Inferred value type of ParameterType.FLOAT for parameter 28087. If that is not the expected value type, you can explicitly specify 'value_type' ('int', 'float', 'bool' or 'str') in parameter dict.\n",
      "[INFO 02-18 17:13:02] ax.service.utils.instantiation: Inferred value type of ParameterType.FLOAT for parameter 1256. If that is not the expected value type, you can explicitly specify 'value_type' ('int', 'float', 'bool' or 'str') in parameter dict.\n",
      "[INFO 02-18 17:13:02] ax.service.utils.instantiation: Inferred value type of ParameterType.FLOAT for parameter 22844. If that is not the expected value type, you can explicitly specify 'value_type' ('int', 'float', 'bool' or 'str') in parameter dict.\n",
      "[INFO 02-18 17:13:02] ax.service.utils.instantiation: Created search space: SearchSpace(parameters=[RangeParameter(name='31815', parameter_type=FLOAT, range=[-1.0, 1.0]), RangeParameter(name='28087', parameter_type=FLOAT, range=[-1.0, 1.0]), RangeParameter(name='1256', parameter_type=FLOAT, range=[-1.0, 1.0]), RangeParameter(name='22844', parameter_type=FLOAT, range=[-1.0, 1.0])], parameter_constraints=[]).\n",
      "[INFO 02-18 17:13:02] ax.modelbridge.dispatch_utils: Using Models.BOTORCH_MODULAR since there is at least one ordered parameter and there are no unordered categorical parameters.\n",
      "[INFO 02-18 17:13:02] ax.modelbridge.dispatch_utils: Calculating the number of remaining initialization trials based on num_initialization_trials=None max_initialization_trials=None num_tunable_parameters=4 num_trials=None use_batch_trials=False\n",
      "[INFO 02-18 17:13:02] ax.modelbridge.dispatch_utils: calculated num_initialization_trials=8\n",
      "[INFO 02-18 17:13:02] ax.modelbridge.dispatch_utils: num_completed_initialization_trials=0 num_remaining_initialization_trials=8\n",
      "[INFO 02-18 17:13:02] ax.modelbridge.dispatch_utils: `verbose`, `disable_progbar`, and `jit_compile` are not yet supported when using `choose_generation_strategy` with ModularBoTorchModel, dropping these arguments.\n",
      "[INFO 02-18 17:13:02] ax.modelbridge.dispatch_utils: Using Bayesian Optimization generation strategy: GenerationStrategy(name='Sobol+BoTorch', steps=[Sobol for 8 trials, BoTorch for subsequent trials]). Iterations after 8 will take longer to generate due to model-fitting.\n",
      "/Users/keenanpepper/halligan/.venv/lib/python3.12/site-packages/ax/modelbridge/cross_validation.py:463: UserWarning: Encountered exception in computing model fit quality: RandomModelBridge does not support prediction.\n",
      "  warn(\"Encountered exception in computing model fit quality: \" + str(e))\n"
     ]
    },
    {
     "name": "stdout",
     "output_type": "stream",
     "text": [
      "\n",
      "\n",
      "\n",
      "Best importance scores: {'The color red': np.float64(3.027441981891481), 'Explanatory descriptions of the color red and its associations': np.float64(2.7019012342540787), 'Color terms used as descriptive adjectives': np.float64(0.08467533303854768), 'Enterprise software products with Red in their name': np.float64(0.03420946299148486), 'Discussion of Blue Ocean Strategy business framework': np.float64(-0.054502441706694604), 'The color yellow': np.float64(-0.19167260380625883)}\n",
      "Current parameters: ['The color red', 'Explanatory descriptions of the color red and its associations', 'The word pink appearing in text', 'Descriptions of redheaded people and associated descriptive language patterns']\n",
      "\n",
      "\n",
      "\n"
     ]
    },
    {
     "name": "stderr",
     "output_type": "stream",
     "text": [
      "/Users/keenanpepper/halligan/.venv/lib/python3.12/site-packages/ax/modelbridge/cross_validation.py:463: UserWarning: Encountered exception in computing model fit quality: RandomModelBridge does not support prediction.\n",
      "  warn(\"Encountered exception in computing model fit quality: \" + str(e))\n",
      "/Users/keenanpepper/halligan/.venv/lib/python3.12/site-packages/ax/modelbridge/cross_validation.py:463: UserWarning: Encountered exception in computing model fit quality: RandomModelBridge does not support prediction.\n",
      "  warn(\"Encountered exception in computing model fit quality: \" + str(e))\n",
      "/Users/keenanpepper/halligan/.venv/lib/python3.12/site-packages/ax/modelbridge/cross_validation.py:463: UserWarning: Encountered exception in computing model fit quality: RandomModelBridge does not support prediction.\n",
      "  warn(\"Encountered exception in computing model fit quality: \" + str(e))\n",
      "/Users/keenanpepper/halligan/.venv/lib/python3.12/site-packages/ax/modelbridge/cross_validation.py:463: UserWarning: Encountered exception in computing model fit quality: RandomModelBridge does not support prediction.\n",
      "  warn(\"Encountered exception in computing model fit quality: \" + str(e))\n",
      "/Users/keenanpepper/halligan/.venv/lib/python3.12/site-packages/ax/modelbridge/cross_validation.py:463: UserWarning: Encountered exception in computing model fit quality: RandomModelBridge does not support prediction.\n",
      "  warn(\"Encountered exception in computing model fit quality: \" + str(e))\n",
      "/Users/keenanpepper/halligan/.venv/lib/python3.12/site-packages/ax/modelbridge/cross_validation.py:463: UserWarning: Encountered exception in computing model fit quality: RandomModelBridge does not support prediction.\n",
      "  warn(\"Encountered exception in computing model fit quality: \" + str(e))\n",
      "/Users/keenanpepper/halligan/.venv/lib/python3.12/site-packages/ax/modelbridge/cross_validation.py:463: UserWarning: Encountered exception in computing model fit quality: RandomModelBridge does not support prediction.\n",
      "  warn(\"Encountered exception in computing model fit quality: \" + str(e))\n"
     ]
    },
    {
     "name": "stdout",
     "output_type": "stream",
     "text": [
      "Importance scores: {'31815': np.float64(-0.23682635802807184), '28087': np.float64(5.307829172437381), '1256': np.float64(3.627944473216731), '22844': np.float64(1.6746537345537398)}\n"
     ]
    },
    {
     "name": "stderr",
     "output_type": "stream",
     "text": [
      "2025-02-18 17:13:48,851 - src.halligan.parameter_search - INFO - Retained parameters: ['28087', '1256']\n",
      "2025-02-18 17:13:48,851 - src.halligan.parameter_search - INFO - New parameters added: ['59234', '61432']\n",
      "2025-02-18 17:13:48,852 - src.halligan.parameter_search - INFO - Starting outer iteration 4/5\n",
      "[INFO 02-18 17:13:48] ax.service.utils.instantiation: Inferred value type of ParameterType.FLOAT for parameter 28087. If that is not the expected value type, you can explicitly specify 'value_type' ('int', 'float', 'bool' or 'str') in parameter dict.\n",
      "[INFO 02-18 17:13:48] ax.service.utils.instantiation: Inferred value type of ParameterType.FLOAT for parameter 1256. If that is not the expected value type, you can explicitly specify 'value_type' ('int', 'float', 'bool' or 'str') in parameter dict.\n",
      "[INFO 02-18 17:13:48] ax.service.utils.instantiation: Inferred value type of ParameterType.FLOAT for parameter 59234. If that is not the expected value type, you can explicitly specify 'value_type' ('int', 'float', 'bool' or 'str') in parameter dict.\n",
      "[INFO 02-18 17:13:48] ax.service.utils.instantiation: Inferred value type of ParameterType.FLOAT for parameter 61432. If that is not the expected value type, you can explicitly specify 'value_type' ('int', 'float', 'bool' or 'str') in parameter dict.\n",
      "[INFO 02-18 17:13:48] ax.service.utils.instantiation: Created search space: SearchSpace(parameters=[RangeParameter(name='28087', parameter_type=FLOAT, range=[-1.0, 1.0]), RangeParameter(name='1256', parameter_type=FLOAT, range=[-1.0, 1.0]), RangeParameter(name='59234', parameter_type=FLOAT, range=[-1.0, 1.0]), RangeParameter(name='61432', parameter_type=FLOAT, range=[-1.0, 1.0])], parameter_constraints=[]).\n",
      "[INFO 02-18 17:13:48] ax.modelbridge.dispatch_utils: Using Models.BOTORCH_MODULAR since there is at least one ordered parameter and there are no unordered categorical parameters.\n",
      "[INFO 02-18 17:13:48] ax.modelbridge.dispatch_utils: Calculating the number of remaining initialization trials based on num_initialization_trials=None max_initialization_trials=None num_tunable_parameters=4 num_trials=None use_batch_trials=False\n",
      "[INFO 02-18 17:13:48] ax.modelbridge.dispatch_utils: calculated num_initialization_trials=8\n",
      "[INFO 02-18 17:13:48] ax.modelbridge.dispatch_utils: num_completed_initialization_trials=0 num_remaining_initialization_trials=8\n",
      "[INFO 02-18 17:13:48] ax.modelbridge.dispatch_utils: `verbose`, `disable_progbar`, and `jit_compile` are not yet supported when using `choose_generation_strategy` with ModularBoTorchModel, dropping these arguments.\n",
      "[INFO 02-18 17:13:48] ax.modelbridge.dispatch_utils: Using Bayesian Optimization generation strategy: GenerationStrategy(name='Sobol+BoTorch', steps=[Sobol for 8 trials, BoTorch for subsequent trials]). Iterations after 8 will take longer to generate due to model-fitting.\n"
     ]
    },
    {
     "name": "stdout",
     "output_type": "stream",
     "text": [
      "\n",
      "\n",
      "\n",
      "Best importance scores: {'Explanatory descriptions of the color red and its associations': np.float64(5.307829172437381), 'The word pink appearing in text': np.float64(3.627944473216731), 'The color red': np.float64(3.027441981891481), 'Descriptions of redheaded people and associated descriptive language patterns': np.float64(1.6746537345537398), 'Color terms used as descriptive adjectives': np.float64(0.08467533303854768), 'Enterprise software products with Red in their name': np.float64(0.03420946299148486), 'Discussion of Blue Ocean Strategy business framework': np.float64(-0.054502441706694604), 'The color yellow': np.float64(-0.19167260380625883)}\n",
      "Current parameters: ['Explanatory descriptions of the color red and its associations', 'The word pink appearing in text', 'Descriptions of characters blushing or their faces turning red from emotion', \"Setup phrases in simple jokes, especially 'Because it' in punchlines\"]\n",
      "\n",
      "\n",
      "\n"
     ]
    },
    {
     "name": "stderr",
     "output_type": "stream",
     "text": [
      "/Users/keenanpepper/halligan/.venv/lib/python3.12/site-packages/ax/modelbridge/cross_validation.py:463: UserWarning: Encountered exception in computing model fit quality: RandomModelBridge does not support prediction.\n",
      "  warn(\"Encountered exception in computing model fit quality: \" + str(e))\n",
      "/Users/keenanpepper/halligan/.venv/lib/python3.12/site-packages/ax/modelbridge/cross_validation.py:463: UserWarning: Encountered exception in computing model fit quality: RandomModelBridge does not support prediction.\n",
      "  warn(\"Encountered exception in computing model fit quality: \" + str(e))\n",
      "/Users/keenanpepper/halligan/.venv/lib/python3.12/site-packages/ax/modelbridge/cross_validation.py:463: UserWarning: Encountered exception in computing model fit quality: RandomModelBridge does not support prediction.\n",
      "  warn(\"Encountered exception in computing model fit quality: \" + str(e))\n",
      "/Users/keenanpepper/halligan/.venv/lib/python3.12/site-packages/ax/modelbridge/cross_validation.py:463: UserWarning: Encountered exception in computing model fit quality: RandomModelBridge does not support prediction.\n",
      "  warn(\"Encountered exception in computing model fit quality: \" + str(e))\n",
      "/Users/keenanpepper/halligan/.venv/lib/python3.12/site-packages/ax/modelbridge/cross_validation.py:463: UserWarning: Encountered exception in computing model fit quality: RandomModelBridge does not support prediction.\n",
      "  warn(\"Encountered exception in computing model fit quality: \" + str(e))\n",
      "/Users/keenanpepper/halligan/.venv/lib/python3.12/site-packages/ax/modelbridge/cross_validation.py:463: UserWarning: Encountered exception in computing model fit quality: RandomModelBridge does not support prediction.\n",
      "  warn(\"Encountered exception in computing model fit quality: \" + str(e))\n",
      "/Users/keenanpepper/halligan/.venv/lib/python3.12/site-packages/ax/modelbridge/cross_validation.py:463: UserWarning: Encountered exception in computing model fit quality: RandomModelBridge does not support prediction.\n",
      "  warn(\"Encountered exception in computing model fit quality: \" + str(e))\n",
      "/Users/keenanpepper/halligan/.venv/lib/python3.12/site-packages/ax/modelbridge/cross_validation.py:463: UserWarning: Encountered exception in computing model fit quality: RandomModelBridge does not support prediction.\n",
      "  warn(\"Encountered exception in computing model fit quality: \" + str(e))\n"
     ]
    },
    {
     "name": "stdout",
     "output_type": "stream",
     "text": [
      "Importance scores: {'28087': np.float64(11.316747386404476), '1256': np.float64(0.036396728423003566), '59234': np.float64(4.927358803301345), '61432': np.float64(0.3297991792932562)}\n"
     ]
    },
    {
     "name": "stderr",
     "output_type": "stream",
     "text": [
      "2025-02-18 17:14:35,287 - src.halligan.parameter_search - INFO - Retained parameters: ['28087', '59234']\n",
      "2025-02-18 17:14:35,287 - src.halligan.parameter_search - INFO - New parameters added: ['52155', '51771']\n",
      "2025-02-18 17:14:35,288 - src.halligan.parameter_search - INFO - Starting outer iteration 5/5\n",
      "[INFO 02-18 17:14:35] ax.service.utils.instantiation: Inferred value type of ParameterType.FLOAT for parameter 28087. If that is not the expected value type, you can explicitly specify 'value_type' ('int', 'float', 'bool' or 'str') in parameter dict.\n",
      "[INFO 02-18 17:14:35] ax.service.utils.instantiation: Inferred value type of ParameterType.FLOAT for parameter 59234. If that is not the expected value type, you can explicitly specify 'value_type' ('int', 'float', 'bool' or 'str') in parameter dict.\n",
      "[INFO 02-18 17:14:35] ax.service.utils.instantiation: Inferred value type of ParameterType.FLOAT for parameter 52155. If that is not the expected value type, you can explicitly specify 'value_type' ('int', 'float', 'bool' or 'str') in parameter dict.\n",
      "[INFO 02-18 17:14:35] ax.service.utils.instantiation: Inferred value type of ParameterType.FLOAT for parameter 51771. If that is not the expected value type, you can explicitly specify 'value_type' ('int', 'float', 'bool' or 'str') in parameter dict.\n",
      "[INFO 02-18 17:14:35] ax.service.utils.instantiation: Created search space: SearchSpace(parameters=[RangeParameter(name='28087', parameter_type=FLOAT, range=[-1.0, 1.0]), RangeParameter(name='59234', parameter_type=FLOAT, range=[-1.0, 1.0]), RangeParameter(name='52155', parameter_type=FLOAT, range=[-1.0, 1.0]), RangeParameter(name='51771', parameter_type=FLOAT, range=[-1.0, 1.0])], parameter_constraints=[]).\n",
      "[INFO 02-18 17:14:35] ax.modelbridge.dispatch_utils: Using Models.BOTORCH_MODULAR since there is at least one ordered parameter and there are no unordered categorical parameters.\n",
      "[INFO 02-18 17:14:35] ax.modelbridge.dispatch_utils: Calculating the number of remaining initialization trials based on num_initialization_trials=None max_initialization_trials=None num_tunable_parameters=4 num_trials=None use_batch_trials=False\n",
      "[INFO 02-18 17:14:35] ax.modelbridge.dispatch_utils: calculated num_initialization_trials=8\n",
      "[INFO 02-18 17:14:35] ax.modelbridge.dispatch_utils: num_completed_initialization_trials=0 num_remaining_initialization_trials=8\n",
      "[INFO 02-18 17:14:35] ax.modelbridge.dispatch_utils: `verbose`, `disable_progbar`, and `jit_compile` are not yet supported when using `choose_generation_strategy` with ModularBoTorchModel, dropping these arguments.\n",
      "[INFO 02-18 17:14:35] ax.modelbridge.dispatch_utils: Using Bayesian Optimization generation strategy: GenerationStrategy(name='Sobol+BoTorch', steps=[Sobol for 8 trials, BoTorch for subsequent trials]). Iterations after 8 will take longer to generate due to model-fitting.\n"
     ]
    },
    {
     "name": "stdout",
     "output_type": "stream",
     "text": [
      "\n",
      "\n",
      "\n",
      "Best importance scores: {'Explanatory descriptions of the color red and its associations': np.float64(11.316747386404476), 'Descriptions of characters blushing or their faces turning red from emotion': np.float64(4.927358803301345), 'The word pink appearing in text': np.float64(3.627944473216731), 'The color red': np.float64(3.027441981891481), 'Descriptions of redheaded people and associated descriptive language patterns': np.float64(1.6746537345537398), \"Setup phrases in simple jokes, especially 'Because it' in punchlines\": np.float64(0.3297991792932562), 'Color terms used as descriptive adjectives': np.float64(0.08467533303854768), 'Enterprise software products with Red in their name': np.float64(0.03420946299148486), 'Discussion of Blue Ocean Strategy business framework': np.float64(-0.054502441706694604), 'The color yellow': np.float64(-0.19167260380625883)}\n",
      "Current parameters: ['Explanatory descriptions of the color red and its associations', 'Descriptions of characters blushing or their faces turning red from emotion', 'Descriptions of cheeks and cheekbones in beauty and cosmetic contexts', 'Detailed personification in fiction']\n",
      "\n",
      "\n",
      "\n"
     ]
    },
    {
     "name": "stderr",
     "output_type": "stream",
     "text": [
      "/Users/keenanpepper/halligan/.venv/lib/python3.12/site-packages/ax/modelbridge/cross_validation.py:463: UserWarning: Encountered exception in computing model fit quality: RandomModelBridge does not support prediction.\n",
      "  warn(\"Encountered exception in computing model fit quality: \" + str(e))\n",
      "/Users/keenanpepper/halligan/.venv/lib/python3.12/site-packages/ax/modelbridge/cross_validation.py:463: UserWarning: Encountered exception in computing model fit quality: RandomModelBridge does not support prediction.\n",
      "  warn(\"Encountered exception in computing model fit quality: \" + str(e))\n",
      "/Users/keenanpepper/halligan/.venv/lib/python3.12/site-packages/ax/modelbridge/cross_validation.py:463: UserWarning: Encountered exception in computing model fit quality: RandomModelBridge does not support prediction.\n",
      "  warn(\"Encountered exception in computing model fit quality: \" + str(e))\n",
      "/Users/keenanpepper/halligan/.venv/lib/python3.12/site-packages/ax/modelbridge/cross_validation.py:463: UserWarning: Encountered exception in computing model fit quality: RandomModelBridge does not support prediction.\n",
      "  warn(\"Encountered exception in computing model fit quality: \" + str(e))\n",
      "/Users/keenanpepper/halligan/.venv/lib/python3.12/site-packages/ax/modelbridge/cross_validation.py:463: UserWarning: Encountered exception in computing model fit quality: RandomModelBridge does not support prediction.\n",
      "  warn(\"Encountered exception in computing model fit quality: \" + str(e))\n",
      "/Users/keenanpepper/halligan/.venv/lib/python3.12/site-packages/ax/modelbridge/cross_validation.py:463: UserWarning: Encountered exception in computing model fit quality: RandomModelBridge does not support prediction.\n",
      "  warn(\"Encountered exception in computing model fit quality: \" + str(e))\n",
      "/Users/keenanpepper/halligan/.venv/lib/python3.12/site-packages/ax/modelbridge/cross_validation.py:463: UserWarning: Encountered exception in computing model fit quality: RandomModelBridge does not support prediction.\n",
      "  warn(\"Encountered exception in computing model fit quality: \" + str(e))\n",
      "/Users/keenanpepper/halligan/.venv/lib/python3.12/site-packages/ax/modelbridge/cross_validation.py:463: UserWarning: Encountered exception in computing model fit quality: RandomModelBridge does not support prediction.\n",
      "  warn(\"Encountered exception in computing model fit quality: \" + str(e))\n"
     ]
    },
    {
     "name": "stdout",
     "output_type": "stream",
     "text": [
      "Importance scores: {'28087': np.float64(-1.7882960541582984), '59234': np.float64(-0.8717733132995378), '52155': np.float64(-2.1855158349514756), '51771': np.float64(-2.164001047829384)}\n"
     ]
    },
    {
     "name": "stderr",
     "output_type": "stream",
     "text": [
      "2025-02-18 17:15:21,664 - src.halligan.parameter_search - INFO - Retained parameters: ['28087', '59234']\n",
      "2025-02-18 17:15:21,665 - src.halligan.parameter_search - INFO - New parameters added: ['62593', '14735']\n"
     ]
    }
   ],
   "source": [
    "result = iterative_parameter_search(\n",
    "    parameter_generator=get_candidate_parameters,\n",
    "    objective_function=objective_function,\n",
    "    initial_parameters=initial_parameters,\n",
    "    n_best_known_params=2,\n",
    "    n_new_candidate_params=2,\n",
    "    outer_iterations=5,\n",
    "    inner_iterations=20,\n",
    "    maximize=True,\n",
    "    neutral_value=0.0,\n",
    "    display_function=display_function,\n",
    ")"
   ]
  },
  {
   "cell_type": "code",
   "execution_count": 15,
   "metadata": {},
   "outputs": [
    {
     "data": {
      "text/plain": [
       "(AxClient(experiment=Experiment(None)),\n",
       " ['28087', '59234'],\n",
       " ['29816',\n",
       "  '53668',\n",
       "  '63676',\n",
       "  '56422',\n",
       "  '31815',\n",
       "  '22844',\n",
       "  '1256',\n",
       "  '61432',\n",
       "  '52155',\n",
       "  '51771'],\n",
       " {'31815': np.float64(3.027441981891481),\n",
       "  '28087': np.float64(11.316747386404476),\n",
       "  '29816': np.float64(-0.19167260380625883),\n",
       "  '53668': np.float64(0.03420946299148486),\n",
       "  '63676': np.float64(0.08467533303854768),\n",
       "  '56422': np.float64(-0.054502441706694604),\n",
       "  '1256': np.float64(3.627944473216731),\n",
       "  '22844': np.float64(1.6746537345537398),\n",
       "  '59234': np.float64(4.927358803301345),\n",
       "  '61432': np.float64(0.3297991792932562),\n",
       "  '52155': np.float64(-2.1855158349514756),\n",
       "  '51771': np.float64(-2.164001047829384)})"
      ]
     },
     "execution_count": 15,
     "metadata": {},
     "output_type": "execute_result"
    }
   ],
   "source": [
    "result"
   ]
  },
  {
   "cell_type": "code",
   "execution_count": 16,
   "metadata": {},
   "outputs": [
    {
     "data": {
      "text/plain": [
       "{'28087': RangeParameter(name='28087', parameter_type=FLOAT, range=[-1.0, 1.0]),\n",
       " '59234': RangeParameter(name='59234', parameter_type=FLOAT, range=[-1.0, 1.0]),\n",
       " '52155': RangeParameter(name='52155', parameter_type=FLOAT, range=[-1.0, 1.0]),\n",
       " '51771': RangeParameter(name='51771', parameter_type=FLOAT, range=[-1.0, 1.0])}"
      ]
     },
     "execution_count": 16,
     "metadata": {},
     "output_type": "execute_result"
    }
   ],
   "source": [
    "result[0].experiment.parameters"
   ]
  },
  {
   "cell_type": "code",
   "execution_count": 52,
   "metadata": {},
   "outputs": [
    {
     "data": {
      "text/plain": [
       "{63676: Feature(\"Color terms used as descriptive adjectives\"),\n",
       " 26702: Feature(\"Describing physical or abstract properties and characteristics\"),\n",
       " 31815: Feature(\"The color red\"),\n",
       " 53668: Feature(\"Enterprise software products with Red in their name\"),\n",
       " 56422: Feature(\"Discussion of Blue Ocean Strategy business framework\"),\n",
       " 47548: Feature(\"Making bold aesthetic statements or attention-grabbing choices\"),\n",
       " 61432: Feature(\"Setup phrases in simple jokes, especially 'Because it' in punchlines\"),\n",
       " 52155: Feature(\"Descriptions of cheeks and cheekbones in beauty and cosmetic contexts\"),\n",
       " 59234: Feature(\"Descriptions of characters blushing or their faces turning red from emotion\"),\n",
       " 29816: Feature(\"The color yellow\"),\n",
       " 28087: Feature(\"Explanatory descriptions of the color red and its associations\"),\n",
       " 22844: Feature(\"Descriptions of redheaded people and associated descriptive language patterns\")}"
      ]
     },
     "execution_count": 52,
     "metadata": {},
     "output_type": "execute_result"
    }
   ],
   "source": [
    "client.features.lookup(result[1] + result[2], base_variant)"
   ]
  },
  {
   "cell_type": "code",
   "execution_count": 17,
   "metadata": {},
   "outputs": [
    {
     "data": {
      "text/plain": [
       "{'28087': np.float64(0.4270054284564986),\n",
       " '59234': np.float64(1.3435281690673704),\n",
       " '52155': np.float64(0.029785647649950064),\n",
       " '51771': np.float64(0.051300438404772386)}"
      ]
     },
     "execution_count": 17,
     "metadata": {},
     "output_type": "execute_result"
    }
   ],
   "source": [
    "get_feature_importance(result[0], neutral_value=0.0, maximize=True)"
   ]
  },
  {
   "cell_type": "code",
   "execution_count": 18,
   "metadata": {},
   "outputs": [
    {
     "data": {
      "text/plain": [
       "{'28087': np.float64(0.4270054289224636),\n",
       " '59234': np.float64(1.3435281697638604),\n",
       " '52155': np.float64(0.029785648112705232),\n",
       " '51771': np.float64(0.05130043559755748)}"
      ]
     },
     "execution_count": 18,
     "metadata": {},
     "output_type": "execute_result"
    }
   ],
   "source": [
    "get_feature_importance(result[0], neutral_value=0.0, maximize=True)"
   ]
  },
  {
   "cell_type": "code",
   "execution_count": 34,
   "metadata": {},
   "outputs": [
    {
     "data": {
      "text/plain": [
       "{'28087': np.float64(0.4270054281771358),\n",
       " '59234': np.float64(1.3435281686483478),\n",
       " '52155': np.float64(0.02978564722700483),\n",
       " '51771': np.float64(0.051300434362269165)}"
      ]
     },
     "execution_count": 34,
     "metadata": {},
     "output_type": "execute_result"
    }
   ],
   "source": [
    "get_feature_importance(result[0], neutral_value=0.0, maximize=True)"
   ]
  },
  {
   "cell_type": "code",
   "execution_count": 35,
   "metadata": {},
   "outputs": [
    {
     "name": "stderr",
     "output_type": "stream",
     "text": [
      "[WARNING 02-18 17:24:11] ax.service.utils.report_utils: Column reason missing for all trials. Not appending column.\n"
     ]
    },
    {
     "data": {
      "text/html": [
       "<div>\n",
       "<style scoped>\n",
       "    .dataframe tbody tr th:only-of-type {\n",
       "        vertical-align: middle;\n",
       "    }\n",
       "\n",
       "    .dataframe tbody tr th {\n",
       "        vertical-align: top;\n",
       "    }\n",
       "\n",
       "    .dataframe thead th {\n",
       "        text-align: right;\n",
       "    }\n",
       "</style>\n",
       "<table border=\"1\" class=\"dataframe\">\n",
       "  <thead>\n",
       "    <tr style=\"text-align: right;\">\n",
       "      <th></th>\n",
       "      <th>trial_index</th>\n",
       "      <th>arm_name</th>\n",
       "      <th>trial_status</th>\n",
       "      <th>generation_method</th>\n",
       "      <th>objective</th>\n",
       "      <th>28087</th>\n",
       "      <th>59234</th>\n",
       "      <th>52155</th>\n",
       "      <th>51771</th>\n",
       "    </tr>\n",
       "  </thead>\n",
       "  <tbody>\n",
       "    <tr>\n",
       "      <th>0</th>\n",
       "      <td>0</td>\n",
       "      <td>0_0</td>\n",
       "      <td>COMPLETED</td>\n",
       "      <td>Sobol</td>\n",
       "      <td>-2.795823</td>\n",
       "      <td>-0.712859</td>\n",
       "      <td>-0.918937</td>\n",
       "      <td>-0.822593</td>\n",
       "      <td>-0.015031</td>\n",
       "    </tr>\n",
       "    <tr>\n",
       "      <th>1</th>\n",
       "      <td>1</td>\n",
       "      <td>1_0</td>\n",
       "      <td>COMPLETED</td>\n",
       "      <td>Sobol</td>\n",
       "      <td>-8.801599</td>\n",
       "      <td>0.825829</td>\n",
       "      <td>0.231215</td>\n",
       "      <td>0.588376</td>\n",
       "      <td>0.130167</td>\n",
       "    </tr>\n",
       "    <tr>\n",
       "      <th>2</th>\n",
       "      <td>2</td>\n",
       "      <td>2_0</td>\n",
       "      <td>COMPLETED</td>\n",
       "      <td>Sobol</td>\n",
       "      <td>-6.769167</td>\n",
       "      <td>0.055169</td>\n",
       "      <td>-0.018237</td>\n",
       "      <td>-0.126197</td>\n",
       "      <td>-0.531794</td>\n",
       "    </tr>\n",
       "    <tr>\n",
       "      <th>3</th>\n",
       "      <td>3</td>\n",
       "      <td>3_0</td>\n",
       "      <td>COMPLETED</td>\n",
       "      <td>Sobol</td>\n",
       "      <td>-6.916401</td>\n",
       "      <td>-0.418150</td>\n",
       "      <td>0.830638</td>\n",
       "      <td>0.391676</td>\n",
       "      <td>0.666629</td>\n",
       "    </tr>\n",
       "    <tr>\n",
       "      <th>4</th>\n",
       "      <td>4</td>\n",
       "      <td>4_0</td>\n",
       "      <td>COMPLETED</td>\n",
       "      <td>Sobol</td>\n",
       "      <td>-13.095476</td>\n",
       "      <td>-0.062890</td>\n",
       "      <td>-0.423244</td>\n",
       "      <td>0.987969</td>\n",
       "      <td>0.751937</td>\n",
       "    </tr>\n",
       "    <tr>\n",
       "      <th>5</th>\n",
       "      <td>5</td>\n",
       "      <td>5_0</td>\n",
       "      <td>COMPLETED</td>\n",
       "      <td>Sobol</td>\n",
       "      <td>-0.005582</td>\n",
       "      <td>0.457243</td>\n",
       "      <td>0.735689</td>\n",
       "      <td>-0.722185</td>\n",
       "      <td>-0.886558</td>\n",
       "    </tr>\n",
       "    <tr>\n",
       "      <th>6</th>\n",
       "      <td>6</td>\n",
       "      <td>6_0</td>\n",
       "      <td>COMPLETED</td>\n",
       "      <td>Sobol</td>\n",
       "      <td>-0.001953</td>\n",
       "      <td>0.658141</td>\n",
       "      <td>-0.514861</td>\n",
       "      <td>0.055428</td>\n",
       "      <td>0.294987</td>\n",
       "    </tr>\n",
       "    <tr>\n",
       "      <th>7</th>\n",
       "      <td>7</td>\n",
       "      <td>7_0</td>\n",
       "      <td>COMPLETED</td>\n",
       "      <td>Sobol</td>\n",
       "      <td>-6.166072</td>\n",
       "      <td>-0.802483</td>\n",
       "      <td>0.327186</td>\n",
       "      <td>-0.289950</td>\n",
       "      <td>-0.410398</td>\n",
       "    </tr>\n",
       "    <tr>\n",
       "      <th>8</th>\n",
       "      <td>8</td>\n",
       "      <td>8_0</td>\n",
       "      <td>COMPLETED</td>\n",
       "      <td>BoTorch</td>\n",
       "      <td>-1.479064</td>\n",
       "      <td>1.000000</td>\n",
       "      <td>-1.000000</td>\n",
       "      <td>-0.045774</td>\n",
       "      <td>0.656520</td>\n",
       "    </tr>\n",
       "    <tr>\n",
       "      <th>9</th>\n",
       "      <td>9</td>\n",
       "      <td>9_0</td>\n",
       "      <td>COMPLETED</td>\n",
       "      <td>BoTorch</td>\n",
       "      <td>-0.025442</td>\n",
       "      <td>0.057660</td>\n",
       "      <td>0.588517</td>\n",
       "      <td>-0.923838</td>\n",
       "      <td>-0.684560</td>\n",
       "    </tr>\n",
       "    <tr>\n",
       "      <th>10</th>\n",
       "      <td>10</td>\n",
       "      <td>10_0</td>\n",
       "      <td>COMPLETED</td>\n",
       "      <td>BoTorch</td>\n",
       "      <td>-2.951345</td>\n",
       "      <td>1.000000</td>\n",
       "      <td>-0.288449</td>\n",
       "      <td>-0.871153</td>\n",
       "      <td>-1.000000</td>\n",
       "    </tr>\n",
       "    <tr>\n",
       "      <th>11</th>\n",
       "      <td>11</td>\n",
       "      <td>11_0</td>\n",
       "      <td>COMPLETED</td>\n",
       "      <td>BoTorch</td>\n",
       "      <td>-1.113046</td>\n",
       "      <td>0.925178</td>\n",
       "      <td>1.000000</td>\n",
       "      <td>-0.796332</td>\n",
       "      <td>-0.439455</td>\n",
       "    </tr>\n",
       "    <tr>\n",
       "      <th>12</th>\n",
       "      <td>12</td>\n",
       "      <td>12_0</td>\n",
       "      <td>COMPLETED</td>\n",
       "      <td>BoTorch</td>\n",
       "      <td>-2.106949</td>\n",
       "      <td>-1.000000</td>\n",
       "      <td>1.000000</td>\n",
       "      <td>-0.831162</td>\n",
       "      <td>-0.945709</td>\n",
       "    </tr>\n",
       "    <tr>\n",
       "      <th>13</th>\n",
       "      <td>13</td>\n",
       "      <td>13_0</td>\n",
       "      <td>COMPLETED</td>\n",
       "      <td>BoTorch</td>\n",
       "      <td>-6.951557</td>\n",
       "      <td>-0.497134</td>\n",
       "      <td>-1.000000</td>\n",
       "      <td>0.053539</td>\n",
       "      <td>0.369621</td>\n",
       "    </tr>\n",
       "    <tr>\n",
       "      <th>14</th>\n",
       "      <td>14</td>\n",
       "      <td>14_0</td>\n",
       "      <td>COMPLETED</td>\n",
       "      <td>BoTorch</td>\n",
       "      <td>-0.864816</td>\n",
       "      <td>1.000000</td>\n",
       "      <td>-0.406454</td>\n",
       "      <td>0.147760</td>\n",
       "      <td>0.524938</td>\n",
       "    </tr>\n",
       "    <tr>\n",
       "      <th>15</th>\n",
       "      <td>15</td>\n",
       "      <td>15_0</td>\n",
       "      <td>COMPLETED</td>\n",
       "      <td>BoTorch</td>\n",
       "      <td>-0.053743</td>\n",
       "      <td>0.205472</td>\n",
       "      <td>1.000000</td>\n",
       "      <td>-0.785437</td>\n",
       "      <td>-0.147279</td>\n",
       "    </tr>\n",
       "    <tr>\n",
       "      <th>16</th>\n",
       "      <td>16</td>\n",
       "      <td>16_0</td>\n",
       "      <td>COMPLETED</td>\n",
       "      <td>BoTorch</td>\n",
       "      <td>-0.109277</td>\n",
       "      <td>1.000000</td>\n",
       "      <td>-0.617152</td>\n",
       "      <td>-0.177120</td>\n",
       "      <td>0.588953</td>\n",
       "    </tr>\n",
       "    <tr>\n",
       "      <th>17</th>\n",
       "      <td>17</td>\n",
       "      <td>17_0</td>\n",
       "      <td>COMPLETED</td>\n",
       "      <td>BoTorch</td>\n",
       "      <td>-1.462815</td>\n",
       "      <td>1.000000</td>\n",
       "      <td>-0.669463</td>\n",
       "      <td>0.033856</td>\n",
       "      <td>-0.778499</td>\n",
       "    </tr>\n",
       "    <tr>\n",
       "      <th>18</th>\n",
       "      <td>18</td>\n",
       "      <td>18_0</td>\n",
       "      <td>COMPLETED</td>\n",
       "      <td>BoTorch</td>\n",
       "      <td>-2.303953</td>\n",
       "      <td>1.000000</td>\n",
       "      <td>-0.636227</td>\n",
       "      <td>0.024439</td>\n",
       "      <td>1.000000</td>\n",
       "    </tr>\n",
       "    <tr>\n",
       "      <th>19</th>\n",
       "      <td>19</td>\n",
       "      <td>19_0</td>\n",
       "      <td>COMPLETED</td>\n",
       "      <td>BoTorch</td>\n",
       "      <td>-2.349930</td>\n",
       "      <td>1.000000</td>\n",
       "      <td>0.371137</td>\n",
       "      <td>-0.113592</td>\n",
       "      <td>0.169336</td>\n",
       "    </tr>\n",
       "  </tbody>\n",
       "</table>\n",
       "</div>"
      ],
      "text/plain": [
       "    trial_index arm_name trial_status generation_method  objective     28087  \\\n",
       "0             0      0_0    COMPLETED             Sobol  -2.795823 -0.712859   \n",
       "1             1      1_0    COMPLETED             Sobol  -8.801599  0.825829   \n",
       "2             2      2_0    COMPLETED             Sobol  -6.769167  0.055169   \n",
       "3             3      3_0    COMPLETED             Sobol  -6.916401 -0.418150   \n",
       "4             4      4_0    COMPLETED             Sobol -13.095476 -0.062890   \n",
       "5             5      5_0    COMPLETED             Sobol  -0.005582  0.457243   \n",
       "6             6      6_0    COMPLETED             Sobol  -0.001953  0.658141   \n",
       "7             7      7_0    COMPLETED             Sobol  -6.166072 -0.802483   \n",
       "8             8      8_0    COMPLETED           BoTorch  -1.479064  1.000000   \n",
       "9             9      9_0    COMPLETED           BoTorch  -0.025442  0.057660   \n",
       "10           10     10_0    COMPLETED           BoTorch  -2.951345  1.000000   \n",
       "11           11     11_0    COMPLETED           BoTorch  -1.113046  0.925178   \n",
       "12           12     12_0    COMPLETED           BoTorch  -2.106949 -1.000000   \n",
       "13           13     13_0    COMPLETED           BoTorch  -6.951557 -0.497134   \n",
       "14           14     14_0    COMPLETED           BoTorch  -0.864816  1.000000   \n",
       "15           15     15_0    COMPLETED           BoTorch  -0.053743  0.205472   \n",
       "16           16     16_0    COMPLETED           BoTorch  -0.109277  1.000000   \n",
       "17           17     17_0    COMPLETED           BoTorch  -1.462815  1.000000   \n",
       "18           18     18_0    COMPLETED           BoTorch  -2.303953  1.000000   \n",
       "19           19     19_0    COMPLETED           BoTorch  -2.349930  1.000000   \n",
       "\n",
       "       59234     52155     51771  \n",
       "0  -0.918937 -0.822593 -0.015031  \n",
       "1   0.231215  0.588376  0.130167  \n",
       "2  -0.018237 -0.126197 -0.531794  \n",
       "3   0.830638  0.391676  0.666629  \n",
       "4  -0.423244  0.987969  0.751937  \n",
       "5   0.735689 -0.722185 -0.886558  \n",
       "6  -0.514861  0.055428  0.294987  \n",
       "7   0.327186 -0.289950 -0.410398  \n",
       "8  -1.000000 -0.045774  0.656520  \n",
       "9   0.588517 -0.923838 -0.684560  \n",
       "10 -0.288449 -0.871153 -1.000000  \n",
       "11  1.000000 -0.796332 -0.439455  \n",
       "12  1.000000 -0.831162 -0.945709  \n",
       "13 -1.000000  0.053539  0.369621  \n",
       "14 -0.406454  0.147760  0.524938  \n",
       "15  1.000000 -0.785437 -0.147279  \n",
       "16 -0.617152 -0.177120  0.588953  \n",
       "17 -0.669463  0.033856 -0.778499  \n",
       "18 -0.636227  0.024439  1.000000  \n",
       "19  0.371137 -0.113592  0.169336  "
      ]
     },
     "execution_count": 35,
     "metadata": {},
     "output_type": "execute_result"
    }
   ],
   "source": [
    "result[0].get_trials_data_frame()"
   ]
  },
  {
   "cell_type": "code",
   "execution_count": 39,
   "metadata": {},
   "outputs": [],
   "source": [
    "from ax.service.ax_client import AxClient\n",
    "from ax.service.utils.instantiation import ObjectiveProperties"
   ]
  },
  {
   "cell_type": "code",
   "execution_count": 48,
   "metadata": {},
   "outputs": [
    {
     "data": {
      "text/plain": [
       "[{'name': '28087', 'parameter_type': 'FLOAT', 'range': [-1.0, 1.0]},\n",
       " {'name': '59234', 'parameter_type': 'FLOAT', 'range': [-1.0, 1.0]},\n",
       " {'name': '52155', 'parameter_type': 'FLOAT', 'range': [-1.0, 1.0]},\n",
       " {'name': '51771', 'parameter_type': 'FLOAT', 'range': [-1.0, 1.0]}]"
      ]
     },
     "execution_count": 48,
     "metadata": {},
     "output_type": "execute_result"
    }
   ],
   "source": [
    "[{\"name\": p.name, \"parameter_type\": \"FLOAT\", \"range\": [-1.0, 1.0]} for p in result[0].experiment.parameters.values()]"
   ]
  },
  {
   "cell_type": "code",
   "execution_count": 93,
   "metadata": {},
   "outputs": [
    {
     "name": "stderr",
     "output_type": "stream",
     "text": [
      "[INFO 02-18 17:56:58] ax.service.utils.instantiation: Inferred value type of ParameterType.FLOAT for parameter 28087. If that is not the expected value type, you can explicitly specify 'value_type' ('int', 'float', 'bool' or 'str') in parameter dict.\n",
      "[INFO 02-18 17:56:58] ax.service.utils.instantiation: Inferred value type of ParameterType.FLOAT for parameter 59234. If that is not the expected value type, you can explicitly specify 'value_type' ('int', 'float', 'bool' or 'str') in parameter dict.\n",
      "[INFO 02-18 17:56:58] ax.service.utils.instantiation: Inferred value type of ParameterType.FLOAT for parameter 52155. If that is not the expected value type, you can explicitly specify 'value_type' ('int', 'float', 'bool' or 'str') in parameter dict.\n",
      "[INFO 02-18 17:56:58] ax.service.utils.instantiation: Inferred value type of ParameterType.FLOAT for parameter 51771. If that is not the expected value type, you can explicitly specify 'value_type' ('int', 'float', 'bool' or 'str') in parameter dict.\n",
      "[INFO 02-18 17:56:58] ax.service.utils.instantiation: Created search space: SearchSpace(parameters=[RangeParameter(name='28087', parameter_type=FLOAT, range=[-1.0, 1.0]), RangeParameter(name='59234', parameter_type=FLOAT, range=[-1.0, 1.0]), RangeParameter(name='52155', parameter_type=FLOAT, range=[-1.0, 1.0]), RangeParameter(name='51771', parameter_type=FLOAT, range=[-1.0, 1.0])], parameter_constraints=[]).\n",
      "[INFO 02-18 17:56:58] ax.modelbridge.dispatch_utils: Using Models.BOTORCH_MODULAR since there is at least one ordered parameter and there are no unordered categorical parameters.\n",
      "[INFO 02-18 17:56:58] ax.modelbridge.dispatch_utils: Calculating the number of remaining initialization trials based on num_initialization_trials=None max_initialization_trials=None num_tunable_parameters=4 num_trials=None use_batch_trials=False\n",
      "[INFO 02-18 17:56:58] ax.modelbridge.dispatch_utils: calculated num_initialization_trials=8\n",
      "[INFO 02-18 17:56:58] ax.modelbridge.dispatch_utils: num_completed_initialization_trials=0 num_remaining_initialization_trials=8\n",
      "[INFO 02-18 17:56:58] ax.modelbridge.dispatch_utils: `verbose`, `disable_progbar`, and `jit_compile` are not yet supported when using `choose_generation_strategy` with ModularBoTorchModel, dropping these arguments.\n",
      "[INFO 02-18 17:56:58] ax.modelbridge.dispatch_utils: Using Bayesian Optimization generation strategy: GenerationStrategy(name='Sobol+BoTorch', steps=[Sobol for 8 trials, BoTorch for subsequent trials]). Iterations after 8 will take longer to generate due to model-fitting.\n"
     ]
    }
   ],
   "source": [
    "ax_client = AxClient()\n",
    "ax_client.create_experiment(parameters=[{\"name\": p.name, \"type\": \"range\", \"bounds\": [-1.0, 1.0]} for p in result[0].experiment.parameters.values()], objectives={\"objective\": ObjectiveProperties(minimize=False)})"
   ]
  },
  {
   "cell_type": "code",
   "execution_count": 94,
   "metadata": {},
   "outputs": [
    {
     "name": "stderr",
     "output_type": "stream",
     "text": [
      "/Users/keenanpepper/halligan/.venv/lib/python3.12/site-packages/ax/modelbridge/cross_validation.py:463: UserWarning: Encountered exception in computing model fit quality: RandomModelBridge does not support prediction.\n",
      "  warn(\"Encountered exception in computing model fit quality: \" + str(e))\n",
      "/Users/keenanpepper/halligan/.venv/lib/python3.12/site-packages/ax/modelbridge/cross_validation.py:463: UserWarning: Encountered exception in computing model fit quality: RandomModelBridge does not support prediction.\n",
      "  warn(\"Encountered exception in computing model fit quality: \" + str(e))\n",
      "/Users/keenanpepper/halligan/.venv/lib/python3.12/site-packages/ax/modelbridge/cross_validation.py:463: UserWarning: Encountered exception in computing model fit quality: RandomModelBridge does not support prediction.\n",
      "  warn(\"Encountered exception in computing model fit quality: \" + str(e))\n",
      "/Users/keenanpepper/halligan/.venv/lib/python3.12/site-packages/ax/modelbridge/cross_validation.py:463: UserWarning: Encountered exception in computing model fit quality: RandomModelBridge does not support prediction.\n",
      "  warn(\"Encountered exception in computing model fit quality: \" + str(e))\n",
      "/Users/keenanpepper/halligan/.venv/lib/python3.12/site-packages/ax/modelbridge/cross_validation.py:463: UserWarning: Encountered exception in computing model fit quality: RandomModelBridge does not support prediction.\n",
      "  warn(\"Encountered exception in computing model fit quality: \" + str(e))\n",
      "/Users/keenanpepper/halligan/.venv/lib/python3.12/site-packages/ax/modelbridge/cross_validation.py:463: UserWarning: Encountered exception in computing model fit quality: RandomModelBridge does not support prediction.\n",
      "  warn(\"Encountered exception in computing model fit quality: \" + str(e))\n",
      "/Users/keenanpepper/halligan/.venv/lib/python3.12/site-packages/ax/modelbridge/cross_validation.py:463: UserWarning: Encountered exception in computing model fit quality: RandomModelBridge does not support prediction.\n",
      "  warn(\"Encountered exception in computing model fit quality: \" + str(e))\n",
      "/Users/keenanpepper/halligan/.venv/lib/python3.12/site-packages/ax/modelbridge/cross_validation.py:463: UserWarning: Encountered exception in computing model fit quality: RandomModelBridge does not support prediction.\n",
      "  warn(\"Encountered exception in computing model fit quality: \" + str(e))\n"
     ]
    }
   ],
   "source": [
    "for _ in range(8):\n",
    "    trial, trial_index = ax_client.get_next_trial()\n",
    "    objective = objective_function(trial)\n",
    "    ax_client.complete_trial(trial_index, raw_data={\"objective\": objective})"
   ]
  },
  {
   "cell_type": "code",
   "execution_count": 95,
   "metadata": {},
   "outputs": [],
   "source": [
    "for _ in range(1):\n",
    "    trial, trial_index = ax_client.get_next_trial()\n",
    "    objective = objective_function(trial)\n",
    "    ax_client.complete_trial(trial_index, raw_data={\"objective\": objective})"
   ]
  },
  {
   "cell_type": "code",
   "execution_count": 97,
   "metadata": {},
   "outputs": [],
   "source": [
    "model = ax_client.generation_strategy.model.model.surrogate.model\n",
    "\n",
    "# Before optimization:\n",
    "model.train()  # First put in train mode\n",
    "model.eval()   # Then put in eval mode\n",
    "model.likelihood.eval()  # Make sure likelihood is in eval mode too\n",
    "\n",
    "# Clear the GPyTorch caches\n",
    "if hasattr(model, \"prediction_strategy\"):\n",
    "    model.prediction_strategy = None  # Clear the cached predictions\n",
    "\n",
    "# Force a recomputation of the cache\n",
    "dummy_X = torch.zeros((1, model.train_inputs[0].shape[-1]), device=model.train_inputs[0].device)\n",
    "with torch.no_grad():\n",
    "    model.posterior(dummy_X)"
   ]
  },
  {
   "cell_type": "code",
   "execution_count": 98,
   "metadata": {},
   "outputs": [
    {
     "data": {
      "text/plain": [
       "{'28087': np.float64(3.3714687635920786),\n",
       " '59234': np.float64(-0.9437166073682057),\n",
       " '52155': np.float64(0.430833179489996),\n",
       " '51771': np.float64(-0.17982463099368484)}"
      ]
     },
     "execution_count": 98,
     "metadata": {},
     "output_type": "execute_result"
    }
   ],
   "source": [
    "get_feature_importance(ax_client)"
   ]
  },
  {
   "cell_type": "code",
   "execution_count": 99,
   "metadata": {},
   "outputs": [
    {
     "data": {
      "text/plain": [
       "{'28087': np.float64(4.341524385061879),\n",
       " '59234': np.float64(0.026339014086603996),\n",
       " '52155': np.float64(1.4008888013092955),\n",
       " '51771': np.float64(0.7902309907181051)}"
      ]
     },
     "execution_count": 99,
     "metadata": {},
     "output_type": "execute_result"
    }
   ],
   "source": [
    "get_feature_importance(ax_client)"
   ]
  },
  {
   "cell_type": "code",
   "execution_count": 100,
   "metadata": {},
   "outputs": [
    {
     "data": {
      "text/plain": [
       "{'28087': np.float64(4.341524386520801),\n",
       " '59234': np.float64(0.026339014793803628),\n",
       " '52155': np.float64(1.400888802354065),\n",
       " '51771': np.float64(0.790230991111101)}"
      ]
     },
     "execution_count": 100,
     "metadata": {},
     "output_type": "execute_result"
    }
   ],
   "source": [
    "get_feature_importance(ax_client)"
   ]
  },
  {
   "cell_type": "code",
   "execution_count": 69,
   "metadata": {},
   "outputs": [
    {
     "data": {
      "text/plain": [
       "<Surrogate botorch_model_class=None mll_class=<class 'gpytorch.mlls.exact_marginal_log_likelihood.ExactMarginalLogLikelihood'> outcome_transform_classes=None input_transform_classes=None "
      ]
     },
     "execution_count": 69,
     "metadata": {},
     "output_type": "execute_result"
    }
   ],
   "source": [
    "ax_client.generation_strategy.model.model.surrogate"
   ]
  },
  {
   "cell_type": "markdown",
   "metadata": {},
   "source": [
    "Where I'm at here is I notice that get_feature_importance returns bogus nonsense values the first time it's called, but returns much more reasonable values the second time and beyond."
   ]
  },
  {
   "cell_type": "code",
   "execution_count": null,
   "metadata": {},
   "outputs": [],
   "source": []
  }
 ],
 "metadata": {
  "kernelspec": {
   "display_name": ".venv",
   "language": "python",
   "name": "python3"
  },
  "language_info": {
   "codemirror_mode": {
    "name": "ipython",
    "version": 3
   },
   "file_extension": ".py",
   "mimetype": "text/x-python",
   "name": "python",
   "nbconvert_exporter": "python",
   "pygments_lexer": "ipython3",
   "version": "3.12.8"
  }
 },
 "nbformat": 4,
 "nbformat_minor": 2
}
